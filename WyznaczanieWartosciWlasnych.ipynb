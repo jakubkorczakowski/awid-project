{
 "cells": [
  {
   "cell_type": "markdown",
   "metadata": {},
   "source": [
    "<font size=\"3\">\n",
    "Celem projektu jest zaimplementowanie i przeprowadzanie analizy porównawczej trzech algorytmów wyznaczania wartości i wektorów własnych macierzy z pokazaniem co najmniej dwóch przykładów zastosowania w analizie danych (np. wyznaczanie minimum formy kwadratowej x^TAx, PCA, SVD, pinv, itp...)\n",
    "\n",
    "Proponowane aspekty podlegające porównaniu:\n",
    "<ul>\n",
    "    <li>ogólność i stabilność metod (analiza dziedziny z możliwością zastosowania),</li>\n",
    "    <li>zajętość pamięciowa,</li>\n",
    "    <li>obciążenie procesora,</li>\n",
    "    <li>wrażliwość na błędy danych,</li>\n",
    "    <li>ograniczenia co do rozmiaru macierzy.</li>\n",
    "</ul>\n",
    "\n",
    "Proponowane algorytmy (proszę samodzielnie wybrać 3):\n",
    "<ul>\n",
    "    <li>QR,</li>\n",
    "    <li>Metoda potęgowa,</li>\n",
    "    <li>Householder tranformation,</li>\n",
    "    <li>Lanczos algorithm,</li>\n",
    "    <li>Jacobie eigenvalue algorithm,</li>\n",
    "    <li>Locally Optimal Block Preconditioned Conjugate Gradient (LOBPCG)</li>\n",
    "</ul>\n",
    "Implementacja algorytmów musi być wykonana w sposób możliwie efektywny i kontrolowany.\n",
    "Oznacza to, że należy dołożyć starań, aby uruchamiany kod był możliwie zoptymalizowany.\n",
    "\n",
    "Raport końcowy powinien składać się z czterech części:\n",
    "\n",
    "<ol>\n",
    "    <li>wstępu precyzującego jakie algorytmy i w jakim języku zostały zaimplementowane;</li>\n",
    "    <li>opisu badania, przedstawiającego wybrane przypadki testowe (rodzaje macierzy i jakie cechy tymi macierzami zamierzaliście testować), aspekty porównania oraz (najważniejsze) sposoby i warunki ich pomiaru; w warunkach pomiaru proszę uwzględnić parametry środowiska uruchomieniowego: rozmiar i prędkość pamięci, model procesora, model i typ dysku; niezbędne jest wyszczególnienie wszystkich zastosowanych optymalizacji algorytmów;</li>\n",
    "    <li>sekcji z wynikami przedstawionymi w odpowiedniej formie wizualnej;</li>\n",
    "    <li>podsumowania, odnoszącego się do wyników, obiektywnie zestawiających cechy charakterystyczne tych algorytmów; należy skonfrontować uzyskane wyniki ze spodziewanymi; warto odnieść się w dyskusji do aspektu związane z implementacją algorytmów.\n",
    "    </li>\n",
    "</ol>\n",
    "W raporcie końcowym należy między innymi załączyć wykresy prezentujące przebiegi procesu zbiegania się do rozwiązania."
   ]
  },
  {
   "cell_type": "markdown",
   "metadata": {},
   "source": [
    "### Pierwszy kamień milowy (10.05 23:59)\n",
    "- implementacja trzech algorytmów (potęgowa, jacobi, qr),\n",
    "- optymalizacja (typy, ?),\n",
    "- testy - wstępne, różne wielkości macierzy, na razie losowe macierze?,\n",
    "- sprawozdanie - wstępny opis algorytmów, krótki, złożoność obliczeniowa, charakterystka (podział na podstawie obrazka z http://home.agh.edu.pl/~chwiej/mn/problem_wlasny_2016.pdf), wstępny wykres zbieżności, krótki opis testów (tabelka).\n"
   ]
  },
  {
   "cell_type": "markdown",
   "metadata": {},
   "source": [
    "### Materiały: \n",
    "- performance - https://docs.julialang.org/en/v1/manual/performance-tips/\n",
    "- Python różnice - https://docs.julialang.org/en/v1/manual/noteworthy-differences/#Noteworthy-differences-from-Python\n",
    "- http://home.agh.edu.pl/~chwiej/mn/problem_wlasny_2016.pdf\n",
    "- http://ucidatascienceinitiative.github.io/IntroToJulia/\n",
    "- https://cheatsheets.quantecon.org/\n",
    "- http://ucidatascienceinitiative.github.io/IntroToJulia/Html/ArraysAndMatrices\n",
    "- https://annotate.net/user/Robert-Szmur%C5%82o/awid-05?passid=54561B31-E992-FE1A-5D9E-415434D1D852"
   ]
  },
  {
   "cell_type": "code",
   "execution_count": 1,
   "metadata": {},
   "outputs": [
    {
     "data": {
      "text/plain": [
       "3×3 Matrix{Int64}:\n",
       " 45   1   4\n",
       "  2  56   1\n",
       "  5   9  50"
      ]
     },
     "execution_count": 1,
     "metadata": {},
     "output_type": "execute_result"
    }
   ],
   "source": [
    "A = [45 1 4;\n",
    "    2 56 1;\n",
    "    5 9 50]"
   ]
  },
  {
   "cell_type": "markdown",
   "metadata": {},
   "source": [
    "## Metoda Potęgowa"
   ]
  },
  {
   "cell_type": "code",
   "execution_count": 18,
   "metadata": {},
   "outputs": [],
   "source": [
    "using Pkg\n",
    "Pkg.add(\"PyPlot\")"
   ]
  },
  {
   "cell_type": "code",
   "execution_count": 1,
   "metadata": {},
   "outputs": [],
   "source": [
    "using LinearAlgebra\n",
    "using BenchmarkTools"
   ]
  },
  {
   "cell_type": "code",
   "execution_count": 2,
   "metadata": {},
   "outputs": [],
   "source": [
    "using PyPlot"
   ]
  },
  {
   "cell_type": "code",
   "execution_count": 3,
   "metadata": {},
   "outputs": [
    {
     "data": {
      "text/plain": [
       "potegowa (generic function with 1 method)"
      ]
     },
     "execution_count": 3,
     "metadata": {},
     "output_type": "execute_result"
    }
   ],
   "source": [
    "function potegowa(A, l::Integer)\n",
    "    n = size(A, 1)\n",
    "    x = ones(n, 1)\n",
    "#     local x1\n",
    "    for i in 1:l\n",
    "#         x1 = x  # why do we need x from step i-1 \n",
    "        x = A * x\n",
    "        x = x / norm(x)\n",
    "    end\n",
    "#     λ = x'*A*x/(x'*x)  # why is x1 used here\n",
    "    λ = x'*A*x\n",
    "    return λ, x\n",
    "end"
   ]
  },
  {
   "cell_type": "code",
   "execution_count": 11,
   "metadata": {},
   "outputs": [
    {
     "name": "stdout",
     "output_type": "stream",
     "text": [
      "  26.551 μs (604 allocations: 44.09 KiB)\n"
     ]
    },
    {
     "data": {
      "text/plain": [
       "([58.34154096965294], [0.275294750732188; 0.5667684374955316; 0.7765219497723012])"
      ]
     },
     "execution_count": 11,
     "metadata": {},
     "output_type": "execute_result"
    }
   ],
   "source": [
    "@btime potegowa(A, 100)"
   ]
  },
  {
   "cell_type": "code",
   "execution_count": 4,
   "metadata": {},
   "outputs": [
    {
     "data": {
      "text/plain": [
       "potegowav2 (generic function with 1 method)"
      ]
     },
     "execution_count": 4,
     "metadata": {},
     "output_type": "execute_result"
    }
   ],
   "source": [
    "function potegowav2(A, l::Integer)\n",
    "    n = size(A, 1)\n",
    "#     x = ones(Float64, n, 1)\n",
    "    x = (rand(n) .+ 0.01) .% 1 \n",
    "#     x1 = Array{Float64}\n",
    "    for i in 1:l\n",
    "#         x1 = x  # why do we need x from step i-1 \n",
    "        x = A * x\n",
    "        x = x / norm(x)\n",
    "    end\n",
    "    λ = x'*A*x/(x'*x)\n",
    "#     λ = x'*A*x1/(x'*x1)  # why is x1 used here\n",
    "    return λ, x\n",
    "end"
   ]
  },
  {
   "cell_type": "code",
   "execution_count": 7,
   "metadata": {},
   "outputs": [],
   "source": [
    "# potegowav2(A, 1000)"
   ]
  },
  {
   "cell_type": "code",
   "execution_count": 8,
   "metadata": {},
   "outputs": [],
   "source": [
    "# @btime potegowav2(A, 100)"
   ]
  },
  {
   "cell_type": "code",
   "execution_count": 8,
   "metadata": {},
   "outputs": [
    {
     "data": {
      "text/plain": [
       "Eigen{Float64, Float64, Matrix{Float64}, Vector{Float64}}\n",
       "values:\n",
       "3-element Vector{Float64}:\n",
       " 42.691264195502654\n",
       " 49.967194893786406\n",
       " 58.34154091071096\n",
       "vectors:\n",
       "3×3 Matrix{Float64}:\n",
       " -0.87227     0.556929  -0.275295\n",
       "  0.0950383  -0.31221   -0.566768\n",
       "  0.479701    0.769646  -0.776522"
      ]
     },
     "execution_count": 8,
     "metadata": {},
     "output_type": "execute_result"
    }
   ],
   "source": [
    "eigen(A)"
   ]
  },
  {
   "cell_type": "code",
   "execution_count": 86,
   "metadata": {},
   "outputs": [],
   "source": [
    "# function x = rayleigh(A, epsilon, mu, x)\n",
    "#   x = x / norm(x);\n",
    "#   y = (A - mu * eye(rows(A))) \\ x; \n",
    "#   lambda = y' * x;\n",
    "#   mu = mu + 1 / lambda\n",
    "#   err = norm(y - lambda * x) / norm(y)\n",
    "\n",
    "#   while err > epsilon\n",
    "#     x = y / norm(y);\n",
    "#     y = (A - mu * eye(rows(A))) \\ x;\n",
    "#     lambda = y' * x;\n",
    "#     mu = mu + 1 / lambda\n",
    "#     err = norm(y - lambda * x) / norm(y)\n",
    "#   end\n",
    "\n",
    "# end"
   ]
  },
  {
   "cell_type": "code",
   "execution_count": 87,
   "metadata": {},
   "outputs": [
    {
     "data": {
      "text/plain": [
       "rayleigh_power_method (generic function with 1 method)"
      ]
     },
     "execution_count": 87,
     "metadata": {},
     "output_type": "execute_result"
    }
   ],
   "source": [
    "function rayleigh_power_method(A::Symmetric{Float64}, l::Integer)\n",
    "    n = size(A, 1);\n",
    "    x = ones(n, 1);\n",
    "    mI = eye(n);\n",
    "    mu = rand(1)[1];\n",
    "        \n",
    "    x = x / norm(x);\n",
    "    y = (A - mu*mI) * x;\n",
    "    \n",
    "    for i in 1:l\n",
    "        x = y / norm(y);\n",
    "        y = (A - mu*mI) * x;\n",
    "        λ = y' * x;\n",
    "        mu = mu + 1 / λ[1];\n",
    "    end\n",
    "    λ = x'*A*x\n",
    "    y = y / norm(y);\n",
    "    return λ, y\n",
    "end"
   ]
  },
  {
   "cell_type": "code",
   "execution_count": 88,
   "metadata": {},
   "outputs": [
    {
     "data": {
      "text/plain": [
       "typed_power_method (generic function with 1 method)"
      ]
     },
     "execution_count": 88,
     "metadata": {},
     "output_type": "execute_result"
    }
   ],
   "source": [
    "function typed_power_method(A::Symmetric{Float64}, l::Integer)\n",
    "    n::Int64 = size(A, 1)\n",
    "    x::Array{Float64} = ones(n, 1)\n",
    "    for i::Int64 in 1:l\n",
    "        x = A * x\n",
    "        x = x / norm(x)\n",
    "    end\n",
    "    λ::Float64 = (x'*A*x)[1]\n",
    "    return λ, x\n",
    "end"
   ]
  },
  {
   "cell_type": "markdown",
   "metadata": {},
   "source": [
    "## Metoda Jacobiego"
   ]
  },
  {
   "cell_type": "code",
   "execution_count": 84,
   "metadata": {},
   "outputs": [
    {
     "data": {
      "text/plain": [
       "20×20 Symmetric{Float64, Matrix{Float64}}:\n",
       " -1.0416    -1.1497     1.0045    …   0.653772   -0.425252   -0.794959\n",
       " -1.1497     1.91555    0.127853      1.45825    -1.40081     0.854223\n",
       "  1.0045     0.127853   0.222705      0.390336    0.656504   -1.51989\n",
       " -0.109927  -2.33316    1.02889       0.437442    1.06561    -0.450932\n",
       "  1.63529   -0.388983   0.98495       0.468544   -1.30639    -0.22059\n",
       "  0.816591   0.389294   0.286526  …  -0.274498    0.282884    0.0794235\n",
       " -1.29372   -1.13769    0.660314      0.184289   -0.0710034   1.70539\n",
       " -0.282123   0.63728   -1.5126       -1.2975     -0.0549901   1.1961\n",
       "  1.58065    1.901     -0.146184      1.03441    -0.071854    0.195434\n",
       " -0.924886   0.864634   0.353931      0.293897    0.545125    1.21231\n",
       "  1.26329   -1.88122    0.95019   …  -1.92746     0.56988     0.279614\n",
       " -1.52348   -1.58325    0.351126     -0.0843934  -1.54454     1.38601\n",
       " -0.854837   0.659931   0.260887     -1.39084    -0.281626    0.621587\n",
       " -1.45407    1.36854   -1.73679      -2.04515    -1.13145     0.0255024\n",
       "  0.697676  -1.29691    1.1592        0.201288   -1.98812    -1.14769\n",
       " -0.893629   0.384026  -0.77389   …  -2.3984      0.904891    0.749572\n",
       "  0.898297  -0.111038  -1.50969      -1.96432    -0.921689   -1.77561\n",
       "  0.653772   1.45825    0.390336     -1.99413     0.888347   -0.639089\n",
       " -0.425252  -1.40081    0.656504      0.888347    0.359796    0.599366\n",
       " -0.794959   0.854223  -1.51989      -0.639089    0.599366    0.207604"
      ]
     },
     "metadata": {},
     "output_type": "display_data"
    }
   ],
   "source": [
    "display(B)"
   ]
  },
  {
   "cell_type": "code",
   "execution_count": 70,
   "metadata": {},
   "outputs": [
    {
     "data": {
      "text/plain": [
       "maxst (generic function with 1 method)"
      ]
     },
     "execution_count": 70,
     "metadata": {},
     "output_type": "execute_result"
    }
   ],
   "source": [
    "function eye(n)\n",
    "    return Matrix{Float64}(I,n,n)\n",
    "end\n",
    "\n",
    "function maxst(A)\n",
    "    s = 1;\n",
    "    t = 2;\n",
    "    n = size(A,1);\n",
    "\n",
    "    for c = 2:n\n",
    "        for r = 1:c-1\n",
    "            if abs(A[r,c]) > abs(A[s,t])\n",
    "            s = r;\n",
    "            t = c;\n",
    "            end\n",
    "        end\n",
    "    end\n",
    "    return s,t\n",
    "end\n"
   ]
  },
  {
   "cell_type": "code",
   "execution_count": 71,
   "metadata": {},
   "outputs": [
    {
     "data": {
      "text/plain": [
       "jacobi (generic function with 1 method)"
      ]
     },
     "execution_count": 71,
     "metadata": {},
     "output_type": "execute_result"
    }
   ],
   "source": [
    "function jacobi(A, l::Integer)\n",
    "    n = size(A,1);\n",
    "    for i = 1:l\n",
    "        s,t = maxst(A);\n",
    "        d = sqrt((A[s,s] - A[t,t])^2 + 4*A[s,t]^2);\n",
    "        sin2t = 2*A[s,t]/d;\n",
    "        cos2t = (A[s,s] - A[t,t]) / d;\n",
    "        dt = sqrt(2*(1+cos2t));\n",
    "        sint = abs(sin2t) / dt;\n",
    "        cost = abs((1+ cos2t) / dt);\n",
    "        cost = sign(A[s,t]) * cost;\n",
    "\n",
    "        R = eye(n);\n",
    "        R[s,s] = cost;\n",
    "        R[t,t] = cost;\n",
    "        R[s,t] = -sint;\n",
    "        R[t,s] = sint;\n",
    "        A = R'*A*R;\n",
    "    end\n",
    "    return A\n",
    "end"
   ]
  },
  {
   "cell_type": "code",
   "execution_count": 73,
   "metadata": {},
   "outputs": [
    {
     "data": {
      "text/plain": [
       "20×20 Symmetric{Float64, Matrix{Float64}}:\n",
       " -1.0416    -1.1497     1.0045    …   0.653772   -0.425252   -0.794959\n",
       " -1.1497     1.91555    0.127853      1.45825    -1.40081     0.854223\n",
       "  1.0045     0.127853   0.222705      0.390336    0.656504   -1.51989\n",
       " -0.109927  -2.33316    1.02889       0.437442    1.06561    -0.450932\n",
       "  1.63529   -0.388983   0.98495       0.468544   -1.30639    -0.22059\n",
       "  0.816591   0.389294   0.286526  …  -0.274498    0.282884    0.0794235\n",
       " -1.29372   -1.13769    0.660314      0.184289   -0.0710034   1.70539\n",
       " -0.282123   0.63728   -1.5126       -1.2975     -0.0549901   1.1961\n",
       "  1.58065    1.901     -0.146184      1.03441    -0.071854    0.195434\n",
       " -0.924886   0.864634   0.353931      0.293897    0.545125    1.21231\n",
       "  1.26329   -1.88122    0.95019   …  -1.92746     0.56988     0.279614\n",
       " -1.52348   -1.58325    0.351126     -0.0843934  -1.54454     1.38601\n",
       " -0.854837   0.659931   0.260887     -1.39084    -0.281626    0.621587\n",
       " -1.45407    1.36854   -1.73679      -2.04515    -1.13145     0.0255024\n",
       "  0.697676  -1.29691    1.1592        0.201288   -1.98812    -1.14769\n",
       " -0.893629   0.384026  -0.77389   …  -2.3984      0.904891    0.749572\n",
       "  0.898297  -0.111038  -1.50969      -1.96432    -0.921689   -1.77561\n",
       "  0.653772   1.45825    0.390336     -1.99413     0.888347   -0.639089\n",
       " -0.425252  -1.40081    0.656504      0.888347    0.359796    0.599366\n",
       " -0.794959   0.854223  -1.51989      -0.639089    0.599366    0.207604"
      ]
     },
     "execution_count": 73,
     "metadata": {},
     "output_type": "execute_result"
    }
   ],
   "source": [
    "n = 20\n",
    "A = randn(n,n)\n",
    "B = Symmetric(A)"
   ]
  },
  {
   "cell_type": "code",
   "execution_count": 74,
   "metadata": {},
   "outputs": [
    {
     "data": {
      "text/plain": [
       "20×20 Matrix{Float64}:\n",
       "  4.19763    -0.376168     -1.06293    …  -0.634908    0.383185   -0.894278\n",
       " -0.376168    4.3801        0.597913       1.70356    -1.65314    -0.064644\n",
       " -1.06293     0.597913      0.222705       0.151786   -1.32219    -1.40383\n",
       " -0.168167    0.0707245    -0.975855       0.504667   -0.420723   -0.696011\n",
       " -0.524795    1.39361       1.18338       -0.334163    0.463955    0.787196\n",
       " -0.760103   -0.170915      0.286526   …   0.998265   -1.51656     0.609052\n",
       "  0.029378   -1.70154      -0.118737       0.0321255  -0.146293    0.228252\n",
       "  1.19642    -0.505297     -1.5126         1.39103     1.45122     0.584955\n",
       "  0.144682    1.16015       0.0967035      0.369147   -1.13702     0.178826\n",
       "  1.23714     0.584941      0.940692       0.488072   -0.577954   -0.186176\n",
       " -0.0948859   0.289815      0.242916   …   0.73843     1.20037    -0.2876\n",
       " -0.114652    2.22045e-16   0.596651       0.094753   -0.139921    1.278\n",
       "  0.669167   -0.126658      0.260887       1.3345     -0.686932   -0.730405\n",
       "  0.211008    0.719545      1.31706       -1.61666     0.708913   -0.0490019\n",
       "  0.282439    0.0782408     1.18399       -0.770467    0.0808297   0.511858\n",
       " -0.345296    0.340985     -1.5002     …   0.177544   -0.0683658  -0.0203703\n",
       "  0.398507   -1.12181      -0.708614       0.688152    0.70927     0.777035\n",
       " -0.634908    1.70356       0.151786      -3.79171     0.529818    0.302025\n",
       "  0.383185   -1.65314      -1.32219        0.529818   -2.322      -0.68732\n",
       " -0.894278   -0.064644     -1.40383        0.302025   -0.68732    -4.45865"
      ]
     },
     "metadata": {},
     "output_type": "display_data"
    },
    {
     "data": {
      "text/plain": [
       "20-element Vector{Float64}:\n",
       " -4.458649690637308\n",
       " -2.3219950484604817\n",
       " -3.791706472867072\n",
       " -0.3813243046680391\n",
       "  2.8539226456901625\n",
       " -2.8392031706864524\n",
       "  1.4435258340539647\n",
       " -0.413466463489207\n",
       " -4.620879154296536\n",
       " -4.1019094541145975\n",
       "  1.4542399705640985\n",
       " -2.4449046232604528\n",
       "  1.651661183363925\n",
       "  2.167272450446855\n",
       " -0.3948556590519734\n",
       "  2.8508516959580943\n",
       " -2.698029145619802\n",
       "  0.222705336697178\n",
       "  4.380103868031951\n",
       "  4.197634437272255"
      ]
     },
     "execution_count": 74,
     "metadata": {},
     "output_type": "execute_result"
    }
   ],
   "source": [
    "AJ = jacobi(B, 15)\n",
    "display(AJ)\n",
    "diag(AJ)[end:-1:1]"
   ]
  },
  {
   "cell_type": "code",
   "execution_count": 85,
   "metadata": {},
   "outputs": [
    {
     "data": {
      "text/plain": [
       "Eigen{Float64, Float64, Matrix{Float64}, Vector{Float64}}\n",
       "values:\n",
       "20-element Vector{Float64}:\n",
       " -8.310151419767303\n",
       " -6.871585798925828\n",
       " -5.597638912033418\n",
       " -4.908445655397076\n",
       " -4.223060967659418\n",
       " -3.7448584464023984\n",
       " -3.2506336705603402\n",
       " -2.2582281775979265\n",
       " -1.8332095411229297\n",
       " -0.8405835604758813\n",
       " -0.010450821219958328\n",
       "  0.1470272545286928\n",
       "  1.326031377472746\n",
       "  2.8353484937568485\n",
       "  2.9333489601067217\n",
       "  4.1899405639616045\n",
       "  4.468399084357303\n",
       "  4.982652151013287\n",
       "  6.297966174616171\n",
       "  7.423127146275715\n",
       "vectors:\n",
       "20×20 Matrix{Float64}:\n",
       " -0.19615    -0.409577    -0.0302141   0.0842648  …   0.280669     0.188041\n",
       " -0.28006     0.109997    -0.0538747  -0.142355       0.209039    -0.58587\n",
       "  0.222813   -0.073533     0.204636    0.190321       0.317956     0.303385\n",
       " -0.328055   -0.074345     0.0453012   0.173499      -0.0226419    0.233306\n",
       "  0.113912    0.177282     0.060096   -0.231472       0.0645563    0.197385\n",
       "  0.163925   -0.0730252   -0.282548   -0.326827   …   0.119168    -0.0283844\n",
       " -0.278753   -0.26823     -0.0918127   0.0120037     -0.110414     0.114896\n",
       " -0.0307597   0.00265115  -0.176851    0.165502      -0.176129    -0.324167\n",
       " -0.0123968   0.0609781   -0.0456885  -0.223352       0.296766    -0.248457\n",
       " -0.123684   -0.414428     0.127554   -0.107102      -0.0397632   -0.082944\n",
       "  0.150421    0.372268    -0.373893   -0.176267   …  -0.222243     0.212333\n",
       " -0.124553   -0.212923    -0.235721   -0.427495      -0.218981     0.183541\n",
       "  0.240564   -0.190092    -0.181222   -0.172897      -0.0327878   -0.0249655\n",
       "  0.294494   -0.303247     0.0832689   0.0323498     -0.302315    -0.136678\n",
       " -0.251858    0.388604    -0.109868    0.17163       -0.00282326   0.271069\n",
       " -0.0141709  -0.141199    -0.46015     0.335652   …  -0.352754    -0.0467574\n",
       "  0.342474   -0.0606877    0.323159   -0.195124      -0.226702     0.102539\n",
       "  0.433531   -0.103598    -0.403214    0.265306       0.44799     -0.0241641\n",
       " -0.0773287   0.0661596    0.0628118  -0.326762       0.0697039    0.00793512\n",
       "  0.185176    0.152554     0.284333    0.234325      -0.231261    -0.251711"
      ]
     },
     "execution_count": 85,
     "metadata": {},
     "output_type": "execute_result"
    }
   ],
   "source": [
    "eigen(B)"
   ]
  },
  {
   "cell_type": "markdown",
   "metadata": {},
   "source": [
    "## Metoda QR"
   ]
  },
  {
   "cell_type": "code",
   "execution_count": 7,
   "metadata": {},
   "outputs": [
    {
     "data": {
      "text/plain": [
       "mgs (generic function with 1 method)"
      ]
     },
     "execution_count": 7,
     "metadata": {},
     "output_type": "execute_result"
    }
   ],
   "source": [
    "# TODO zobaczyć czy for po kolumnach\n",
    "function mgs(A)\n",
    "    n = size(A,1);\n",
    "    R = zeros(n, n);\n",
    "    Q = zeros(n, n);\n",
    "    for j = 1:n\n",
    "        v = A[:,j];\n",
    "        for i = 1:j-1\n",
    "            R[i,j] = Q[:,i]'*v;\n",
    "            v = v - R[i,j]*Q[:,i];\n",
    "        end\n",
    "        R[j,j] = norm(v)\n",
    "        Q[:,j] = v / R[j,j]\n",
    "    end\n",
    "    return Q,R\n",
    "end\n",
    "\n"
   ]
  },
  {
   "cell_type": "code",
   "execution_count": 16,
   "metadata": {},
   "outputs": [],
   "source": [
    "# AS = [1 5 6;\n",
    "#     5 23 9;\n",
    "#     6 9 18]"
   ]
  },
  {
   "cell_type": "code",
   "execution_count": 17,
   "metadata": {},
   "outputs": [],
   "source": [
    "test, test2 = mgs(A);"
   ]
  },
  {
   "cell_type": "code",
   "execution_count": 18,
   "metadata": {},
   "outputs": [
    {
     "data": {
      "text/plain": [
       "3×3 Array{Float64,2}:\n",
       " 0.182574  -0.0873505   0.979304\n",
       " 0.365148   0.930829    0.0149512\n",
       " 0.912871  -0.354862   -0.201841"
      ]
     },
     "metadata": {},
     "output_type": "display_data"
    },
    {
     "data": {
      "text/plain": [
       "3×3 Array{Float64,2}:\n",
       " 5.47723  28.8467  12.0499\n",
       " 0.0      48.8453  -3.67691\n",
       " 0.0       0.0      1.51007"
      ]
     },
     "metadata": {},
     "output_type": "display_data"
    }
   ],
   "source": [
    "display(test)\n",
    "display(test2)"
   ]
  },
  {
   "cell_type": "code",
   "execution_count": 8,
   "metadata": {},
   "outputs": [
    {
     "data": {
      "text/plain": [
       "QR_eigen (generic function with 1 method)"
      ]
     },
     "execution_count": 8,
     "metadata": {},
     "output_type": "execute_result"
    }
   ],
   "source": [
    "function QR_eigen(A, l::Integer)\n",
    "    Q,R = mgs(A)\n",
    "    for k = 1:l\n",
    "        Q,R = mgs(A);\n",
    "        A = R*Q;\n",
    "    end\n",
    "    A\n",
    "end"
   ]
  },
  {
   "cell_type": "code",
   "execution_count": 20,
   "metadata": {},
   "outputs": [],
   "source": [
    "# function QR_eigen_rand(l::Integer)\n",
    "#     A = rand(5, 5);\n",
    "#     A = A - tril(A,-1)\n",
    "#     display(eigen(A))\n",
    "#     Q,R = mgs(A)\n",
    "#     for k = 1:l\n",
    "#         Q,R = mgs(A);\n",
    "#         A = R*Q;\n",
    "#     end\n",
    "#     diag(A)[end:-1:1]\n",
    "#     A\n",
    "# end"
   ]
  },
  {
   "cell_type": "code",
   "execution_count": 21,
   "metadata": {},
   "outputs": [],
   "source": [
    "# QR_eigen_rand(100)"
   ]
  },
  {
   "cell_type": "code",
   "execution_count": 76,
   "metadata": {},
   "outputs": [
    {
     "data": {
      "text/plain": [
       "20×20 Matrix{Float64}:\n",
       " -4.96782     -0.323897      0.941596     …   1.9041     -0.13423   -0.463838\n",
       " -0.0861951    2.41894      -2.61677         -0.621176    0.989527  -0.222563\n",
       " -0.111152     0.429067     -0.195061         1.8846      1.51712    0.969424\n",
       " -0.0594712    2.64064       3.30628         -0.549583    0.821649   0.43252\n",
       " -0.0585422    1.3729       -0.145683         0.126312    0.120074  -0.219576\n",
       " -0.0810108    2.12986       0.580073     …  -0.301956   -1.46125    1.83915\n",
       " -0.0171994    0.57517       0.173486         0.50632     1.12449    3.07464\n",
       "  0.00530748   0.159662      0.290846        -0.654177   -0.402855  -0.457848\n",
       " -0.00631972   0.442768      0.119313        -1.16044    -1.54501    0.114486\n",
       " -0.00382499   0.299742      0.384142         0.188271    0.922284  -0.933018\n",
       "  3.27054e-5   0.00342717    0.00761835   …  -1.11314    -0.313077   0.438693\n",
       " -2.37789e-5  -0.000592142  -0.000318109     -1.36258     1.11471    0.24078\n",
       "  8.07417e-5  -0.00227499   -0.00154506      -0.128559   -0.465977   0.485762\n",
       "  8.04713e-5  -0.00160455   -0.00157291       0.125546    1.02724   -0.30188\n",
       " -7.14116e-5   0.00136823    0.00183555      -0.771894   -0.715602  -1.81059\n",
       "  6.30374e-6  -0.000246843  -0.000354876  …  -0.864703    1.315     -2.17919\n",
       "  4.23458e-6  -6.05635e-5   -9.2532e-5        0.131333   -0.913228  -2.40154\n",
       "  1.37695e-6  -4.77068e-5   -7.88307e-5      -1.21436    -0.793904  -0.740691\n",
       " -2.68468e-7  -1.1886e-5     9.7703e-6        0.948008   -0.261518   0.775549\n",
       "  5.09032e-7  -1.6631e-5    -1.64071e-5      -0.0990347  -1.45638    1.57502"
      ]
     },
     "execution_count": 76,
     "metadata": {},
     "output_type": "execute_result"
    }
   ],
   "source": [
    "QR_eigen(A, 15)"
   ]
  },
  {
   "cell_type": "code",
   "execution_count": 81,
   "metadata": {},
   "outputs": [
    {
     "data": {
      "text/plain": [
       "20-element Vector{Float64}:\n",
       "  1.70273143069856\n",
       " -1.989906614879665\n",
       " -0.5592691085702121\n",
       " -0.9446381469199466\n",
       " -1.1123468691388139\n",
       " -0.2833856955207892\n",
       "  1.8023456996323157\n",
       "  1.3577984698093348\n",
       " -0.9735527266986084\n",
       " -2.7638734982501214\n",
       "  0.07502542450686889\n",
       "  1.6943134338640948\n",
       "  3.3848723313438533\n",
       " -0.4644222006083242\n",
       " -2.4921775336944685\n",
       " -3.9110709033700193\n",
       " -3.7660059488022\n",
       "  3.23606298551895\n",
       "  3.736461648862225\n",
       " -4.97396794285648"
      ]
     },
     "execution_count": 81,
     "metadata": {},
     "output_type": "execute_result"
    }
   ],
   "source": [
    "diag(QR_eigen(A, 1000))[end:-1:1]"
   ]
  },
  {
   "cell_type": "code",
   "execution_count": 24,
   "metadata": {},
   "outputs": [
    {
     "data": {
      "text/plain": [
       "3-element Array{Float64,1}:\n",
       " -0.5410990010433575\n",
       " 13.267933534846561\n",
       " 56.27316546619681"
      ]
     },
     "execution_count": 24,
     "metadata": {},
     "output_type": "execute_result"
    }
   ],
   "source": [
    "diag(QR_eigen(A, 150))[end:-1:1]"
   ]
  },
  {
   "cell_type": "code",
   "execution_count": 82,
   "metadata": {},
   "outputs": [
    {
     "data": {
      "text/plain": [
       "Eigen{ComplexF64, ComplexF64, Matrix{ComplexF64}, Vector{ComplexF64}}\n",
       "values:\n",
       "20-element Vector{ComplexF64}:\n",
       " -4.9739679428564765 + 0.0im\n",
       " -3.8385384260860933 - 0.8633110112240614im\n",
       " -3.8385384260860933 + 0.8633110112240614im\n",
       " -1.9899066148796614 + 0.0im\n",
       " -1.8687131124743686 - 1.462606020680378im\n",
       " -1.8687131124743686 + 1.462606020680378im\n",
       " -1.4785307500489346 - 3.075657001791077im\n",
       " -1.4785307500489346 + 3.075657001791077im\n",
       " -0.7519536277450769 - 2.004420082371852im\n",
       " -0.7519536277450769 + 2.004420082371852im\n",
       " -0.6787844305795571 - 2.1248340309857im\n",
       " -0.6787844305795571 + 2.1248340309857im\n",
       "  0.8846694291882966 - 3.1793917938175804im\n",
       "  0.8846694291882966 + 3.1793917938175804im\n",
       "   1.560990232970568 - 1.61725249008637im\n",
       "   1.560990232970568 + 1.61725249008637im\n",
       "  1.7027314306985595 + 0.0im\n",
       "  3.3853340971333323 + 0.0im\n",
       "  3.4862623171905796 - 2.107724275588239im\n",
       "  3.4862623171905796 + 2.107724275588239im\n",
       "vectors:\n",
       "20×20 Matrix{ComplexF64}:\n",
       "    0.346694+0.0im  -0.0427944+0.0125239im  …    -0.13333+0.0297586im\n",
       "   0.0639126+0.0im   -0.303608-0.0435279im       0.377534+0.0im\n",
       " -0.00661668+0.0im    0.107134+0.0405316im      -0.258951-0.0487325im\n",
       "   -0.127427+0.0im  -0.0745276-0.14178im        -0.186848+0.0493931im\n",
       "    -0.17843+0.0im    0.019702+0.0129717im       0.199433-0.0916213im\n",
       "    0.224805+0.0im    0.158076+0.0847284im  …    0.178859-0.0519729im\n",
       "    0.318267+0.0im   0.0635732+0.0513907im       0.107273+0.0937036im\n",
       "    0.265419+0.0im   0.0176624-0.0886571im      0.0534493+0.284221im\n",
       "   -0.049261+0.0im   -0.289154+0.088123im       -0.117869+0.239018im\n",
       "   0.0181358+0.0im    0.377055+0.0741004im       0.246233-0.0542487im\n",
       "    0.102518+0.0im    0.140145+0.0427074im  …  -0.0200928-0.094843im\n",
       "    0.170059+0.0im   -0.248877+0.0960551im     -0.0640864-0.132529im\n",
       "   -0.125239+0.0im    0.102445+0.110473im       0.0332239+0.0473284im\n",
       "    0.171468+0.0im    0.208492+0.109795im      -0.0280328-0.0776463im\n",
       "    0.123514+0.0im   -0.130831-0.144169im        0.200471-0.118692im\n",
       "    0.491868+0.0im     0.19736-0.162537im   …    0.297339-0.118105im\n",
       "   -0.349207+0.0im    0.137077+0.140147im        0.259037-0.0682399im\n",
       "    0.261093+0.0im    0.469089-0.0im            -0.130999-0.00405528im\n",
       "   0.0902997+0.0im   -0.203497+0.056142im       -0.201922+0.121064im\n",
       "   -0.250179+0.0im   0.0211626+0.0305963im       0.111651+0.236532im"
      ]
     },
     "execution_count": 82,
     "metadata": {},
     "output_type": "execute_result"
    }
   ],
   "source": [
    "eigen(A)"
   ]
  },
  {
   "cell_type": "markdown",
   "metadata": {},
   "source": [
    "## Testowanie"
   ]
  },
  {
   "cell_type": "markdown",
   "metadata": {},
   "source": [
    "### Metoda potęgowa "
   ]
  },
  {
   "cell_type": "markdown",
   "metadata": {},
   "source": [
    "1. Macierz z elementami i wektorami własnymi rzeczywistymi"
   ]
  },
  {
   "cell_type": "code",
   "execution_count": 9,
   "metadata": {},
   "outputs": [
    {
     "data": {
      "text/plain": [
       "5×5 Matrix{Float64}:\n",
       "  1.20862      2.79565    1.07564      2.30466   -1.54726\n",
       " -0.0935199    1.99387   -0.41891     -1.76733    4.43762\n",
       "  0.822885    -0.413577   2.98489     -0.212842  -2.11922\n",
       " -0.206438     0.688306   0.00532767   6.07256   -4.40814\n",
       " -0.00681408   0.150147  -0.143493     0.442219   2.74007"
      ]
     },
     "execution_count": 9,
     "metadata": {},
     "output_type": "execute_result"
    }
   ],
   "source": [
    "A = randn(5,5)\n",
    "A = A * diagm(1:5) / A"
   ]
  },
  {
   "cell_type": "code",
   "execution_count": 10,
   "metadata": {},
   "outputs": [
    {
     "data": {
      "text/plain": [
       "5-element Vector{Float64}:\n",
       " 1.0000000000000022\n",
       " 1.9999999999999956\n",
       " 3.0000000000000013\n",
       " 3.9999999999999973\n",
       " 4.999999999999999"
      ]
     },
     "execution_count": 10,
     "metadata": {},
     "output_type": "execute_result"
    }
   ],
   "source": [
    "eigvals(A)"
   ]
  },
  {
   "cell_type": "code",
   "execution_count": 117,
   "metadata": {},
   "outputs": [
    {
     "data": {
      "text/plain": [
       "5-element Vector{Float64}:\n",
       " 4.999999999999997\n",
       " 4.0\n",
       " 3.0000000000000018\n",
       " 2.0000000000000013\n",
       " 1.0"
      ]
     },
     "execution_count": 117,
     "metadata": {},
     "output_type": "execute_result"
    }
   ],
   "source": [
    "λ, X = eigen(A)\n",
    "i = sortperm(λ, by=abs, rev=true) # sort the eigenvalues in descending order by magnitude\n",
    "λ = λ[i]; X = X[:,i]              # and re-order λ and X\n",
    "λ"
   ]
  },
  {
   "cell_type": "code",
   "execution_count": 11,
   "metadata": {},
   "outputs": [
    {
     "data": {
      "text/plain": [
       "5-element Vector{Float64}:\n",
       " 0.2995111809198334\n",
       " 0.24184137984175846\n",
       " 0.18528958147441354\n",
       " 0.21130970859336107\n",
       " 0.7120236065105103"
      ]
     },
     "execution_count": 11,
     "metadata": {},
     "output_type": "execute_result"
    }
   ],
   "source": [
    "x = (rand(5) .+ 0.01) .% 1# arbitrary initial vector\n",
    "# for n = 1:100\n",
    "#     y = x\n",
    "#     for i = 1:n\n",
    "#         y = A*y\n",
    "#         y = y / norm(y)\n",
    "#     end\n",
    "# end\n",
    "x"
   ]
  },
  {
   "cell_type": "code",
   "execution_count": 112,
   "metadata": {},
   "outputs": [
    {
     "data": {
      "image/png": "[encoded data removed]",
      "text/plain": [
       "Figure(PyObject <Figure size 640x480 with 1 Axes>)"
      ]
     },
     "metadata": {},
     "output_type": "display_data"
    },
    {
     "data": {
      "text/plain": [
       "PyObject Text(0.5, 1.0, 'convergence of power method for $\\\\lambda=1,2,3,4,5$')"
      ]
     },
     "execution_count": 112,
     "metadata": {},
     "output_type": "execute_result"
    }
   ],
   "source": [
    "d = Float64[]\n",
    "y = x\n",
    "for i = 1:100\n",
    "    y = A*y\n",
    "    y = y / norm(y)\n",
    "    push!(d, min(norm(y - X[:,1]), norm(-y - X[:,1]))) # pick the better of the two signs\n",
    "end\n",
    "semilogy(1:length(d), d, \"b.-\")\n",
    "xlabel(\"number of power steps\")\n",
    "ylabel(\"error in eigenvector\")\n",
    "title(L\"convergence of power method for $\\lambda=1,2,3,4,5$\")"
   ]
  },
  {
   "cell_type": "code",
   "execution_count": 12,
   "metadata": {},
   "outputs": [
    {
     "ename": "LoadError",
     "evalue": "UndefVarError: d not defined",
     "output_type": "error",
     "traceback": [
      "UndefVarError: d not defined",
      "",
      "Stacktrace:",
      " [1] top-level scope",
      "   @ In[12]:1",
      " [2] eval",
      "   @ ./boot.jl:360 [inlined]",
      " [3] include_string(mapexpr::typeof(REPL.softscope), mod::Module, code::String, filename::String)",
      "   @ Base ./loading.jl:1094"
     ]
    }
   ],
   "source": [
    "semilogy(1:length(d), d, \"b.-\")\n",
    "semilogy(1:length(d), (4/5).^(1:length(d)), \"k--\")\n",
    "xlabel(\"number of power steps\")\n",
    "ylabel(\"error in eigenvector\")\n",
    "title(L\"convergence of power method for $\\lambda=1,2,3,4,5$\")\n",
    "legend([\"error\", L\"(4/5)^n\"])"
   ]
  },
  {
   "cell_type": "code",
   "execution_count": 13,
   "metadata": {},
   "outputs": [
    {
     "data": {
      "image/png": "[encoded data removed]",
      "text/plain": [
       "Figure(PyObject <Figure size 640x480 with 1 Axes>)"
      ]
     },
     "metadata": {},
     "output_type": "display_data"
    },
    {
     "data": {
      "text/plain": [
       "PyObject <matplotlib.legend.Legend object at 0x7f514c416730>"
      ]
     },
     "execution_count": 13,
     "metadata": {},
     "output_type": "execute_result"
    }
   ],
   "source": [
    "Δλ = Float64[]\n",
    "y = x\n",
    "for i = 1:100\n",
    "    y = A*y\n",
    "    y = y / norm(y)\n",
    "    λ̃ = (y'A*y) / (y'y)\n",
    "    push!(Δλ, abs(λ̃ - 5))\n",
    "end\n",
    "semilogy(1:length(Δλ), Δλ, \"b.-\")\n",
    "semilogy(1:length(Δλ), (4/5).^(1:length(Δλ)), \"k--\")\n",
    "xlabel(\"number of power steps\")\n",
    "ylabel(\"error in eigenvalue\")\n",
    "title(L\"convergence of power method $\\lambda$ for $\\lambda=1,2,3,4,5$\")\n",
    "legend([\"error\", L\"(4/5)^n\"])"
   ]
  },
  {
   "cell_type": "code",
   "execution_count": 14,
   "metadata": {},
   "outputs": [
    {
     "data": {
      "image/png": "[encoded data removed]",
      "text/plain": [
       "Figure(PyObject <Figure size 640x480 with 1 Axes>)"
      ]
     },
     "metadata": {},
     "output_type": "display_data"
    },
    {
     "data": {
      "text/plain": [
       "PyObject <matplotlib.legend.Legend object at 0x7f51291637f0>"
      ]
     },
     "execution_count": 14,
     "metadata": {},
     "output_type": "execute_result"
    }
   ],
   "source": [
    "Δλ = Float64[]\n",
    "y = x\n",
    "for i = 1:15\n",
    "    y = (A - 2.1I) \\ y\n",
    "    y = y / norm(y)\n",
    "    λ̃ = (y'A*y) / (y'y)\n",
    "    push!(Δλ, abs(λ̃ - 2))\n",
    "end\n",
    "semilogy(1:length(Δλ), Δλ, \"b.-\")\n",
    "semilogy(1:length(Δλ), (1/9).^(1:length(Δλ)), \"k--\")\n",
    "xlabel(\"number of power steps\")\n",
    "ylabel(\"error in eigenvalue\")\n",
    "title(L\"convergence of shift-and-invert method $\\lambda$ for $\\lambda=1,2,3,4,5$, $\\mu = 2.1$\")\n",
    "legend([\"error\", L\"1/9^n\"])"
   ]
  },
  {
   "cell_type": "code",
   "execution_count": 15,
   "metadata": {
    "scrolled": true
   },
   "outputs": [
    {
     "data": {
      "text/plain": [
       "20×20 Matrix{Float64}:\n",
       " 20.9125    -10.8892     -9.44299   …   -7.73609   -5.35756    12.0259\n",
       " -1.72006     7.12343     0.283059      -2.96325   -5.29498     7.33503\n",
       " -3.95539     5.00796    21.3808        -0.364676  -1.7718     -8.86105\n",
       "  0.756252   -2.92203    -4.93999      -13.9942    -2.66183     9.30327\n",
       " -5.3578      0.599839    0.192924       3.27689   -3.34085    -0.579651\n",
       " -7.01922     1.80059     9.81075   …   -8.18593   -2.40679    -2.91158\n",
       "  0.745276   -3.16017     1.29108      -16.3104     0.346451   -3.00586\n",
       "  1.82196    -7.20982   -11.1864       -11.429     -0.364163   13.6736\n",
       " -6.52684     0.425132    9.58669       -6.1122    -6.30888     3.54519\n",
       " -5.13565     6.2527      6.70252       -5.18718    0.444311   -9.7363\n",
       "  0.611453    2.05298    -1.05849   …   -7.75936   -0.792367   -2.56383\n",
       " 11.6798    -14.0683    -18.5118       -13.401      0.0439315  17.3938\n",
       " -2.20189     5.78955    16.6281       -13.7374    -2.66343    -6.6981\n",
       "  4.48407    -4.89367    -9.64046        7.41551   -0.326532    2.90338\n",
       " -4.43084     6.55051    -5.35621        9.67911   -0.287886    0.531307\n",
       " -3.78289     2.82355    -4.06457   …   19.842      2.26055    -1.30124\n",
       "  8.95933    -7.37898   -15.6625         6.23403   -0.0624961  11.44\n",
       "  2.83485     3.1979     -3.42508       18.0255     2.73404    -3.82686\n",
       "  9.16072   -10.9099    -21.0447         1.71584   11.0245     17.3032\n",
       "  3.57533    -8.35097    -4.31507        2.10151   -0.19655    21.6854"
      ]
     },
     "execution_count": 15,
     "metadata": {},
     "output_type": "execute_result"
    }
   ],
   "source": [
    "n = 20\n",
    "A = randn(n,n)\n",
    "A = A * diagm(1:n) / A"
   ]
  },
  {
   "cell_type": "code",
   "execution_count": 17,
   "metadata": {},
   "outputs": [
    {
     "data": {
      "text/plain": [
       "BenchmarkTools.Trial: \n",
       "  memory estimate:  469.48 KiB\n",
       "  allocs estimate:  2004\n",
       "  --------------\n",
       "  minimum time:     276.977 μs (0.00% GC)\n",
       "  median time:      281.525 μs (0.00% GC)\n",
       "  mean time:        304.109 μs (3.79% GC)\n",
       "  maximum time:     1.936 ms (72.90% GC)\n",
       "  --------------\n",
       "  samples:          10000\n",
       "  evals/sample:     1"
      ]
     },
     "execution_count": 17,
     "metadata": {},
     "output_type": "execute_result"
    }
   ],
   "source": [
    "@benchmark potegowav2(A, 1000)"
   ]
  },
  {
   "cell_type": "code",
   "execution_count": 69,
   "metadata": {},
   "outputs": [
    {
     "data": {
      "text/plain": [
       "(13.290997953934685 - 0.26522387252961166im, ComplexF64[0.07197051974111905 - 0.1513240316440958im, 1.3815834175043163e-152 + 0.0im, 0.33700471059726367 - 0.8310474036852612im, 1.4848881516314974e-152 + 0.0im, -0.10012053104438978 - 0.3970959567432038im])"
      ]
     },
     "execution_count": 69,
     "metadata": {},
     "output_type": "execute_result"
    }
   ],
   "source": [
    "potegowav2(A, 1000)"
   ]
  },
  {
   "cell_type": "code",
   "execution_count": 64,
   "metadata": {},
   "outputs": [
    {
     "data": {
      "text/plain": [
       "BenchmarkTools.Trial: \n",
       "  memory estimate:  531.67 KiB\n",
       "  allocs estimate:  6005\n",
       "  --------------\n",
       "  minimum time:     386.280 μs (0.00% GC)\n",
       "  median time:      390.550 μs (0.00% GC)\n",
       "  mean time:        449.604 μs (10.60% GC)\n",
       "  maximum time:     5.998 ms (87.11% GC)\n",
       "  --------------\n",
       "  samples:          10000\n",
       "  evals/sample:     1"
      ]
     },
     "execution_count": 64,
     "metadata": {},
     "output_type": "execute_result"
    }
   ],
   "source": [
    "t = @benchmark potegowa(A, 1000)"
   ]
  },
  {
   "cell_type": "code",
   "execution_count": 68,
   "metadata": {},
   "outputs": [
    {
     "data": {
      "text/plain": [
       "BenchmarkTools.TrialEstimate: \n",
       "  time:             386.280 μs\n",
       "  gctime:           0.000 ns (0.00%)\n",
       "  memory:           531.67 KiB\n",
       "  allocs:           6005"
      ]
     },
     "execution_count": 68,
     "metadata": {},
     "output_type": "execute_result"
    }
   ],
   "source": [
    "minimum(t)"
   ]
  },
  {
   "cell_type": "code",
   "execution_count": 22,
   "metadata": {},
   "outputs": [
    {
     "data": {
      "text/plain": [
       "BenchmarkTools.Trial: \n",
       "  memory estimate:  9.52 MiB\n",
       "  allocs estimate:  3000\n",
       "  --------------\n",
       "  minimum time:     4.287 ms (0.00% GC)\n",
       "  median time:      4.541 ms (0.00% GC)\n",
       "  mean time:        5.115 ms (9.50% GC)\n",
       "  maximum time:     12.422 ms (19.04% GC)\n",
       "  --------------\n",
       "  samples:          973\n",
       "  evals/sample:     1"
      ]
     },
     "execution_count": 22,
     "metadata": {},
     "output_type": "execute_result"
    }
   ],
   "source": [
    "@benchmark jacobi(A, 1000)"
   ]
  },
  {
   "cell_type": "code",
   "execution_count": 27,
   "metadata": {},
   "outputs": [
    {
     "data": {
      "text/plain": [
       "20-element Vector{Float64}:\n",
       " -4.731291994890697\n",
       " -5.017726986138788\n",
       "  2.3324470667947423\n",
       "  2.7257566026284494\n",
       "  3.178368294616821\n",
       "  3.6110745514363147\n",
       "  9.360232785792633\n",
       "  8.181818952887252\n",
       " 11.692415187343975\n",
       "  8.049701315968308\n",
       " 16.771643416043865\n",
       " 13.930367181622508\n",
       "  7.560061734567803\n",
       " 12.543775559164649\n",
       " 17.798450431914\n",
       " 15.853875707780798\n",
       " 15.186703836650835\n",
       " 22.119117623473525\n",
       " 22.004190466150128\n",
       " 26.849018266192857"
      ]
     },
     "execution_count": 27,
     "metadata": {},
     "output_type": "execute_result"
    }
   ],
   "source": [
    "AJ = jacobi(A, 1000)\n",
    "diag(AJ)[end:-1:1]"
   ]
  },
  {
   "cell_type": "code",
   "execution_count": 29,
   "metadata": {},
   "outputs": [
    {
     "data": {
      "text/plain": [
       "Eigen{Float64, Float64, Matrix{Float64}, Vector{Float64}}\n",
       "values:\n",
       "20-element Vector{Float64}:\n",
       "  0.9999999999999964\n",
       "  1.9999999999999987\n",
       "  2.9999999999999885\n",
       "  4.000000000000011\n",
       "  4.999999999999972\n",
       "  6.000000000000039\n",
       "  7.000000000000003\n",
       "  8.000000000000016\n",
       "  9.000000000000014\n",
       " 10.000000000000002\n",
       " 10.999999999999932\n",
       " 11.999999999999979\n",
       " 12.999999999999995\n",
       " 14.000000000000004\n",
       " 14.999999999999929\n",
       " 15.999999999999995\n",
       " 17.000000000000053\n",
       " 18.000000000000025\n",
       " 19.000000000000014\n",
       " 19.999999999999886\n",
       "vectors:\n",
       "20×20 Matrix{Float64}:\n",
       " -0.0613663   0.197052    0.268591     …  -0.337033     -0.382286\n",
       " -0.130711    0.145678    0.430134        -0.264568      0.0832707\n",
       " -0.264628    0.455925    0.336752        -0.0557612     0.0407315\n",
       "  0.0739046   0.111735   -0.173188        -0.121911      0.104001\n",
       " -0.456475    0.0433079   0.479782         0.193523      0.163271\n",
       " -0.121774    0.117859    0.240288     …   0.0823108     0.354644\n",
       "  0.0586973   0.529416   -0.0209935        0.269704     -0.059467\n",
       "  0.0133544  -0.0821141  -0.311981        -0.136072      0.326731\n",
       " -0.0321773  -0.0537404   0.175644        -0.0309096     0.444422\n",
       " -0.247552    0.29548    -0.0559649        0.237862      0.0381733\n",
       "  0.112316    0.299771    0.202216     …   0.121605     -0.213729\n",
       "  0.13404     0.0640655   0.158287        -0.327847     -0.0667773\n",
       "  0.213273    0.0863798  -0.0854099       -0.000935856  -0.136468\n",
       " -0.20444    -0.214058    0.201019         0.151044     -0.166541\n",
       " -0.442696   -0.0729924  -0.232059        -0.127385      0.0260139\n",
       " -0.209651   -0.26559     0.0472766    …  -0.0123094     0.18006\n",
       "  0.184043   -0.225199    0.0743377       -0.227248     -0.201286\n",
       " -0.123973    0.140549    0.0398043       -0.126215     -0.278036\n",
       " -0.454545   -0.16267     0.000514345     -0.387281     -0.032758\n",
       "  0.0295203  -0.0810185   0.0539997       -0.475817      0.352521"
      ]
     },
     "execution_count": 29,
     "metadata": {},
     "output_type": "execute_result"
    }
   ],
   "source": [
    "eigen(A)"
   ]
  },
  {
   "cell_type": "code",
   "execution_count": 62,
   "metadata": {},
   "outputs": [
    {
     "ename": "LoadError",
     "evalue": "InexactError: Float64(0.6666666666666666 - 0.6666666666666666im)",
     "output_type": "error",
     "traceback": [
      "InexactError: Float64(0.6666666666666666 - 0.6666666666666666im)",
      "",
      "Stacktrace:",
      "  [1] Real",
      "    @ ./complex.jl:37 [inlined]",
      "  [2] convert",
      "    @ ./number.jl:7 [inlined]",
      "  [3] setindex!",
      "    @ ./array.jl:841 [inlined]",
      "  [4] macro expansion",
      "    @ ./multidimensional.jl:903 [inlined]",
      "  [5] macro expansion",
      "    @ ./cartesian.jl:64 [inlined]",
      "  [6] _unsafe_setindex!(::IndexLinear, ::Matrix{Float64}, ::Vector{ComplexF64}, ::Base.Slice{Base.OneTo{Int64}}, ::Int64)",
      "    @ Base ./multidimensional.jl:898",
      "  [7] _setindex!",
      "    @ ./multidimensional.jl:887 [inlined]",
      "  [8] setindex!",
      "    @ ./abstractarray.jl:1267 [inlined]",
      "  [9] mgs(A::Matrix{Complex{Int64}})",
      "    @ Main ./In[7]:13",
      " [10] QR_eigen(A::Matrix{Complex{Int64}}, l::Int64)",
      "    @ Main ./In[8]:2",
      " [11] var\"##core#279\"()",
      "    @ Main ~/.julia/packages/BenchmarkTools/ms0Xc/src/execution.jl:479",
      " [12] var\"##sample#280\"(__params::BenchmarkTools.Parameters)",
      "    @ Main ~/.julia/packages/BenchmarkTools/ms0Xc/src/execution.jl:485",
      " [13] _run(b::BenchmarkTools.Benchmark, p::BenchmarkTools.Parameters; verbose::Bool, pad::String, kwargs::Base.Iterators.Pairs{Symbol, Integer, NTuple{4, Symbol}, NamedTuple{(:samples, :evals, :gctrial, :gcsample), Tuple{Int64, Int64, Bool, Bool}}})",
      "    @ BenchmarkTools ~/.julia/packages/BenchmarkTools/ms0Xc/src/execution.jl:98",
      " [14] #invokelatest#2",
      "    @ ./essentials.jl:710 [inlined]",
      " [15] #run_result#38",
      "    @ ~/.julia/packages/BenchmarkTools/ms0Xc/src/execution.jl:33 [inlined]",
      " [16] run(b::BenchmarkTools.Benchmark, p::BenchmarkTools.Parameters; progressid::Nothing, nleaves::Float64, ndone::Float64, kwargs::Base.Iterators.Pairs{Symbol, Integer, NTuple{5, Symbol}, NamedTuple{(:verbose, :samples, :evals, :gctrial, :gcsample), Tuple{Bool, Int64, Int64, Bool, Bool}}})",
      "    @ BenchmarkTools ~/.julia/packages/BenchmarkTools/ms0Xc/src/execution.jl:116",
      " [17] #warmup#47",
      "    @ ~/.julia/packages/BenchmarkTools/ms0Xc/src/execution.jl:168 [inlined]",
      " [18] warmup(item::BenchmarkTools.Benchmark)",
      "    @ BenchmarkTools ~/.julia/packages/BenchmarkTools/ms0Xc/src/execution.jl:168",
      " [19] top-level scope",
      "    @ ~/.julia/packages/BenchmarkTools/ms0Xc/src/execution.jl:387",
      " [20] eval",
      "    @ ./boot.jl:360 [inlined]",
      " [21] include_string(mapexpr::typeof(REPL.softscope), mod::Module, code::String, filename::String)",
      "    @ Base ./loading.jl:1094"
     ]
    }
   ],
   "source": [
    "@benchmark QR_eigen(A, 1000)"
   ]
  },
  {
   "cell_type": "code",
   "execution_count": 31,
   "metadata": {},
   "outputs": [
    {
     "data": {
      "text/plain": [
       "20×20 Matrix{Float64}:\n",
       " 20.0           -0.0213798     -0.162122      …   -8.57848        -3.46385\n",
       "  4.83786e-23   19.0            0.315238          70.384           1.37875\n",
       "  9.66595e-47    2.21142e-24   18.0              -19.009         -41.4411\n",
       "  2.03656e-71    1.2521e-48     1.91776e-25      -42.9578         -4.00564\n",
       "  1.73792e-97   -1.54061e-74   -1.8484e-52        39.0927        -31.7753\n",
       " -5.01704e-126   1.61574e-104   2.47076e-79   …   16.008          31.6683\n",
       " -7.32661e-157  -1.28118e-132   8.20981e-109      21.4177          4.49532\n",
       "  2.3768e-187    1.02107e-165  -8.27054e-141      15.9393        -18.4702\n",
       " -7.43302e-222   2.83206e-199  -1.3805e-176      -21.7917         -4.87153\n",
       " -1.33708e-261   1.61913e-237   2.01235e-214     -17.6287        -23.8912\n",
       " -2.28084e-301  -7.77123e-279  -2.42632e-255  …   -4.17097        -0.00950428\n",
       "  0.0            0.0            4.79132e-301       3.21755        -2.46212\n",
       "  0.0            0.0            0.0               -9.94416        11.333\n",
       "  0.0            0.0            0.0                4.32599       -14.3912\n",
       "  0.0            0.0            0.0                3.86823        -2.2644\n",
       "  0.0            0.0            0.0           …    3.00445        -0.757019\n",
       "  0.0            0.0            0.0                2.68967         1.03735\n",
       "  0.0            0.0            0.0                1.3964          2.86715\n",
       "  0.0            0.0            0.0                2.0            -0.806689\n",
       "  0.0            0.0            0.0                3.89709e-301    1.0"
      ]
     },
     "execution_count": 31,
     "metadata": {},
     "output_type": "execute_result"
    }
   ],
   "source": [
    "QR_eigen(A, 1000)"
   ]
  },
  {
   "cell_type": "code",
   "execution_count": 32,
   "metadata": {},
   "outputs": [
    {
     "data": {
      "text/plain": [
       "20-element Vector{Float64}:\n",
       "  0.999999999999994\n",
       "  2.00000000000001\n",
       "  2.9999999999999893\n",
       "  4.000000000000016\n",
       "  4.999999999999979\n",
       "  6.00000000000001\n",
       "  7.000000000000008\n",
       "  7.999999999999995\n",
       "  9.000000000000032\n",
       " 10.000000000000002\n",
       " 10.999999999999982\n",
       " 12.0\n",
       " 12.999999999999993\n",
       " 13.999999999999957\n",
       " 15.000000000000009\n",
       " 15.999999999999977\n",
       " 17.000000000000007\n",
       " 17.999999999999968\n",
       " 19.000000000000007\n",
       " 20.00000000000002"
      ]
     },
     "execution_count": 32,
     "metadata": {},
     "output_type": "execute_result"
    }
   ],
   "source": [
    "diag(QR_eigen(A, 1000))[end:-1:1]"
   ]
  },
  {
   "cell_type": "code",
   "execution_count": null,
   "metadata": {},
   "outputs": [],
   "source": []
  },
  {
   "cell_type": "code",
   "execution_count": null,
   "metadata": {},
   "outputs": [],
   "source": []
  },
  {
   "cell_type": "code",
   "execution_count": 37,
   "metadata": {},
   "outputs": [
    {
     "data": {
      "text/plain": [
       "20×20 Matrix{Float64}:\n",
       "  0.308053   -0.525818  -0.993163   …  -0.566811    0.660125   -0.727787\n",
       "  0.632478   -1.28355    0.842912      -0.734535    0.496948    0.356412\n",
       "  0.43535     0.266058   0.261779      -0.054806   -0.215695   -0.0540977\n",
       " -0.915474    0.692792  -0.0186995     -0.309023   -2.46702    -0.196821\n",
       "  0.363486   -0.818598  -0.700969       3.1138     -0.839952    0.997284\n",
       "  1.37454    -0.471057  -0.600922   …  -1.79896     1.20341     0.264794\n",
       "  0.453901   -0.374045   0.85748        0.24965    -0.40141     0.909651\n",
       " -0.190765   -0.293365   0.341292      -0.48161     0.429542   -0.183044\n",
       "  0.644541   -1.04879    0.482769       0.8432      0.509924   -0.35778\n",
       " -0.505431    1.39183   -0.145637       0.0258939   2.84549    -0.621354\n",
       " -1.46019    -1.11636    1.33317    …  -1.08144    -0.998697   -0.849883\n",
       "  0.234902    0.478558   1.33159        1.20194    -0.580354    0.63713\n",
       " -0.0892525   0.570833   0.0845472      1.63519     1.02691     0.0441987\n",
       " -0.0314625   1.40459    0.829996      -0.417831   -1.23467     0.301831\n",
       " -0.631053   -0.176331  -0.417277      -0.571807   -0.876879   -0.496174\n",
       " -0.505372   -0.588277   2.02408    …   0.801702    1.26522    -1.5393\n",
       "  0.208554   -0.821251  -0.0771721     -1.78436    -0.0409373  -0.206462\n",
       " -0.284589   -0.626757   0.670878       0.693711    0.807848   -0.901188\n",
       " -1.48079     0.797881  -1.50175       -0.516183    1.37036     0.251991\n",
       " -0.253925    0.496391  -0.215121      -2.15062    -0.328671   -0.321132"
      ]
     },
     "execution_count": 37,
     "metadata": {},
     "output_type": "execute_result"
    }
   ],
   "source": [
    "n = 20\n",
    "A = randn(n,n)\n",
    "# A = A * diagm(1:n) / A"
   ]
  },
  {
   "cell_type": "code",
   "execution_count": 50,
   "metadata": {},
   "outputs": [],
   "source": [
    "A = [1 0 2+2im 0 3-3im; 0 4 0 5 0; 6-6im 0 7 0 8+8im; 0 9 0 1 0; 2+2im 0 3-3im 0 4];"
   ]
  },
  {
   "cell_type": "code",
   "execution_count": 51,
   "metadata": {},
   "outputs": [
    {
     "data": {
      "text/plain": [
       "5×5 Hermitian{Complex{Int64}, Matrix{Complex{Int64}}}:\n",
       " 1+0im  0+0im  2+2im  0+0im  3-3im\n",
       " 0+0im  4+0im  0+0im  5+0im  0+0im\n",
       " 2-2im  0+0im  7+0im  0+0im  8+8im\n",
       " 0+0im  5+0im  0+0im  1+0im  0+0im\n",
       " 3+3im  0+0im  8-8im  0+0im  4+0im"
      ]
     },
     "execution_count": 51,
     "metadata": {},
     "output_type": "execute_result"
    }
   ],
   "source": [
    "B = Hermitian(A)\n"
   ]
  },
  {
   "cell_type": "code",
   "execution_count": 42,
   "metadata": {},
   "outputs": [
    {
     "data": {
      "text/plain": [
       "20×20 Matrix{Float64}:\n",
       " 11.4552     10.1987     -5.83089   …  -0.135292  -10.993      3.12926\n",
       "  3.15473    30.7657     -6.05212      -2.31922   -17.5229     1.68786\n",
       " -9.03808   -18.6372     14.4935        6.71148    24.1385    -2.10958\n",
       " 12.2803     25.2149     -8.98997      -0.738657  -22.1425     1.71365\n",
       " -1.06273   -13.7264      0.68652       8.44032    14.2116    -3.88773\n",
       "  1.35588     8.68528    -2.67687   …  -0.47267    -2.85724    2.47959\n",
       "  4.29287     6.5856     -2.90575       0.100665  -14.341      0.605505\n",
       " -0.244456  -21.8105      4.12544       9.16239    18.8858    -2.65202\n",
       " -8.46209   -26.1572      7.08169       3.91141    26.4081    -2.58635\n",
       "  0.885053    1.8653      0.141629      0.642285    2.82103    2.64934\n",
       " -3.89759   -15.0086      1.12385   …   3.58649     4.67089    0.38937\n",
       " -6.64808   -37.4446     11.1116        8.29416    37.8229    -4.77086\n",
       " -4.75307   -35.8477      6.90695       7.36994    33.1396    -5.34825\n",
       " -2.59437    -5.46154     3.02755       1.70593     2.40074    1.9507\n",
       "  0.583764    8.3733     -3.78033       3.27125   -15.8452     1.08528\n",
       "  8.91313    29.1413    -10.0081    …  -0.914943  -35.3177     6.0319\n",
       " -2.86514     0.833718   -0.419268      1.31932    -0.198258  -2.99168\n",
       "  6.42185    24.9773     -5.9501        7.18932   -25.2416     3.34982\n",
       "  3.86412     8.8531     -2.53365      -2.49883    -3.83488    1.22469\n",
       " -2.0485     -1.81231     0.287498      4.39005    -0.218514  12.8196"
      ]
     },
     "execution_count": 42,
     "metadata": {},
     "output_type": "execute_result"
    }
   ],
   "source": [
    "B = B * diagm(1:n) / B"
   ]
  },
  {
   "cell_type": "code",
   "execution_count": 38,
   "metadata": {},
   "outputs": [
    {
     "data": {
      "text/plain": [
       "BenchmarkTools.Trial: \n",
       "  memory estimate:  9.52 MiB\n",
       "  allocs estimate:  3001\n",
       "  --------------\n",
       "  minimum time:     4.335 ms (0.00% GC)\n",
       "  median time:      4.700 ms (0.00% GC)\n",
       "  mean time:        5.299 ms (9.81% GC)\n",
       "  maximum time:     10.078 ms (23.85% GC)\n",
       "  --------------\n",
       "  samples:          939\n",
       "  evals/sample:     1"
      ]
     },
     "execution_count": 38,
     "metadata": {},
     "output_type": "execute_result"
    }
   ],
   "source": [
    "@benchmark jacobi(B, 1000)"
   ]
  },
  {
   "cell_type": "code",
   "execution_count": 60,
   "metadata": {},
   "outputs": [
    {
     "ename": "LoadError",
     "evalue": "InexactError: Float64(0.524046652662639 + 0.524046652662639im)",
     "output_type": "error",
     "traceback": [
      "InexactError: Float64(0.524046652662639 + 0.524046652662639im)",
      "",
      "Stacktrace:",
      " [1] Real",
      "   @ ./complex.jl:37 [inlined]",
      " [2] convert",
      "   @ ./number.jl:7 [inlined]",
      " [3] setindex!",
      "   @ ./array.jl:841 [inlined]",
      " [4] jacobi(A::Hermitian{Complex{Int64}, Matrix{Complex{Int64}}}, l::Int64)",
      "   @ Main ./In[59]:14",
      " [5] top-level scope",
      "   @ In[60]:1",
      " [6] eval",
      "   @ ./boot.jl:360 [inlined]",
      " [7] include_string(mapexpr::typeof(REPL.softscope), mod::Module, code::String, filename::String)",
      "   @ Base ./loading.jl:1094"
     ]
    }
   ],
   "source": [
    "AJ = jacobi(B, 1000)\n",
    "diag(AJ)[end:-1:1]"
   ]
  },
  {
   "cell_type": "code",
   "execution_count": 61,
   "metadata": {},
   "outputs": [
    {
     "data": {
      "text/plain": [
       "Eigen{ComplexF64, Float64, Matrix{ComplexF64}, Vector{Float64}}\n",
       "values:\n",
       "5-element Vector{Float64}:\n",
       " -8.320686904340281\n",
       " -2.7201532544552682\n",
       "  3.1496012907501054\n",
       "  7.720153254455275\n",
       " 17.171085613590215\n",
       "vectors:\n",
       "5×5 Matrix{ComplexF64}:\n",
       " -0.231509+0.392692im     …  -0.129023-0.00628656im\n",
       "       0.0+0.0im                   0.0+0.0im\n",
       " -0.375584-0.436027im        -0.547024-0.496283im\n",
       "       0.0-6.93889e-18im           0.0-1.38778e-17im\n",
       "   0.67898+0.0im             -0.661651-0.0im"
      ]
     },
     "execution_count": 61,
     "metadata": {},
     "output_type": "execute_result"
    }
   ],
   "source": [
    "eigen(B)"
   ]
  },
  {
   "cell_type": "code",
   "execution_count": 46,
   "metadata": {},
   "outputs": [],
   "source": []
  }
 ],
 "metadata": {
  "kernelspec": {
   "display_name": "Julia 1.6.1",
   "language": "julia",
   "name": "julia-1.6"
  },
  "language_info": {
   "file_extension": ".jl",
   "mimetype": "application/julia",
   "name": "julia",
   "version": "1.6.1"
  }
 },
 "nbformat": 4,
 "nbformat_minor": 2
}
