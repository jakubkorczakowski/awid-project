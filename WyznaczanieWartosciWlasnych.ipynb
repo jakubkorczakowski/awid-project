{
 "cells": [
  {
   "cell_type": "markdown",
   "metadata": {},
   "source": [
    "<font size=\"3\">\n",
    "Celem projektu jest zaimplementowanie i przeprowadzanie analizy porównawczej trzech algorytmów wyznaczania wartości i wektorów własnych macierzy z pokazaniem co najmniej dwóch przykładów zastosowania w analizie danych (np. wyznaczanie minimum formy kwadratowej x^TAx, PCA, SVD, pinv, itp...)\n",
    "\n",
    "Proponowane aspekty podlegające porównaniu:\n",
    "<ul>\n",
    "    <li>ogólność i stabilność metod (analiza dziedziny z możliwością zastosowania),</li>\n",
    "    <li>zajętość pamięciowa,</li>\n",
    "    <li>obciążenie procesora,</li>\n",
    "    <li>wrażliwość na błędy danych,</li>\n",
    "    <li>ograniczenia co do rozmiaru macierzy.</li>\n",
    "</ul>\n",
    "\n",
    "Proponowane algorytmy (proszę samodzielnie wybrać 3):\n",
    "<ul>\n",
    "    <li>QR,</li>\n",
    "    <li>Metoda potęgowa,</li>\n",
    "    <li>Householder tranformation,</li>\n",
    "    <li>Lanczos algorithm,</li>\n",
    "    <li>Jacobie eigenvalue algorithm,</li>\n",
    "    <li>Locally Optimal Block Preconditioned Conjugate Gradient (LOBPCG)</li>\n",
    "</ul>\n",
    "Implementacja algorytmów musi być wykonana w sposób możliwie efektywny i kontrolowany.\n",
    "Oznacza to, że należy dołożyć starań, aby uruchamiany kod był możliwie zoptymalizowany.\n",
    "\n",
    "Raport końcowy powinien składać się z czterech części:\n",
    "\n",
    "<ol>\n",
    "    <li>wstępu precyzującego jakie algorytmy i w jakim języku zostały zaimplementowane;</li>\n",
    "    <li>opisu badania, przedstawiającego wybrane przypadki testowe (rodzaje macierzy i jakie cechy tymi macierzami zamierzaliście testować), aspekty porównania oraz (najważniejsze) sposoby i warunki ich pomiaru; w warunkach pomiaru proszę uwzględnić parametry środowiska uruchomieniowego: rozmiar i prędkość pamięci, model procesora, model i typ dysku; niezbędne jest wyszczególnienie wszystkich zastosowanych optymalizacji algorytmów;</li>\n",
    "    <li>sekcji z wynikami przedstawionymi w odpowiedniej formie wizualnej;</li>\n",
    "    <li>podsumowania, odnoszącego się do wyników, obiektywnie zestawiających cechy charakterystyczne tych algorytmów; należy skonfrontować uzyskane wyniki ze spodziewanymi; warto odnieść się w dyskusji do aspektu związane z implementacją algorytmów.\n",
    "    </li>\n",
    "</ol>\n",
    "W raporcie końcowym należy między innymi załączyć wykresy prezentujące przebiegi procesu zbiegania się do rozwiązania."
   ]
  },
  {
   "cell_type": "markdown",
   "metadata": {},
   "source": [
    "### Pierwszy kamień milowy (10.05 23:59)\n",
    "- implementacja trzech algorytmów (potęgowa, jacobi, qr),\n",
    "- optymalizacja (typy, ?),\n",
    "- testy - wstępne, różne wielkości macierzy, na razie losowe macierze?,\n",
    "- sprawozdanie - wstępny opis algorytmów, krótki, złożoność obliczeniowa, charakterystka (podział na podstawie obrazka z http://home.agh.edu.pl/~chwiej/mn/problem_wlasny_2016.pdf), wstępny wykres zbieżności, krótki opis testów (tabelka).\n"
   ]
  },
  {
   "cell_type": "markdown",
   "metadata": {},
   "source": [
    "### Materiały: \n",
    "- performance - https://docs.julialang.org/en/v1/manual/performance-tips/\n",
    "- Python różnice - https://docs.julialang.org/en/v1/manual/noteworthy-differences/#Noteworthy-differences-from-Python\n",
    "- http://home.agh.edu.pl/~chwiej/mn/problem_wlasny_2016.pdf\n",
    "- http://ucidatascienceinitiative.github.io/IntroToJulia/\n",
    "- https://cheatsheets.quantecon.org/\n",
    "- http://ucidatascienceinitiative.github.io/IntroToJulia/Html/ArraysAndMatrices\n",
    "- https://annotate.net/user/Robert-Szmur%C5%82o/awid-05?passid=54561B31-E992-FE1A-5D9E-415434D1D852"
   ]
  },
  {
   "cell_type": "code",
   "execution_count": 1,
   "metadata": {},
   "outputs": [
    {
     "data": {
      "text/plain": [
       "3×3 Matrix{Int64}:\n",
       " 45   1   4\n",
       "  2  56   1\n",
       "  5   9  50"
      ]
     },
     "execution_count": 1,
     "metadata": {},
     "output_type": "execute_result"
    }
   ],
   "source": [
    "A = [45 1 4;\n",
    "    2 56 1;\n",
    "    5 9 50]"
   ]
  },
  {
   "cell_type": "markdown",
   "metadata": {},
   "source": [
    "## Metoda Potęgowa"
   ]
  },
  {
   "cell_type": "code",
   "execution_count": 18,
   "metadata": {},
   "outputs": [],
   "source": [
    "using Pkg\n",
    "Pkg.add(\"PyPlot\")\n"
   ]
  },
  {
   "cell_type": "code",
   "execution_count": 5,
   "metadata": {},
   "outputs": [],
   "source": [
    "using LinearAlgebra\n",
    "using BenchmarkTools"
   ]
  },
  {
   "cell_type": "code",
   "execution_count": 20,
   "metadata": {},
   "outputs": [],
   "source": [
    "using PyPlot"
   ]
  },
  {
   "cell_type": "code",
   "execution_count": 9,
   "metadata": {},
   "outputs": [
    {
     "data": {
      "text/plain": [
       "potegowa (generic function with 1 method)"
      ]
     },
     "execution_count": 9,
     "metadata": {},
     "output_type": "execute_result"
    }
   ],
   "source": [
    "function potegowa(A, l::Integer)\n",
    "    n = size(A, 1)\n",
    "    x = ones(n, 1)\n",
    "#     local x1\n",
    "    for i in 1:l\n",
    "#         x1 = x  # why do we need x from step i-1 \n",
    "        x = A * x\n",
    "        x = x / norm(x)\n",
    "    end\n",
    "#     λ = x'*A*x/(x'*x)  # why is x1 used here\n",
    "    λ = x'*A*x\n",
    "    return λ, x\n",
    "end"
   ]
  },
  {
   "cell_type": "code",
   "execution_count": 11,
   "metadata": {},
   "outputs": [
    {
     "name": "stdout",
     "output_type": "stream",
     "text": [
      "  26.551 μs (604 allocations: 44.09 KiB)\n"
     ]
    },
    {
     "data": {
      "text/plain": [
       "([58.34154096965294], [0.275294750732188; 0.5667684374955316; 0.7765219497723012])"
      ]
     },
     "execution_count": 11,
     "metadata": {},
     "output_type": "execute_result"
    }
   ],
   "source": [
    "@btime potegowa(A, 100)"
   ]
  },
  {
   "cell_type": "code",
   "execution_count": 126,
   "metadata": {},
   "outputs": [
    {
     "data": {
      "text/plain": [
       "potegowav2 (generic function with 1 method)"
      ]
     },
     "execution_count": 126,
     "metadata": {},
     "output_type": "execute_result"
    }
   ],
   "source": [
    "function potegowav2(A, l::Integer)\n",
    "    n = size(A, 1)\n",
    "#     x = ones(Float64, n, 1)\n",
    "    x = (rand(n) .+ 0.01) .% 1 \n",
    "#     x1 = Array{Float64}\n",
    "    for i in 1:l\n",
    "#         x1 = x  # why do we need x from step i-1 \n",
    "        x = A * x\n",
    "        x = x / norm(x)\n",
    "    end\n",
    "    λ = x'*A*x/(x'*x)\n",
    "#     λ = x'*A*x1/(x'*x1)  # why is x1 used here\n",
    "    return λ, x\n",
    "end"
   ]
  },
  {
   "cell_type": "code",
   "execution_count": 7,
   "metadata": {},
   "outputs": [],
   "source": [
    "# potegowav2(A, 1000)"
   ]
  },
  {
   "cell_type": "code",
   "execution_count": 8,
   "metadata": {},
   "outputs": [],
   "source": [
    "# @btime potegowav2(A, 100)"
   ]
  },
  {
   "cell_type": "code",
   "execution_count": 8,
   "metadata": {},
   "outputs": [
    {
     "data": {
      "text/plain": [
       "Eigen{Float64, Float64, Matrix{Float64}, Vector{Float64}}\n",
       "values:\n",
       "3-element Vector{Float64}:\n",
       " 42.691264195502654\n",
       " 49.967194893786406\n",
       " 58.34154091071096\n",
       "vectors:\n",
       "3×3 Matrix{Float64}:\n",
       " -0.87227     0.556929  -0.275295\n",
       "  0.0950383  -0.31221   -0.566768\n",
       "  0.479701    0.769646  -0.776522"
      ]
     },
     "execution_count": 8,
     "metadata": {},
     "output_type": "execute_result"
    }
   ],
   "source": [
    "eigen(A)"
   ]
  },
  {
   "cell_type": "markdown",
   "metadata": {},
   "source": [
    "## Metoda Jacobiego"
   ]
  },
  {
   "cell_type": "code",
   "execution_count": 10,
   "metadata": {},
   "outputs": [
    {
     "data": {
      "text/plain": [
       "3×3 Array{Int64,2}:\n",
       " 1   1   4\n",
       " 2  56   1\n",
       " 5   9  12"
      ]
     },
     "metadata": {},
     "output_type": "display_data"
    }
   ],
   "source": [
    "display(A)"
   ]
  },
  {
   "cell_type": "code",
   "execution_count": 141,
   "metadata": {},
   "outputs": [
    {
     "data": {
      "text/plain": [
       "maxst (generic function with 1 method)"
      ]
     },
     "execution_count": 141,
     "metadata": {},
     "output_type": "execute_result"
    }
   ],
   "source": [
    "function eye(n)\n",
    "    return Matrix{Float64}(I,n,n)\n",
    "end\n",
    "\n",
    "function maxst(A)\n",
    "    s = 1;\n",
    "    t = 2;\n",
    "    n = size(A,1);\n",
    "\n",
    "    for c = 2:n\n",
    "        for r = 1:c-1\n",
    "            if abs(A[r,c]) > abs(A[s,t])\n",
    "            s = r;\n",
    "            t = c;\n",
    "            end\n",
    "        end\n",
    "    end\n",
    "    return s,t\n",
    "end\n"
   ]
  },
  {
   "cell_type": "code",
   "execution_count": 142,
   "metadata": {},
   "outputs": [
    {
     "data": {
      "text/plain": [
       "jacobi (generic function with 1 method)"
      ]
     },
     "execution_count": 142,
     "metadata": {},
     "output_type": "execute_result"
    }
   ],
   "source": [
    "function jacobi(A, l::Integer)\n",
    "    n = size(A,1);\n",
    "    for i = 1:l\n",
    "        s,t = maxst(A);\n",
    "        d = sqrt((A[s,s] - A[t,t])^2 + 4*A[s,t]^2);\n",
    "        sin2t = 2*A[s,t]/d;\n",
    "        cos2t = (A[s,s] - A[t,t]) / d;\n",
    "        dt = sqrt(2*(1+cos2t));\n",
    "        sint = abs(sin2t) / dt;\n",
    "        cost = abs((1+ cos2t) / dt);\n",
    "        cost = sign(A[s,t]) * cost;\n",
    "\n",
    "        R = eye(n);\n",
    "        R[s,s] = cost;\n",
    "        R[t,t] = cost;\n",
    "        R[s,t] = -sint;\n",
    "        R[t,s] = sint;\n",
    "        A = R'*A*R;\n",
    "    end\n",
    "    return A\n",
    "end"
   ]
  },
  {
   "cell_type": "code",
   "execution_count": 13,
   "metadata": {},
   "outputs": [
    {
     "data": {
      "text/plain": [
       "3×3 Array{Float64,2}:\n",
       " 56.2732    0.0        3.08084e-38\n",
       "  7.15356  13.2679    -1.92593e-34\n",
       "  3.79269   0.664874  -0.541099"
      ]
     },
     "metadata": {},
     "output_type": "display_data"
    },
    {
     "data": {
      "text/plain": [
       "3-element Array{Float64,1}:\n",
       " -0.5410990010433568\n",
       " 13.267933534846554\n",
       " 56.273165466196815"
      ]
     },
     "execution_count": 13,
     "metadata": {},
     "output_type": "execute_result"
    }
   ],
   "source": [
    "AJ = jacobi(A, 15)\n",
    "display(AJ)\n",
    "diag(AJ)[end:-1:1]"
   ]
  },
  {
   "cell_type": "code",
   "execution_count": 14,
   "metadata": {},
   "outputs": [
    {
     "data": {
      "text/plain": [
       "Eigen{Float64,Float64,Array{Float64,2},Array{Float64,1}}\n",
       "values:\n",
       "3-element Array{Float64,1}:\n",
       " -0.5410990010433583\n",
       " 13.26793353484656\n",
       " 56.273165466196815\n",
       "vectors:\n",
       "3×3 Array{Float64,2}:\n",
       " -0.935035    0.307084   -0.0323698\n",
       "  0.0268217  -0.0366269  -0.978724\n",
       "  0.35354     0.950977   -0.202614"
      ]
     },
     "execution_count": 14,
     "metadata": {},
     "output_type": "execute_result"
    }
   ],
   "source": [
    "eigen(A)"
   ]
  },
  {
   "cell_type": "markdown",
   "metadata": {},
   "source": [
    "## Metoda QR"
   ]
  },
  {
   "cell_type": "code",
   "execution_count": 143,
   "metadata": {},
   "outputs": [
    {
     "data": {
      "text/plain": [
       "mgs (generic function with 1 method)"
      ]
     },
     "execution_count": 143,
     "metadata": {},
     "output_type": "execute_result"
    }
   ],
   "source": [
    "# TODO zobaczyć czy for po kolumnach\n",
    "function mgs(A)\n",
    "    n = size(A,1);\n",
    "    R = zeros(n, n);\n",
    "    Q = zeros(n, n);\n",
    "    for j = 1:n\n",
    "        v = A[:,j];\n",
    "        for i = 1:j-1\n",
    "            R[i,j] = Q[:,i]'*v;\n",
    "            v = v - R[i,j]*Q[:,i];\n",
    "        end\n",
    "        R[j,j] = norm(v)\n",
    "        Q[:,j] = v / R[j,j]\n",
    "    end\n",
    "    return Q,R\n",
    "end\n",
    "\n"
   ]
  },
  {
   "cell_type": "code",
   "execution_count": 16,
   "metadata": {},
   "outputs": [],
   "source": [
    "# AS = [1 5 6;\n",
    "#     5 23 9;\n",
    "#     6 9 18]"
   ]
  },
  {
   "cell_type": "code",
   "execution_count": 17,
   "metadata": {},
   "outputs": [],
   "source": [
    "test, test2 = mgs(A);"
   ]
  },
  {
   "cell_type": "code",
   "execution_count": 18,
   "metadata": {},
   "outputs": [
    {
     "data": {
      "text/plain": [
       "3×3 Array{Float64,2}:\n",
       " 0.182574  -0.0873505   0.979304\n",
       " 0.365148   0.930829    0.0149512\n",
       " 0.912871  -0.354862   -0.201841"
      ]
     },
     "metadata": {},
     "output_type": "display_data"
    },
    {
     "data": {
      "text/plain": [
       "3×3 Array{Float64,2}:\n",
       " 5.47723  28.8467  12.0499\n",
       " 0.0      48.8453  -3.67691\n",
       " 0.0       0.0      1.51007"
      ]
     },
     "metadata": {},
     "output_type": "display_data"
    }
   ],
   "source": [
    "display(test)\n",
    "display(test2)"
   ]
  },
  {
   "cell_type": "code",
   "execution_count": 144,
   "metadata": {},
   "outputs": [
    {
     "data": {
      "text/plain": [
       "QR_eigen (generic function with 1 method)"
      ]
     },
     "execution_count": 144,
     "metadata": {},
     "output_type": "execute_result"
    }
   ],
   "source": [
    "function QR_eigen(A, l::Integer)\n",
    "    Q,R = mgs(A)\n",
    "    for k = 1:l\n",
    "        Q,R = mgs(A);\n",
    "        A = R*Q;\n",
    "    end\n",
    "    A\n",
    "end"
   ]
  },
  {
   "cell_type": "code",
   "execution_count": 20,
   "metadata": {},
   "outputs": [],
   "source": [
    "# function QR_eigen_rand(l::Integer)\n",
    "#     A = rand(5, 5);\n",
    "#     A = A - tril(A,-1)\n",
    "#     display(eigen(A))\n",
    "#     Q,R = mgs(A)\n",
    "#     for k = 1:l\n",
    "#         Q,R = mgs(A);\n",
    "#         A = R*Q;\n",
    "#     end\n",
    "#     diag(A)[end:-1:1]\n",
    "#     A\n",
    "# end"
   ]
  },
  {
   "cell_type": "code",
   "execution_count": 21,
   "metadata": {},
   "outputs": [],
   "source": [
    "# QR_eigen_rand(100)"
   ]
  },
  {
   "cell_type": "code",
   "execution_count": 22,
   "metadata": {},
   "outputs": [
    {
     "data": {
      "text/plain": [
       "3×3 Array{Float64,2}:\n",
       " 56.2732        7.27402      3.58067\n",
       "  1.45273e-7   13.2679      -0.517151\n",
       "  2.00205e-28  -5.3929e-20  -0.541099"
      ]
     },
     "execution_count": 22,
     "metadata": {},
     "output_type": "execute_result"
    }
   ],
   "source": [
    "QR_eigen(A, 15)"
   ]
  },
  {
   "cell_type": "code",
   "execution_count": 23,
   "metadata": {},
   "outputs": [
    {
     "data": {
      "text/plain": [
       "3-element Array{Float64,1}:\n",
       " -0.5410990010433575\n",
       " 13.267933559418443\n",
       " 56.273165441624926"
      ]
     },
     "execution_count": 23,
     "metadata": {},
     "output_type": "execute_result"
    }
   ],
   "source": [
    "diag(QR_eigen(A, 15))[end:-1:1]"
   ]
  },
  {
   "cell_type": "code",
   "execution_count": 24,
   "metadata": {},
   "outputs": [
    {
     "data": {
      "text/plain": [
       "3-element Array{Float64,1}:\n",
       " -0.5410990010433575\n",
       " 13.267933534846561\n",
       " 56.27316546619681"
      ]
     },
     "execution_count": 24,
     "metadata": {},
     "output_type": "execute_result"
    }
   ],
   "source": [
    "diag(QR_eigen(A, 150))[end:-1:1]"
   ]
  },
  {
   "cell_type": "code",
   "execution_count": 25,
   "metadata": {},
   "outputs": [
    {
     "data": {
      "text/plain": [
       "Eigen{Float64,Float64,Array{Float64,2},Array{Float64,1}}\n",
       "values:\n",
       "3-element Array{Float64,1}:\n",
       " -0.5410990010433583\n",
       " 13.26793353484656\n",
       " 56.273165466196815\n",
       "vectors:\n",
       "3×3 Array{Float64,2}:\n",
       " -0.935035    0.307084   -0.0323698\n",
       "  0.0268217  -0.0366269  -0.978724\n",
       "  0.35354     0.950977   -0.202614"
      ]
     },
     "execution_count": 25,
     "metadata": {},
     "output_type": "execute_result"
    }
   ],
   "source": [
    "eigen(A)"
   ]
  },
  {
   "cell_type": "markdown",
   "metadata": {},
   "source": [
    "## Testowanie"
   ]
  },
  {
   "cell_type": "markdown",
   "metadata": {},
   "source": [
    "### Metoda potęgowa "
   ]
  },
  {
   "cell_type": "markdown",
   "metadata": {},
   "source": [
    "1. Macierz z elementami i wektorami własnymi rzeczywistymi"
   ]
  },
  {
   "cell_type": "code",
   "execution_count": 109,
   "metadata": {},
   "outputs": [
    {
     "data": {
      "text/plain": [
       "5×5 Matrix{Float64}:\n",
       "  4.42312    0.517301  -0.310596   0.838299  -0.481106\n",
       "  0.586917   3.19204    0.321741   2.43946    1.30625\n",
       " -3.24219   -1.94763   -0.445789  -0.441901  -2.60525\n",
       "  0.131254   0.155579  -0.156325   2.96097   -0.177908\n",
       "  1.47109    1.44265    2.39441   -0.575054   4.86966"
      ]
     },
     "execution_count": 109,
     "metadata": {},
     "output_type": "execute_result"
    }
   ],
   "source": [
    "A = randn(5,5)\n",
    "A = A * diagm(1:5) / A"
   ]
  },
  {
   "cell_type": "code",
   "execution_count": 119,
   "metadata": {},
   "outputs": [
    {
     "data": {
      "text/plain": [
       "5-element Vector{Float64}:\n",
       " 1.0\n",
       " 2.0000000000000013\n",
       " 3.0000000000000018\n",
       " 4.0\n",
       " 4.999999999999997"
      ]
     },
     "execution_count": 119,
     "metadata": {},
     "output_type": "execute_result"
    }
   ],
   "source": [
    "eigvals(A)"
   ]
  },
  {
   "cell_type": "code",
   "execution_count": 117,
   "metadata": {},
   "outputs": [
    {
     "data": {
      "text/plain": [
       "5-element Vector{Float64}:\n",
       " 4.999999999999997\n",
       " 4.0\n",
       " 3.0000000000000018\n",
       " 2.0000000000000013\n",
       " 1.0"
      ]
     },
     "execution_count": 117,
     "metadata": {},
     "output_type": "execute_result"
    }
   ],
   "source": [
    "λ, X = eigen(A)\n",
    "i = sortperm(λ, by=abs, rev=true) # sort the eigenvalues in descending order by magnitude\n",
    "λ = λ[i]; X = X[:,i]              # and re-order λ and X\n",
    "λ"
   ]
  },
  {
   "cell_type": "code",
   "execution_count": 111,
   "metadata": {},
   "outputs": [
    {
     "data": {
      "text/plain": [
       "5-element Vector{Float64}:\n",
       " 0.1691379867482845\n",
       " 0.8556793296234653\n",
       " 0.6472492837262258\n",
       " 0.905837420159264\n",
       " 0.2586516872741462"
      ]
     },
     "execution_count": 111,
     "metadata": {},
     "output_type": "execute_result"
    }
   ],
   "source": [
    "x = (rand(5) .+ 0.01) .% 1# arbitrary initial vector\n",
    "# for n = 1:100\n",
    "#     y = x\n",
    "#     for i = 1:n\n",
    "#         y = A*y\n",
    "#         y = y / norm(y)\n",
    "#     end\n",
    "# end\n",
    "x"
   ]
  },
  {
   "cell_type": "code",
   "execution_count": 112,
   "metadata": {},
   "outputs": [
    {
     "data": {
      "image/png": "[encoded data removed]",
      "text/plain": [
       "Figure(PyObject <Figure size 640x480 with 1 Axes>)"
      ]
     },
     "metadata": {},
     "output_type": "display_data"
    },
    {
     "data": {
      "text/plain": [
       "PyObject Text(0.5, 1.0, 'convergence of power method for $\\\\lambda=1,2,3,4,5$')"
      ]
     },
     "execution_count": 112,
     "metadata": {},
     "output_type": "execute_result"
    }
   ],
   "source": [
    "d = Float64[]\n",
    "y = x\n",
    "for i = 1:100\n",
    "    y = A*y\n",
    "    y = y / norm(y)\n",
    "    push!(d, min(norm(y - X[:,1]), norm(-y - X[:,1]))) # pick the better of the two signs\n",
    "end\n",
    "semilogy(1:length(d), d, \"b.-\")\n",
    "xlabel(\"number of power steps\")\n",
    "ylabel(\"error in eigenvector\")\n",
    "title(L\"convergence of power method for $\\lambda=1,2,3,4,5$\")"
   ]
  },
  {
   "cell_type": "code",
   "execution_count": 113,
   "metadata": {},
   "outputs": [
    {
     "data": {
      "image/png": "[encoded data removed]",
      "text/plain": [
       "Figure(PyObject <Figure size 640x480 with 1 Axes>)"
      ]
     },
     "metadata": {},
     "output_type": "display_data"
    },
    {
     "data": {
      "text/plain": [
       "PyObject <matplotlib.legend.Legend object at 0x7f9611aa4c10>"
      ]
     },
     "execution_count": 113,
     "metadata": {},
     "output_type": "execute_result"
    }
   ],
   "source": [
    "semilogy(1:length(d), d, \"b.-\")\n",
    "semilogy(1:length(d), (4/5).^(1:length(d)), \"k--\")\n",
    "xlabel(\"number of power steps\")\n",
    "ylabel(\"error in eigenvector\")\n",
    "title(L\"convergence of power method for $\\lambda=1,2,3,4,5$\")\n",
    "legend([\"error\", L\"(4/5)^n\"])"
   ]
  },
  {
   "cell_type": "code",
   "execution_count": 33,
   "metadata": {},
   "outputs": [
    {
     "data": {
      "image/png": "[encoded data removed]",
      "text/plain": [
       "Figure(PyObject <Figure size 640x480 with 1 Axes>)"
      ]
     },
     "metadata": {},
     "output_type": "display_data"
    },
    {
     "data": {
      "text/plain": [
       "PyObject <matplotlib.legend.Legend object at 0x7f9613f35b20>"
      ]
     },
     "execution_count": 33,
     "metadata": {},
     "output_type": "execute_result"
    }
   ],
   "source": [
    "Δλ = Float64[]\n",
    "y = x\n",
    "for i = 1:100\n",
    "    y = A*y\n",
    "    y = y / norm(y)\n",
    "    λ̃ = (y'A*y) / (y'y)\n",
    "    push!(Δλ, abs(λ̃ - 5))\n",
    "end\n",
    "semilogy(1:length(Δλ), Δλ, \"b.-\")\n",
    "semilogy(1:length(Δλ), (4/5).^(1:length(Δλ)), \"k--\")\n",
    "xlabel(\"number of power steps\")\n",
    "ylabel(\"error in eigenvalue\")\n",
    "title(L\"convergence of power method $\\lambda$ for $\\lambda=1,2,3,4,5$\")\n",
    "legend([\"error\", L\"(4/5)^n\"])"
   ]
  },
  {
   "cell_type": "code",
   "execution_count": 51,
   "metadata": {},
   "outputs": [
    {
     "data": {
      "image/png": "[encoded data removed]",
      "text/plain": [
       "Figure(PyObject <Figure size 640x480 with 1 Axes>)"
      ]
     },
     "metadata": {},
     "output_type": "display_data"
    },
    {
     "data": {
      "text/plain": [
       "PyObject <matplotlib.legend.Legend object at 0x7f96137b5be0>"
      ]
     },
     "execution_count": 51,
     "metadata": {},
     "output_type": "execute_result"
    }
   ],
   "source": [
    "Δλ = Float64[]\n",
    "y = x\n",
    "for i = 1:15\n",
    "    y = (A - 2.1I) \\ y\n",
    "    y = y / norm(y)\n",
    "    λ̃ = (y'A*y) / (y'y)\n",
    "    push!(Δλ, abs(λ̃ - 2))\n",
    "end\n",
    "semilogy(1:length(Δλ), Δλ, \"b.-\")\n",
    "semilogy(1:length(Δλ), (1/9).^(1:length(Δλ)), \"k--\")\n",
    "xlabel(\"number of power steps\")\n",
    "ylabel(\"error in eigenvalue\")\n",
    "title(L\"convergence of shift-and-invert method $\\lambda$ for $\\lambda=1,2,3,4,5$, $\\mu = 2.1$\")\n",
    "legend([\"error\", L\"1/9^n\"])"
   ]
  },
  {
   "cell_type": "code",
   "execution_count": 139,
   "metadata": {
    "scrolled": true
   },
   "outputs": [
    {
     "data": {
      "text/plain": [
       "BenchmarkTools.Trial: \n",
       "  memory estimate:  469.48 KiB\n",
       "  allocs estimate:  2004\n",
       "  --------------\n",
       "  minimum time:     278.907 μs (0.00% GC)\n",
       "  median time:      298.024 μs (0.00% GC)\n",
       "  mean time:        326.559 μs (4.76% GC)\n",
       "  maximum time:     2.248 ms (80.07% GC)\n",
       "  --------------\n",
       "  samples:          10000\n",
       "  evals/sample:     1"
      ]
     },
     "execution_count": 139,
     "metadata": {},
     "output_type": "execute_result"
    }
   ],
   "source": [
    "n = 20\n",
    "A = randn(n,n)\n",
    "A = A * diagm(1:n) / A"
   ]
  },
  {
   "cell_type": "code",
   "execution_count": null,
   "metadata": {},
   "outputs": [],
   "source": [
    "@benchmark potegowav2(A, 1000)"
   ]
  },
  {
   "cell_type": "code",
   "execution_count": 137,
   "metadata": {},
   "outputs": [
    {
     "data": {
      "text/plain": [
       "BenchmarkTools.TrialEstimate: \n",
       "  time:             2.076 ms\n",
       "  gctime:           1.990 ms (95.86%)\n",
       "  memory:           47.61 KiB\n",
       "  allocs:           204"
      ]
     },
     "execution_count": 137,
     "metadata": {},
     "output_type": "execute_result"
    }
   ],
   "source": [
    "maximum(t)"
   ]
  },
  {
   "cell_type": "code",
   "execution_count": 140,
   "metadata": {},
   "outputs": [
    {
     "data": {
      "text/plain": [
       "BenchmarkTools.Trial: \n",
       "  memory estimate:  469.34 KiB\n",
       "  allocs estimate:  2004\n",
       "  --------------\n",
       "  minimum time:     576.613 μs (0.00% GC)\n",
       "  median time:      632.506 μs (0.00% GC)\n",
       "  mean time:        696.035 μs (2.27% GC)\n",
       "  maximum time:     3.013 ms (62.24% GC)\n",
       "  --------------\n",
       "  samples:          7116\n",
       "  evals/sample:     1"
      ]
     },
     "execution_count": 140,
     "metadata": {},
     "output_type": "execute_result"
    }
   ],
   "source": [
    "@benchmark potegowa(A, 1000)"
   ]
  },
  {
   "cell_type": "code",
   "execution_count": 145,
   "metadata": {},
   "outputs": [
    {
     "data": {
      "text/plain": [
       "BenchmarkTools.Trial: \n",
       "  memory estimate:  9.52 MiB\n",
       "  allocs estimate:  3000\n",
       "  --------------\n",
       "  minimum time:     4.347 ms (0.00% GC)\n",
       "  median time:      4.855 ms (0.00% GC)\n",
       "  mean time:        5.436 ms (10.66% GC)\n",
       "  maximum time:     12.664 ms (28.86% GC)\n",
       "  --------------\n",
       "  samples:          915\n",
       "  evals/sample:     1"
      ]
     },
     "execution_count": 145,
     "metadata": {},
     "output_type": "execute_result"
    }
   ],
   "source": [
    "@benchmark jacobi(A, 1000)"
   ]
  },
  {
   "cell_type": "code",
   "execution_count": 146,
   "metadata": {},
   "outputs": [
    {
     "data": {
      "text/plain": [
       "BenchmarkTools.Trial: \n",
       "  memory estimate:  192.82 MiB\n",
       "  allocs estimate:  803802\n",
       "  --------------\n",
       "  minimum time:     64.620 ms (10.45% GC)\n",
       "  median time:      67.686 ms (10.14% GC)\n",
       "  mean time:        67.992 ms (10.47% GC)\n",
       "  maximum time:     76.975 ms (8.00% GC)\n",
       "  --------------\n",
       "  samples:          74\n",
       "  evals/sample:     1"
      ]
     },
     "execution_count": 146,
     "metadata": {},
     "output_type": "execute_result"
    }
   ],
   "source": [
    "@benchmark QR_eigen(A, 1000)"
   ]
  },
  {
   "cell_type": "code",
   "execution_count": null,
   "metadata": {},
   "outputs": [],
   "source": []
  }
 ],
 "metadata": {
  "kernelspec": {
   "display_name": "Julia 1.6.1",
   "language": "julia",
   "name": "julia-1.6"
  },
  "language_info": {
   "file_extension": ".jl",
   "mimetype": "application/julia",
   "name": "julia",
   "version": "1.6.1"
  }
 },
 "nbformat": 4,
 "nbformat_minor": 2
}
