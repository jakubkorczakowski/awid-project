{
 "cells": [
  {
   "cell_type": "markdown",
   "metadata": {},
   "source": [
    "<font size=\"3\">\n",
    "Celem projektu jest zaimplementowanie i przeprowadzanie analizy porównawczej trzech algorytmów wyznaczania wartości i wektorów własnych macierzy z pokazaniem co najmniej dwóch przykładów zastosowania w analizie danych (np. wyznaczanie minimum formy kwadratowej x^TAx, PCA, SVD, pinv, itp...)\n",
    "\n",
    "Proponowane aspekty podlegające porównaniu:\n",
    "<ul>\n",
    "    <li>ogólność i stabilność metod (analiza dziedziny z możliwością zastosowania),</li>\n",
    "    <li>zajętość pamięciowa,</li>\n",
    "    <li>obciążenie procesora,</li>\n",
    "    <li>wrażliwość na błędy danych,</li>\n",
    "    <li>ograniczenia co do rozmiaru macierzy.</li>\n",
    "</ul>\n",
    "\n",
    "Proponowane algorytmy (proszę samodzielnie wybrać 3):\n",
    "<ul>\n",
    "    <li>QR,</li>\n",
    "    <li>Metoda potęgowa,</li>\n",
    "    <li>Householder tranformation,</li>\n",
    "    <li>Lanczos algorithm,</li>\n",
    "    <li>Jacobie eigenvalue algorithm,</li>\n",
    "    <li>Locally Optimal Block Preconditioned Conjugate Gradient (LOBPCG)</li>\n",
    "</ul>\n",
    "Implementacja algorytmów musi być wykonana w sposób możliwie efektywny i kontrolowany.\n",
    "Oznacza to, że należy dołożyć starań, aby uruchamiany kod był możliwie zoptymalizowany.\n",
    "\n",
    "Raport końcowy powinien składać się z czterech części:\n",
    "\n",
    "<ol>\n",
    "    <li>wstępu precyzującego jakie algorytmy i w jakim języku zostały zaimplementowane;</li>\n",
    "    <li>opisu badania, przedstawiającego wybrane przypadki testowe (rodzaje macierzy i jakie cechy tymi macierzami zamierzaliście testować), aspekty porównania oraz (najważniejsze) sposoby i warunki ich pomiaru; w warunkach pomiaru proszę uwzględnić parametry środowiska uruchomieniowego: rozmiar i prędkość pamięci, model procesora, model i typ dysku; niezbędne jest wyszczególnienie wszystkich zastosowanych optymalizacji algorytmów;</li>\n",
    "    <li>sekcji z wynikami przedstawionymi w odpowiedniej formie wizualnej;</li>\n",
    "    <li>podsumowania, odnoszącego się do wyników, obiektywnie zestawiających cechy charakterystyczne tych algorytmów; należy skonfrontować uzyskane wyniki ze spodziewanymi; warto odnieść się w dyskusji do aspektu związane z implementacją algorytmów.\n",
    "    </li>\n",
    "</ol>\n",
    "W raporcie końcowym należy między innymi załączyć wykresy prezentujące przebiegi procesu zbiegania się do rozwiązania."
   ]
  },
  {
   "cell_type": "code",
   "execution_count": 1,
   "metadata": {},
   "outputs": [
    {
     "data": {
      "text/plain": [
       "3×3 Array{Int64,2}:\n",
       " 1   1   4\n",
       " 2  56   1\n",
       " 5   9  12"
      ]
     },
     "execution_count": 1,
     "metadata": {},
     "output_type": "execute_result"
    }
   ],
   "source": [
    "A = [1 1 4;\n",
    "    2 56 1;\n",
    "    5 9 12]"
   ]
  },
  {
   "cell_type": "markdown",
   "metadata": {},
   "source": [
    "## Metoda Potęgowa"
   ]
  },
  {
   "cell_type": "code",
   "execution_count": 2,
   "metadata": {},
   "outputs": [],
   "source": [
    "# using Pkg\n",
    "# Pkg.add(\"BenchmarkTools\")"
   ]
  },
  {
   "cell_type": "code",
   "execution_count": 3,
   "metadata": {},
   "outputs": [],
   "source": [
    "using LinearAlgebra\n",
    "using BenchmarkTools"
   ]
  },
  {
   "cell_type": "code",
   "execution_count": 4,
   "metadata": {},
   "outputs": [
    {
     "data": {
      "text/plain": [
       "potegowa (generic function with 1 method)"
      ]
     },
     "execution_count": 4,
     "metadata": {},
     "output_type": "execute_result"
    }
   ],
   "source": [
    "function potegowa(A, l::Integer)\n",
    "    n = size(A, 1)\n",
    "    x = ones(n, 1)\n",
    "    local x1\n",
    "    for i in 1:l\n",
    "        x1 = x  # why do we need x from step i-1 \n",
    "        x = A * x\n",
    "        x = x / norm(x)\n",
    "    end\n",
    "    λ = x'*A*x1/(x'*x1)  # why is x1 used here\n",
    "end"
   ]
  },
  {
   "cell_type": "code",
   "execution_count": 5,
   "metadata": {},
   "outputs": [],
   "source": [
    "# @btime potegowa(A, 1000)"
   ]
  },
  {
   "cell_type": "code",
   "execution_count": 6,
   "metadata": {},
   "outputs": [
    {
     "data": {
      "text/plain": [
       "potegowav2 (generic function with 1 method)"
      ]
     },
     "execution_count": 6,
     "metadata": {},
     "output_type": "execute_result"
    }
   ],
   "source": [
    "function potegowav2(A, l::Integer)\n",
    "    n = size(A, 1)\n",
    "    x = ones(Float64, n, 1)\n",
    "    x1 = Array{Float64}\n",
    "    for i in 1:l\n",
    "        x1 = x  # why do we need x from step i-1 \n",
    "        x = A * x\n",
    "        x = x / norm(x)\n",
    "    end\n",
    "    λ = x'*A*x/(x'*x)\n",
    "#     λ = x'*A*x1/(x'*x1)  # why is x1 used here\n",
    "    return λ, x\n",
    "end"
   ]
  },
  {
   "cell_type": "code",
   "execution_count": 7,
   "metadata": {},
   "outputs": [],
   "source": [
    "# potegowav2(A, 1000)"
   ]
  },
  {
   "cell_type": "code",
   "execution_count": 8,
   "metadata": {},
   "outputs": [],
   "source": [
    "# @btime potegowav2(A, 100)"
   ]
  },
  {
   "cell_type": "code",
   "execution_count": 9,
   "metadata": {},
   "outputs": [
    {
     "data": {
      "text/plain": [
       "Eigen{Float64,Float64,Array{Float64,2},Array{Float64,1}}\n",
       "values:\n",
       "3-element Array{Float64,1}:\n",
       " -0.5410990010433583\n",
       " 13.26793353484656\n",
       " 56.273165466196815\n",
       "vectors:\n",
       "3×3 Array{Float64,2}:\n",
       " -0.935035    0.307084   -0.0323698\n",
       "  0.0268217  -0.0366269  -0.978724\n",
       "  0.35354     0.950977   -0.202614"
      ]
     },
     "execution_count": 9,
     "metadata": {},
     "output_type": "execute_result"
    }
   ],
   "source": [
    "eigen(A)"
   ]
  },
  {
   "cell_type": "markdown",
   "metadata": {},
   "source": [
    "## Metoda Jacobiego"
   ]
  },
  {
   "cell_type": "code",
   "execution_count": 10,
   "metadata": {},
   "outputs": [
    {
     "data": {
      "text/plain": [
       "3×3 Array{Int64,2}:\n",
       " 1   1   4\n",
       " 2  56   1\n",
       " 5   9  12"
      ]
     },
     "metadata": {},
     "output_type": "display_data"
    }
   ],
   "source": [
    "display(A)"
   ]
  },
  {
   "cell_type": "code",
   "execution_count": 11,
   "metadata": {},
   "outputs": [
    {
     "data": {
      "text/plain": [
       "maxst (generic function with 1 method)"
      ]
     },
     "execution_count": 11,
     "metadata": {},
     "output_type": "execute_result"
    }
   ],
   "source": [
    "function eye(n)\n",
    "    return Matrix{Float64}(I,n,n)\n",
    "end\n",
    "\n",
    "function maxst(A)\n",
    "    s = 1;\n",
    "    t = 2;\n",
    "    n = size(A,1);\n",
    "\n",
    "    for c = 2:n\n",
    "        for r = 1:c-1\n",
    "            if abs(A[r,c]) > abs(A[s,t])\n",
    "            s = r;\n",
    "            t = c;\n",
    "            end\n",
    "        end\n",
    "    end\n",
    "    return s,t\n",
    "end\n"
   ]
  },
  {
   "cell_type": "code",
   "execution_count": 12,
   "metadata": {},
   "outputs": [
    {
     "data": {
      "text/plain": [
       "jacobi (generic function with 1 method)"
      ]
     },
     "execution_count": 12,
     "metadata": {},
     "output_type": "execute_result"
    }
   ],
   "source": [
    "function jacobi(A, l::Integer)\n",
    "    n = size(A,1);\n",
    "    for i = 1:l\n",
    "        s,t = maxst(A);\n",
    "        d = sqrt((A[s,s] - A[t,t])^2 + 4*A[s,t]^2);\n",
    "        sin2t = 2*A[s,t]/d;\n",
    "        cos2t = (A[s,s] - A[t,t]) / d;\n",
    "        dt = sqrt(2*(1+cos2t));\n",
    "        sint = abs(sin2t) / dt;\n",
    "        cost = abs((1+ cos2t) / dt);\n",
    "        cost = sign(A[s,t]) * cost;\n",
    "\n",
    "        R = eye(n);\n",
    "        R[s,s] = cost;\n",
    "        R[t,t] = cost;\n",
    "        R[s,t] = -sint;\n",
    "        R[t,s] = sint;\n",
    "        A = R'*A*R;\n",
    "    end\n",
    "    return A\n",
    "end"
   ]
  },
  {
   "cell_type": "code",
   "execution_count": 13,
   "metadata": {},
   "outputs": [
    {
     "data": {
      "text/plain": [
       "3×3 Array{Float64,2}:\n",
       " 56.2732    0.0        3.08084e-38\n",
       "  7.15356  13.2679    -1.92593e-34\n",
       "  3.79269   0.664874  -0.541099"
      ]
     },
     "metadata": {},
     "output_type": "display_data"
    },
    {
     "data": {
      "text/plain": [
       "3-element Array{Float64,1}:\n",
       " -0.5410990010433568\n",
       " 13.267933534846554\n",
       " 56.273165466196815"
      ]
     },
     "execution_count": 13,
     "metadata": {},
     "output_type": "execute_result"
    }
   ],
   "source": [
    "AJ = jacobi(A, 15)\n",
    "display(AJ)\n",
    "diag(AJ)[end:-1:1]"
   ]
  },
  {
   "cell_type": "code",
   "execution_count": 14,
   "metadata": {},
   "outputs": [
    {
     "data": {
      "text/plain": [
       "Eigen{Float64,Float64,Array{Float64,2},Array{Float64,1}}\n",
       "values:\n",
       "3-element Array{Float64,1}:\n",
       " -0.5410990010433583\n",
       " 13.26793353484656\n",
       " 56.273165466196815\n",
       "vectors:\n",
       "3×3 Array{Float64,2}:\n",
       " -0.935035    0.307084   -0.0323698\n",
       "  0.0268217  -0.0366269  -0.978724\n",
       "  0.35354     0.950977   -0.202614"
      ]
     },
     "execution_count": 14,
     "metadata": {},
     "output_type": "execute_result"
    }
   ],
   "source": [
    "eigen(A)"
   ]
  },
  {
   "cell_type": "markdown",
   "metadata": {},
   "source": [
    "## Metoda QR"
   ]
  },
  {
   "cell_type": "code",
   "execution_count": 15,
   "metadata": {},
   "outputs": [
    {
     "data": {
      "text/plain": [
       "mgs (generic function with 1 method)"
      ]
     },
     "execution_count": 15,
     "metadata": {},
     "output_type": "execute_result"
    }
   ],
   "source": [
    "function mgs(A)\n",
    "    n = size(A,1);\n",
    "    R = zeros(n, n);\n",
    "    Q = zeros(n, n);\n",
    "    for j = 1:n\n",
    "        v = A[:,j];\n",
    "        for i = 1:j-1\n",
    "            R[i,j] = Q[:,i]'*v;\n",
    "            v = v - R[i,j]*Q[:,i];\n",
    "        end\n",
    "        R[j,j] = norm(v)\n",
    "        Q[:,j] = v / R[j,j]\n",
    "    end\n",
    "    return Q,R\n",
    "end\n",
    "\n"
   ]
  },
  {
   "cell_type": "code",
   "execution_count": 16,
   "metadata": {},
   "outputs": [],
   "source": [
    "# AS = [1 5 6;\n",
    "#     5 23 9;\n",
    "#     6 9 18]"
   ]
  },
  {
   "cell_type": "code",
   "execution_count": 17,
   "metadata": {},
   "outputs": [],
   "source": [
    "test, test2 = mgs(A);"
   ]
  },
  {
   "cell_type": "code",
   "execution_count": 18,
   "metadata": {},
   "outputs": [
    {
     "data": {
      "text/plain": [
       "3×3 Array{Float64,2}:\n",
       " 0.182574  -0.0873505   0.979304\n",
       " 0.365148   0.930829    0.0149512\n",
       " 0.912871  -0.354862   -0.201841"
      ]
     },
     "metadata": {},
     "output_type": "display_data"
    },
    {
     "data": {
      "text/plain": [
       "3×3 Array{Float64,2}:\n",
       " 5.47723  28.8467  12.0499\n",
       " 0.0      48.8453  -3.67691\n",
       " 0.0       0.0      1.51007"
      ]
     },
     "metadata": {},
     "output_type": "display_data"
    }
   ],
   "source": [
    "display(test)\n",
    "display(test2)"
   ]
  },
  {
   "cell_type": "code",
   "execution_count": 19,
   "metadata": {},
   "outputs": [
    {
     "data": {
      "text/plain": [
       "QR_eigen (generic function with 1 method)"
      ]
     },
     "execution_count": 19,
     "metadata": {},
     "output_type": "execute_result"
    }
   ],
   "source": [
    "function QR_eigen(A, l::Integer)\n",
    "    Q,R = mgs(A)\n",
    "    for k = 1:l\n",
    "        Q,R = mgs(A);\n",
    "        A = R*Q;\n",
    "    end\n",
    "    A\n",
    "end"
   ]
  },
  {
   "cell_type": "code",
   "execution_count": 20,
   "metadata": {},
   "outputs": [],
   "source": [
    "# function QR_eigen_rand(l::Integer)\n",
    "#     A = rand(5, 5);\n",
    "#     A = A - tril(A,-1)\n",
    "#     display(eigen(A))\n",
    "#     Q,R = mgs(A)\n",
    "#     for k = 1:l\n",
    "#         Q,R = mgs(A);\n",
    "#         A = R*Q;\n",
    "#     end\n",
    "#     diag(A)[end:-1:1]\n",
    "#     A\n",
    "# end"
   ]
  },
  {
   "cell_type": "code",
   "execution_count": 21,
   "metadata": {},
   "outputs": [],
   "source": [
    "# QR_eigen_rand(100)"
   ]
  },
  {
   "cell_type": "code",
   "execution_count": 22,
   "metadata": {},
   "outputs": [
    {
     "data": {
      "text/plain": [
       "3×3 Array{Float64,2}:\n",
       " 56.2732        7.27402      3.58067\n",
       "  1.45273e-7   13.2679      -0.517151\n",
       "  2.00205e-28  -5.3929e-20  -0.541099"
      ]
     },
     "execution_count": 22,
     "metadata": {},
     "output_type": "execute_result"
    }
   ],
   "source": [
    "QR_eigen(A, 15)"
   ]
  },
  {
   "cell_type": "code",
   "execution_count": 23,
   "metadata": {},
   "outputs": [
    {
     "data": {
      "text/plain": [
       "3-element Array{Float64,1}:\n",
       " -0.5410990010433575\n",
       " 13.267933559418443\n",
       " 56.273165441624926"
      ]
     },
     "execution_count": 23,
     "metadata": {},
     "output_type": "execute_result"
    }
   ],
   "source": [
    "diag(QR_eigen(A, 15))[end:-1:1]"
   ]
  },
  {
   "cell_type": "code",
   "execution_count": 24,
   "metadata": {},
   "outputs": [
    {
     "data": {
      "text/plain": [
       "3-element Array{Float64,1}:\n",
       " -0.5410990010433575\n",
       " 13.267933534846561\n",
       " 56.27316546619681"
      ]
     },
     "execution_count": 24,
     "metadata": {},
     "output_type": "execute_result"
    }
   ],
   "source": [
    "diag(QR_eigen(A, 150))[end:-1:1]"
   ]
  },
  {
   "cell_type": "code",
   "execution_count": 25,
   "metadata": {},
   "outputs": [
    {
     "data": {
      "text/plain": [
       "Eigen{Float64,Float64,Array{Float64,2},Array{Float64,1}}\n",
       "values:\n",
       "3-element Array{Float64,1}:\n",
       " -0.5410990010433583\n",
       " 13.26793353484656\n",
       " 56.273165466196815\n",
       "vectors:\n",
       "3×3 Array{Float64,2}:\n",
       " -0.935035    0.307084   -0.0323698\n",
       "  0.0268217  -0.0366269  -0.978724\n",
       "  0.35354     0.950977   -0.202614"
      ]
     },
     "execution_count": 25,
     "metadata": {},
     "output_type": "execute_result"
    }
   ],
   "source": [
    "eigen(A)"
   ]
  },
  {
   "cell_type": "code",
   "execution_count": null,
   "metadata": {},
   "outputs": [],
   "source": []
  },
  {
   "cell_type": "code",
   "execution_count": null,
   "metadata": {},
   "outputs": [],
   "source": []
  }
 ],
 "metadata": {
  "kernelspec": {
   "display_name": "Julia 1.5.4",
   "language": "julia",
   "name": "julia-1.5"
  },
  "language_info": {
   "file_extension": ".jl",
   "mimetype": "application/julia",
   "name": "julia",
   "version": "1.5.4"
  }
 },
 "nbformat": 4,
 "nbformat_minor": 2
}
