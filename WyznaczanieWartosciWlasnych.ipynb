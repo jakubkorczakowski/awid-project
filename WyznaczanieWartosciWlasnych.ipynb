{
 "cells": [
  {
   "cell_type": "markdown",
   "metadata": {},
   "source": [
    "<font size=\"3\">\n",
    "Celem projektu jest zaimplementowanie i przeprowadzanie analizy porównawczej trzech algorytmów wyznaczania wartości i wektorów własnych macierzy z pokazaniem co najmniej dwóch przykładów zastosowania w analizie danych (np. wyznaczanie minimum formy kwadratowej x^TAx, PCA, SVD, pinv, itp...)\n",
    "\n",
    "Proponowane aspekty podlegające porównaniu:\n",
    "<ul>\n",
    "    <li>ogólność i stabilność metod (analiza dziedziny z możliwością zastosowania),</li>\n",
    "    <li>zajętość pamięciowa,</li>\n",
    "    <li>obciążenie procesora,</li>\n",
    "    <li>wrażliwość na błędy danych,</li>\n",
    "    <li>ograniczenia co do rozmiaru macierzy.</li>\n",
    "</ul>\n",
    "\n",
    "Proponowane algorytmy (proszę samodzielnie wybrać 3):\n",
    "<ul>\n",
    "    <li>QR,</li>\n",
    "    <li>Metoda potęgowa,</li>\n",
    "    <li>Householder tranformation,</li>\n",
    "    <li>Lanczos algorithm,</li>\n",
    "    <li>Jacobie eigenvalue algorithm,</li>\n",
    "    <li>Locally Optimal Block Preconditioned Conjugate Gradient (LOBPCG)</li>\n",
    "</ul>\n",
    "Implementacja algorytmów musi być wykonana w sposób możliwie efektywny i kontrolowany.\n",
    "Oznacza to, że należy dołożyć starań, aby uruchamiany kod był możliwie zoptymalizowany.\n",
    "\n",
    "Raport końcowy powinien składać się z czterech części:\n",
    "\n",
    "<ol>\n",
    "    <li>wstępu precyzującego jakie algorytmy i w jakim języku zostały zaimplementowane;</li>\n",
    "    <li>opisu badania, przedstawiającego wybrane przypadki testowe (rodzaje macierzy i jakie cechy tymi macierzami zamierzaliście testować), aspekty porównania oraz (najważniejsze) sposoby i warunki ich pomiaru; w warunkach pomiaru proszę uwzględnić parametry środowiska uruchomieniowego: rozmiar i prędkość pamięci, model procesora, model i typ dysku; niezbędne jest wyszczególnienie wszystkich zastosowanych optymalizacji algorytmów;</li>\n",
    "    <li>sekcji z wynikami przedstawionymi w odpowiedniej formie wizualnej;</li>\n",
    "    <li>podsumowania, odnoszącego się do wyników, obiektywnie zestawiających cechy charakterystyczne tych algorytmów; należy skonfrontować uzyskane wyniki ze spodziewanymi; warto odnieść się w dyskusji do aspektu związane z implementacją algorytmów.\n",
    "    </li>\n",
    "</ol>\n",
    "W raporcie końcowym należy między innymi załączyć wykresy prezentujące przebiegi procesu zbiegania się do rozwiązania."
   ]
  },
  {
   "cell_type": "markdown",
   "metadata": {},
   "source": [
    "### Pierwszy kamień milowy (10.05 23:59)\n",
    "- implementacja trzech algorytmów (potęgowa, jacobi, qr),\n",
    "- optymalizacja (typy, ?),\n",
    "- testy - wstępne, różne wielkości macierzy, na razie losowe macierze?,\n",
    "- sprawozdanie - wstępny opis algorytmów, krótki, złożoność obliczeniowa, charakterystka (podział na podstawie obrazka z http://home.agh.edu.pl/~chwiej/mn/problem_wlasny_2016.pdf), wstępny wykres zbieżności, krótki opis testów (tabelka).\n"
   ]
  },
  {
   "cell_type": "markdown",
   "metadata": {},
   "source": [
    "### Materiały: \n",
    "- performance - https://docs.julialang.org/en/v1/manual/performance-tips/\n",
    "- Python różnice - https://docs.julialang.org/en/v1/manual/noteworthy-differences/#Noteworthy-differences-from-Python\n",
    "- http://home.agh.edu.pl/~chwiej/mn/problem_wlasny_2016.pdf\n",
    "- http://ucidatascienceinitiative.github.io/IntroToJulia/\n",
    "- https://cheatsheets.quantecon.org/\n",
    "- http://ucidatascienceinitiative.github.io/IntroToJulia/Html/ArraysAndMatrices\n",
    "- https://annotate.net/user/Robert-Szmur%C5%82o/awid-05?passid=54561B31-E992-FE1A-5D9E-415434D1D852"
   ]
  },
  {
   "cell_type": "code",
   "execution_count": 1,
   "metadata": {},
   "outputs": [
    {
     "output_type": "execute_result",
     "data": {
      "text/plain": [
       "3×3 Array{Int64,2}:\n",
       " 45   1   4\n",
       "  2  56   1\n",
       "  5   9  50"
      ]
     },
     "metadata": {},
     "execution_count": 1
    }
   ],
   "source": [
    "A = [45 1 4;\n",
    "    2 56 1;\n",
    "    5 9 50]"
   ]
  },
  {
   "cell_type": "markdown",
   "metadata": {},
   "source": [
    "## Metoda Potęgowa"
   ]
  },
  {
   "cell_type": "code",
   "execution_count": 2,
   "metadata": {},
   "outputs": [],
   "source": [
    "# using Pkg\n",
    "# Pkg.add(\"PyPlot\")"
   ]
  },
  {
   "cell_type": "code",
   "execution_count": 2,
   "metadata": {},
   "outputs": [],
   "source": [
    "using LinearAlgebra\n",
    "using BenchmarkTools"
   ]
  },
  {
   "cell_type": "code",
   "execution_count": 3,
   "metadata": {},
   "outputs": [],
   "source": [
    "using PyPlot"
   ]
  },
  {
   "cell_type": "code",
   "execution_count": 4,
   "metadata": {},
   "outputs": [
    {
     "output_type": "execute_result",
     "data": {
      "text/plain": [
       "potegowa (generic function with 1 method)"
      ]
     },
     "metadata": {},
     "execution_count": 4
    }
   ],
   "source": [
    "function potegowa(A, l::Integer)\n",
    "    n = size(A, 1)\n",
    "    x = ones(n, 1)\n",
    "#     local x1\n",
    "    for i in 1:l\n",
    "#         x1 = x  # why do we need x from step i-1 \n",
    "        x = A * x\n",
    "        x = x / norm(x)\n",
    "    end\n",
    "#     λ = x'*A*x/(x'*x)  # why is x1 used here\n",
    "    λ = x'*A*x\n",
    "    return λ, x\n",
    "end"
   ]
  },
  {
   "cell_type": "code",
   "execution_count": 108,
   "metadata": {},
   "outputs": [
    {
     "data": {
      "text/plain": [
       "Eigen{Complex{Float64},Complex{Float64},Array{Complex{Float64},2},Array{Complex{Float64},1}}\n",
       "values:\n",
       "5-element Array{Complex{Float64},1}:\n",
       "  -0.3796551222490756 - 1.7523706127992362im\n",
       "  -0.3796551222490756 + 1.7523706127992362im\n",
       " -0.34027781249688294 - 1.2953137826513144im\n",
       " -0.34027781249688294 + 1.2953137826513144im\n",
       "   1.8694110694919202 + 0.0im\n",
       "vectors:\n",
       "5×5 Array{Complex{Float64},2}:\n",
       "   0.240242-0.0197955im    0.240242+0.0197955im  …     0.156275+0.0im\n",
       "   0.152103-0.416811im     0.152103+0.416811im         -0.03923+0.0im\n",
       "    0.57663-0.0im           0.57663+0.0im           0.000390085+0.0im\n",
       " -0.0372778-0.527641im   -0.0372778+0.527641im        -0.573202+0.0im\n",
       "  -0.249147+0.265806im    -0.249147-0.265806im        -0.803416+0.0im"
      ]
     },
     "metadata": {},
     "output_type": "display_data"
    },
    {
     "data": {
      "text/plain": [
       "([1.8613465464459142], [-0.1521211099941537; 0.05034984358724556; … ; 0.5844368371502435; 0.7954055458992091])"
      ]
     },
     "execution_count": 108,
     "metadata": {},
     "output_type": "execute_result"
    }
   ],
   "source": [
    "# Ta macierz ma wartości własne zespolone, ale największa jest rzeczywista i liczy poprawnie\n",
    "A = [-0.818231  -0.495184   -0.133293   0.70199    -0.999506\n",
    "  0.843086   0.0847109  -1.67399    0.171253    0.128142\n",
    " -1.96322    2.07188    -0.336791   0.0795664  -0.540878\n",
    " -1.33479    0.24888    -0.60913   -0.0847137   1.1221\n",
    " -1.23948    0.202065    2.12274    0.0489309   1.58457]\n",
    "display(eigen(A))\n",
    "potegowa(A, 100)"
   ]
  },
  {
   "cell_type": "code",
   "execution_count": 65,
   "metadata": {},
   "outputs": [
    {
     "data": {
      "text/plain": [
       "Eigen{Complex{Float64},Complex{Float64},Array{Complex{Float64},2},Array{Complex{Float64},1}}\n",
       "values:\n",
       "5-element Array{Complex{Float64},1}:\n",
       " -1.8635055554603985 - 2.2328437309920943im\n",
       " -1.4878683281352536 + 1.8943160025216115im\n",
       " -0.8429050922550397 - 0.045004335711459224im\n",
       " -0.6434371974571985 - 1.5342361303419474im\n",
       "  1.9036781733078914 - 0.0822318054761032im\n",
       "vectors:\n",
       "5×5 Array{Complex{Float64},2}:\n",
       "  -0.177436+0.457229im  0.0643302-0.0948968im  …  0.0908536-0.0627767im\n",
       "   0.184969+0.227261im   0.154844-0.0870765im     -0.451236+0.0126191im\n",
       "   0.581279+0.0im        0.670189+0.0im            0.725712+0.0im\n",
       " -0.0536516+0.22893im     -0.1046-0.343406im       0.493673+0.00947003im\n",
       "   0.377593+0.371278im   0.434214-0.434435im       0.116484+0.00153051im"
      ]
     },
     "metadata": {},
     "output_type": "display_data"
    },
    {
     "data": {
      "text/plain": [
       "(Complex{Float64}[-1.8635055554603992 - 2.2328437309920988im], Complex{Float64}[0.28646740752665084 + 0.39809351896697903im; 0.29136658846612573 - 0.03109015241884338im; … ; 0.16262289946954828 + 0.1698270153125284im; 0.517134627598024 - 0.11399742624430172im])"
      ]
     },
     "execution_count": 65,
     "metadata": {},
     "output_type": "execute_result"
    }
   ],
   "source": [
    "# Dla tej macierzy potegowa jest rozbiezna, dwie najwieksze wartości własne są równe i zespolone\n",
    "# https://math.unice.fr/~frapetti/CorsoF/cours4part2.pdf\n",
    "# Jeśli macierz o wartościach rzeczywistych ma zespolone wartości własne, to występują one zawsze w parach + i - \n",
    "# W takich przypadkach metoda potęgowa będzie rozbieżna\n",
    "# Some eigenvalues can be complex-valued but if the matrix is\n",
    "# real-valued, the complex eigenvalues will appear in complex conjugate pairs.\n",
    "# https://people.math.sc.edu/meade/math526-F05/labs/lab12-PartI.pdf\n",
    "A = [-1.1055     -0.67013    0.572708  -0.654804   -0.00826613\n",
    " -1.29232    -0.550262  -0.454326  -1.47285     0.583418\n",
    "  0.419839   -2.38968    0.724242   0.0865692  -2.60346\n",
    "  0.0936464  -0.788076   1.27992   -0.708528   -0.0224423\n",
    " -0.53259    -1.41977    1.14853   -2.13332    -1.29399]\n",
    "display(eigen(A))\n",
    "potegowa(A, 10000)"
   ]
  },
  {
   "cell_type": "code",
   "execution_count": 104,
   "metadata": {},
   "outputs": [
    {
     "data": {
      "text/plain": [
       "Eigen{Complex{Float64},Complex{Float64},Array{Complex{Float64},2},Array{Complex{Float64},1}}\n",
       "values:\n",
       "3-element Array{Complex{Float64},1}:\n",
       " 41.674155546205995 - 4.386846308805374im\n",
       "  50.57853009350467 + 2.956377420948265im\n",
       "  58.74731436028921 + 0.43046888785710435im\n",
       "vectors:\n",
       "3×3 Array{Complex{Float64},2}:\n",
       "   -0.529412+0.397869im    0.406625-0.115539im   0.215967-0.213384im\n",
       " 0.000758981-0.0558311im  -0.286308-0.0606935im  0.470134-0.0578787im\n",
       "    0.747198+0.0im         0.857701+0.0im         0.82671+0.0im"
      ]
     },
     "metadata": {},
     "output_type": "display_data"
    },
    {
     "data": {
      "text/plain": [
       "(Complex{Float64}[58.74731399211141 + 0.4304686086574243im], Complex{Float64}[0.3012365248344199 + 0.037823513442226495im; 0.3361497464051707 + 0.33373580515474044im; 0.511108867561302 + 0.6497825973248496im])"
      ]
     },
     "execution_count": 104,
     "metadata": {},
     "output_type": "execute_result"
    }
   ],
   "source": [
    "# Dla tej macierzy jest zbieżna pomimo, że największa wartość własna jest zespolona\n",
    "# Ogólnie, jeśli wartości w macierzy są zespolone, to liczy poprawnie\n",
    "A = [45-2im 1 4;\n",
    "    2 56 1;\n",
    "    5 9 50]\n",
    "display(eigen(A))\n",
    "potegowa(A, 100)"
   ]
  },
  {
   "cell_type": "code",
   "execution_count": 63,
   "metadata": {},
   "outputs": [
    {
     "data": {
      "text/plain": [
       "Eigen{Float64,Float64,Array{Float64,2},Array{Float64,1}}\n",
       "values:\n",
       "3-element Array{Float64,1}:\n",
       " -2.0\n",
       " -2.0\n",
       "  1.0\n",
       "vectors:\n",
       "3×3 Array{Float64,2}:\n",
       "  0.948683  -0.948683   0.0\n",
       " -0.316228   0.316228   1.0\n",
       "  0.0        4.213e-16  0.0"
      ]
     },
     "metadata": {},
     "output_type": "display_data"
    },
    {
     "data": {
      "text/plain": [
       "([-2.0020041345679496], [-0.9487449407083962; 0.3160370588509821; 0.001901292466349487])"
      ]
     },
     "execution_count": 63,
     "metadata": {},
     "output_type": "execute_result"
    }
   ],
   "source": [
    "# Dwie największe wartości własne są równe - bardzo wolno zbieżna (Powinna się w ogóle zbiegać?)\n",
    "A = [-2 0 1\n",
    "    1 1 0\n",
    "    0 0 -2]\n",
    "display(eigen(A))\n",
    "potegowa(A, 1000)"
   ]
  },
  {
   "cell_type": "code",
   "execution_count": 9,
   "metadata": {},
   "outputs": [
    {
     "output_type": "display_data",
     "data": {
      "text/plain": "Eigen{Complex{Float64},Complex{Float64},Array{Complex{Float64},2},Array{Complex{Float64},1}}\nvalues:\n5-element Array{Complex{Float64},1}:\n -1.1598710731079471 - 0.3462555890599993im\n -1.1598710731079471 + 0.3462555890599993im\n  1.2000275509723277 - 1.1322655840927116im\n  1.2000275509723277 + 1.1322655840927116im\n  1.2580091092032046 + 0.0im\nvectors:\n5×5 Array{Complex{Float64},2}:\n   -0.336485-0.158647im     -0.336485+0.158647im   …  -0.322818+0.0im\n    0.330308+0.0265454im     0.330308-0.0265454im     -0.646265+0.0im\n    0.173412+0.033089im      0.173412-0.033089im       0.258045+0.0im\n -0.00411499-0.0336207im  -0.00411499+0.0336207im     0.0694608+0.0im\n   -0.848226-0.0im          -0.848226+0.0im           -0.637745+0.0im"
     },
     "metadata": {}
    },
    {
     "output_type": "execute_result",
     "data": {
      "text/plain": [
       "([0.9838225614394718], [0.2624286849324827; 0.7001711851526763; … ; 0.06648226718235999; 0.443790389057734])"
      ]
     },
     "metadata": {},
     "execution_count": 9
    }
   ],
   "source": [
    "A = randn(5,5)\n",
    "display(eigen(A))\n",
    "potegowa(A, 1000)"
   ]
  },
  {
   "cell_type": "code",
   "execution_count": 61,
   "metadata": {},
   "outputs": [
    {
     "data": {
      "text/plain": [
       "Eigen{Float64,Float64,Array{Float64,2},Array{Float64,1}}\n",
       "values:\n",
       "3-element Array{Float64,1}:\n",
       " -2.0\n",
       " -2.0\n",
       "  1.0\n",
       "vectors:\n",
       "3×3 Array{Float64,2}:\n",
       "  0.948683  -0.948683   0.0\n",
       " -0.316228   0.316228   1.0\n",
       "  0.0        4.213e-16  0.0"
      ]
     },
     "metadata": {},
     "output_type": "display_data"
    },
    {
     "data": {
      "text/plain": [
       "([-2.000200041334593], [-0.9486896066398895; 0.3162087826714628; 0.00018977587650327834])"
      ]
     },
     "execution_count": 61,
     "metadata": {},
     "output_type": "execute_result"
    }
   ],
   "source": [
    "display(eigen(A))\n",
    "potegowa(A, 1000)"
   ]
  },
  {
   "cell_type": "code",
   "execution_count": 58,
   "metadata": {},
   "outputs": [
    {
     "data": {
      "text/plain": [
       "3×3 Array{Complex{Int64},2}:\n",
       " 45-2im   1+0im   4+0im\n",
       "  2+0im  56+0im   1+0im\n",
       "  5+0im   9+0im  50+0im"
      ]
     },
     "execution_count": 58,
     "metadata": {},
     "output_type": "execute_result"
    }
   ],
   "source": [
    "A = [45-2im 1 4;\n",
    "    2 56 1;\n",
    "    5 9 50]"
   ]
  },
  {
   "cell_type": "code",
   "execution_count": 18,
   "metadata": {},
   "outputs": [
    {
     "data": {
      "text/plain": [
       "(Complex{Float64}[58.32035147497521 - 0.1581480623338365im], Complex{Float64}[0.23301842893186753 - 0.14267172512534126im; 0.5224217835267352 - 0.2219682727761108im; 0.7110614458432022 - 0.3123209516519719im])"
      ]
     },
     "execution_count": 18,
     "metadata": {},
     "output_type": "execute_result"
    }
   ],
   "source": [
    "potegowa(A, 150)"
   ]
  },
  {
   "cell_type": "code",
   "execution_count": 16,
   "metadata": {},
   "outputs": [
    {
     "data": {
      "text/plain": [
       "Eigen{Complex{Float64},Complex{Float64},Array{Complex{Float64},2},Array{Complex{Float64},1}}\n",
       "values:\n",
       "3-element Array{Complex{Float64},1}:\n",
       " 42.767769067188766 - 1.5612220224001732im\n",
       "  49.91187945785948 - 0.28062991527043274im\n",
       " 58.320351474951764 - 0.1581480623293987im\n",
       "vectors:\n",
       "3×3 Array{Complex{Float64},2}:\n",
       "   0.875255+0.0im          0.518088-0.167385im   0.270721-0.0369183im\n",
       " -0.0967058+0.00423414im  -0.295483+0.0686078im   0.56758+0.00686323im\n",
       "  -0.464266+0.0949521im    0.782016+0.0im        0.776629+0.0im"
      ]
     },
     "execution_count": 16,
     "metadata": {},
     "output_type": "execute_result"
    }
   ],
   "source": [
    "eigen(A)"
   ]
  },
  {
   "cell_type": "code",
   "execution_count": 21,
   "metadata": {},
   "outputs": [
    {
     "name": "stdout",
     "output_type": "stream",
     "text": [
      "  28.099 μs (604 allocations: 44.09 KiB)\n"
     ]
    },
    {
     "data": {
      "text/plain": [
       "([58.34154096965294], [0.275294750732188; 0.5667684374955316; 0.7765219497723012])"
      ]
     },
     "execution_count": 21,
     "metadata": {},
     "output_type": "execute_result"
    }
   ],
   "source": [
    "@btime potegowa(A, 100)"
   ]
  },
  {
   "cell_type": "code",
   "execution_count": 22,
   "metadata": {},
   "outputs": [
    {
     "data": {
      "text/plain": [
       "potegowav2 (generic function with 1 method)"
      ]
     },
     "execution_count": 22,
     "metadata": {},
     "output_type": "execute_result"
    }
   ],
   "source": [
    "function potegowav2(A, l::Integer)\n",
    "    n = size(A, 1)\n",
    "#     x = ones(Float64, n, 1)\n",
    "    x = (rand(n) .+ 0.01) .% 1 \n",
    "#     x1 = Array{Float64}\n",
    "    for i in 1:l\n",
    "#         x1 = x  # why do we need x from step i-1 \n",
    "        x = A * x\n",
    "        x = x / norm(x)\n",
    "    end\n",
    "    λ = x'*A*x/(x'*x)\n",
    "#     λ = x'*A*x1/(x'*x1)  # why is x1 used here\n",
    "    return λ, x\n",
    "end"
   ]
  },
  {
   "cell_type": "code",
   "execution_count": 23,
   "metadata": {},
   "outputs": [],
   "source": [
    "# potegowav2(A, 1000)"
   ]
  },
  {
   "cell_type": "code",
   "execution_count": 24,
   "metadata": {},
   "outputs": [],
   "source": [
    "# @btime potegowav2(A, 100)"
   ]
  },
  {
   "cell_type": "code",
   "execution_count": 25,
   "metadata": {},
   "outputs": [
    {
     "data": {
      "text/plain": [
       "Eigen{Float64,Float64,Array{Float64,2},Array{Float64,1}}\n",
       "values:\n",
       "3-element Array{Float64,1}:\n",
       " 42.691264195502654\n",
       " 49.967194893786406\n",
       " 58.34154091071096\n",
       "vectors:\n",
       "3×3 Array{Float64,2}:\n",
       " -0.87227     0.556929  -0.275295\n",
       "  0.0950383  -0.31221   -0.566768\n",
       "  0.479701    0.769646  -0.776522"
      ]
     },
     "execution_count": 25,
     "metadata": {},
     "output_type": "execute_result"
    }
   ],
   "source": [
    "eigen(A)"
   ]
  },
  {
   "cell_type": "code",
   "execution_count": 26,
   "metadata": {},
   "outputs": [],
   "source": [
    "# function x = rayleigh(A, epsilon, mu, x)\n",
    "#   x = x / norm(x);\n",
    "#   y = (A - mu * eye(rows(A))) \\ x; \n",
    "#   lambda = y' * x;\n",
    "#   mu = mu + 1 / lambda\n",
    "#   err = norm(y - lambda * x) / norm(y)\n",
    "\n",
    "#   while err > epsilon\n",
    "#     x = y / norm(y);\n",
    "#     y = (A - mu * eye(rows(A))) \\ x;\n",
    "#     lambda = y' * x;\n",
    "#     mu = mu + 1 / lambda\n",
    "#     err = norm(y - lambda * x) / norm(y)\n",
    "#   end\n",
    "\n",
    "# end"
   ]
  },
  {
   "cell_type": "code",
   "execution_count": 106,
   "metadata": {},
   "outputs": [
    {
     "data": {
      "text/plain": [
       "rayleigh_power_method (generic function with 1 method)"
      ]
     },
     "execution_count": 106,
     "metadata": {},
     "output_type": "execute_result"
    }
   ],
   "source": [
    "function rayleigh_power_method(A::Symmetric{Float64}, l::Integer)\n",
    "    n = size(A, 1);\n",
    "    x = ones(n, 1);\n",
    "    mI = eye(n);\n",
    "    mu = rand(1)[1];\n",
    "        \n",
    "    x = x / norm(x);\n",
    "    y = (A - mu*mI) * x;\n",
    "    \n",
    "    for i in 1:l\n",
    "        x = y / norm(y);\n",
    "        y = (A - mu*mI) * x;\n",
    "        λ = y' * x;\n",
    "        mu = mu + 1 / λ[1];\n",
    "    end\n",
    "    λ = x'*A*x\n",
    "    y = y / norm(y);\n",
    "    return λ, y\n",
    "end"
   ]
  },
  {
   "cell_type": "code",
   "execution_count": 28,
   "metadata": {},
   "outputs": [
    {
     "data": {
      "text/plain": [
       "typed_power_method (generic function with 1 method)"
      ]
     },
     "execution_count": 28,
     "metadata": {},
     "output_type": "execute_result"
    }
   ],
   "source": [
    "function typed_power_method(A::Symmetric{Float64}, l::Integer)\n",
    "    n::Int64 = size(A, 1)\n",
    "    x::Array{Float64} = ones(n, 1)\n",
    "    for i::Int64 in 1:l\n",
    "        x = A * x\n",
    "        x = x / norm(x)\n",
    "    end\n",
    "    λ::Float64 = (x'*A*x)[1]\n",
    "    return λ, x\n",
    "end"
   ]
  },
  {
   "cell_type": "markdown",
   "metadata": {},
   "source": [
    "## Metoda Jacobiego"
   ]
  },
  {
   "cell_type": "markdown",
   "metadata": {},
   "source": [
    "#### Macierz symetryczna o rzeczywistych wartościach zawsze ma rzeczywiste wartości własne. Czy chcemy na wejście dopuszczać wartości zespolone?"
   ]
  },
  {
   "cell_type": "code",
   "execution_count": 109,
   "metadata": {},
   "outputs": [
    {
     "ename": "LoadError",
     "evalue": "\u001b[91mUndefVarError: B not defined\u001b[39m",
     "output_type": "error",
     "traceback": [
      "\u001b[91mUndefVarError: B not defined\u001b[39m",
      "",
      "Stacktrace:",
      " [1] top-level scope at In[109]:1",
      " [2] include_string(::Function, ::Module, ::String, ::String) at .\\loading.jl:1091"
     ]
    }
   ],
   "source": [
    "display(B)"
   ]
  },
  {
   "cell_type": "code",
   "execution_count": 5,
   "metadata": {},
   "outputs": [
    {
     "output_type": "execute_result",
     "data": {
      "text/plain": [
       "maxst (generic function with 1 method)"
      ]
     },
     "metadata": {},
     "execution_count": 5
    }
   ],
   "source": [
    "function eye(n)\n",
    "    return Matrix{Float64}(I,n,n)\n",
    "end\n",
    "\n",
    "function maxst(A)\n",
    "    s = 1;\n",
    "    t = 2;\n",
    "    n = size(A,1);\n",
    "\n",
    "    for c = 2:n\n",
    "        for r = 1:c-1\n",
    "            if abs(A[r,c]) > abs(A[s,t])\n",
    "            s = r;\n",
    "            t = c;\n",
    "            end\n",
    "        end\n",
    "    end\n",
    "    return s,t\n",
    "end\n"
   ]
  },
  {
   "cell_type": "code",
   "execution_count": 6,
   "metadata": {},
   "outputs": [
    {
     "output_type": "execute_result",
     "data": {
      "text/plain": [
       "jacobi (generic function with 1 method)"
      ]
     },
     "metadata": {},
     "execution_count": 6
    }
   ],
   "source": [
    "function jacobi(A, l::Integer)\n",
    "    n = size(A,1);\n",
    "    for i = 1:l\n",
    "        s,t = maxst(A);\n",
    "        d = sqrt((A[s,s] - A[t,t])^2 + 4*A[s,t]^2);\n",
    "        sin2t = 2*A[s,t]/d;\n",
    "        cos2t = (A[s,s] - A[t,t]) / d;\n",
    "        dt = sqrt(2*(1+cos2t));\n",
    "        sint = abs(sin2t) / dt;\n",
    "        cost = abs((1+ cos2t) / dt);\n",
    "        cost = sign(A[s,t]) * cost;\n",
    "\n",
    "        R = eye(n);\n",
    "        R[s,s] = cost;\n",
    "        R[t,t] = cost;\n",
    "        R[s,t] = -sint;\n",
    "        R[t,s] = sint;\n",
    "        A = R'*A*R;\n",
    "    end\n",
    "    return A\n",
    "end"
   ]
  },
  {
   "cell_type": "code",
   "execution_count": 112,
   "metadata": {},
   "outputs": [
    {
     "data": {
      "text/plain": [
       "20×20 Symmetric{Float64,Array{Float64,2}}:\n",
       "  0.52452    -1.77321    -0.774372   …   0.0663018  -0.488123  -0.854396\n",
       " -1.77321    -1.16885    -0.332618       0.0895595  -1.06821    0.202813\n",
       " -0.774372   -0.332618   -0.108378      -1.55522    -0.309893   1.68159\n",
       "  0.7166     -0.0245268  -0.746283       0.260813    0.510583  -0.306072\n",
       " -0.33639    -2.64834     1.65784       -1.8199     -0.818416   0.328254\n",
       " -1.07552    -0.0936822   1.45526    …  -1.78331    -1.83483    0.205725\n",
       "  0.165832   -0.541807   -0.678762      -0.476763    1.00397    0.444632\n",
       "  1.11075     1.31962    -0.630932      -0.815773   -1.46709   -0.597956\n",
       " -0.234121   -0.201277   -0.234297      -0.81825    -1.82521    0.588773\n",
       "  1.3        -1.07442    -1.06954       -0.117511   -0.658211   1.00739\n",
       "  0.579684    0.742188   -1.04231    …   2.84142    -1.0772    -0.889995\n",
       "  0.594803    0.678093    0.427835      -1.29506     0.74082   -0.121851\n",
       "  1.84651    -0.904576   -1.04744       -1.03244     1.0987     0.00728088\n",
       "  0.86337    -1.11922    -0.0359196      0.456215    0.77761    0.115452\n",
       "  0.0992285  -0.584781    0.878043      -0.718265    1.31897    0.862873\n",
       " -0.711153    0.498269    0.840106   …  -0.315016    1.86208   -1.65456\n",
       " -0.856419    0.923717    0.561512       1.60218    -0.418021   1.73838\n",
       "  0.0663018   0.0895595  -1.55522        0.835799    0.295557  -0.129331\n",
       " -0.488123   -1.06821    -0.309893       0.295557   -1.21534   -0.777338\n",
       " -0.854396    0.202813    1.68159       -0.129331   -0.777338  -0.793093"
      ]
     },
     "execution_count": 112,
     "metadata": {},
     "output_type": "execute_result"
    }
   ],
   "source": [
    "n = 20\n",
    "A = randn(n,n)\n",
    "B = Symmetric(A)"
   ]
  },
  {
   "cell_type": "code",
   "execution_count": 113,
   "metadata": {},
   "outputs": [
    {
     "data": {
      "text/plain": [
       "20×20 Array{Float64,2}:\n",
       "  7.74631      -3.64225e-83   7.82064e-85  …   4.96029e-155   3.72741e-104\n",
       "  4.63105e-16   7.10279      -1.59578e-88      7.41957e-158  -4.11805e-84\n",
       "  1.27186e-16   2.1727e-16    5.35146         -3.06929e-92    2.99627e-95\n",
       " -3.82021e-18   1.97836e-18  -1.25239e-15     -1.64599e-83   -3.21722e-86\n",
       "  2.44015e-16  -6.86895e-17  -6.36886e-17     -2.74156e-82   -1.62742e-83\n",
       "  2.9409e-16   -3.87636e-16  -1.87024e-16  …  -2.39702e-94    4.02153e-87\n",
       "  4.56489e-17   4.0334e-16    1.20248e-16      2.47083e-83    3.84027e-93\n",
       "  2.09351e-17   1.2176e-16    2.12415e-16      3.33401e-94    2.43681e-83\n",
       "  8.26259e-17  -3.48143e-17  -2.74262e-16     -2.35958e-89    3.71158e-84\n",
       "  2.77976e-17  -1.00266e-16  -2.60961e-16      8.44392e-86    4.21351e-96\n",
       "  3.86772e-17  -5.83642e-17   9.14506e-17  …   5.32402e-84   -9.54991e-94\n",
       " -2.50358e-17  -1.73285e-17  -3.42049e-16     -9.46057e-87    4.92892e-91\n",
       "  2.71951e-16  -2.36293e-16   2.16463e-16     -2.99627e-95   -1.1131e-93\n",
       " -2.0642e-16   -2.60518e-16   6.27945e-17      6.42966e-92    2.23471e-97\n",
       " -1.12564e-16  -2.38896e-16  -4.79579e-16      1.57059e-89    4.28948e-81\n",
       " -5.22848e-16  -4.48301e-18   1.91755e-16  …   2.86124e-84   -1.47531e-91\n",
       " -4.75513e-17  -3.58218e-17  -8.17904e-17     -2.04136e-95    6.03228e-84\n",
       "  1.79795e-16  -2.1126e-16    4.65953e-16      1.09262e-86    9.54197e-96\n",
       " -5.59436e-17  -1.08023e-16   1.43674e-16     -6.61062        2.47006e-86\n",
       " -6.80469e-17   2.19897e-16  -7.22329e-18      2.64184e-16   -7.51608"
      ]
     },
     "metadata": {},
     "output_type": "display_data"
    },
    {
     "data": {
      "text/plain": [
       "20-element Array{Float64,1}:\n",
       " -7.516077372157684\n",
       " -6.610616934506254\n",
       " -6.341686867195648\n",
       " -5.507180142437151\n",
       " -4.4938086937670345\n",
       " -3.0627294846704083\n",
       " -2.747687184083552\n",
       " -2.5769239214995765\n",
       " -1.5365402642236872\n",
       " -1.4307391631354853\n",
       " -0.1762344861920213\n",
       "  1.1398714185092342\n",
       "  2.0454548570360416\n",
       "  2.679478565383572\n",
       "  3.694036926623665\n",
       "  4.080513959244551\n",
       "  4.9487548802893055\n",
       "  5.351457273876637\n",
       "  7.102789093169036\n",
       "  7.746307389810969"
      ]
     },
     "execution_count": 113,
     "metadata": {},
     "output_type": "execute_result"
    }
   ],
   "source": [
    "AJ = jacobi(B, 1500)\n",
    "display(AJ)\n",
    "diag(AJ)[end:-1:1]"
   ]
  },
  {
   "cell_type": "code",
   "execution_count": 41,
   "metadata": {},
   "outputs": [
    {
     "data": {
      "text/plain": [
       "Eigen{Float64,Float64,Array{Float64,2},Array{Float64,1}}\n",
       "values:\n",
       "20-element Array{Float64,1}:\n",
       " -8.207503270279707\n",
       " -7.194225306933484\n",
       " -5.729589522248755\n",
       " -3.952718332623233\n",
       " -3.668934300968891\n",
       " -2.412598230056414\n",
       " -1.8948344119305371\n",
       " -1.1608122961991683\n",
       " -0.5711506620351834\n",
       " -0.41431336679717923\n",
       "  0.6386565397039741\n",
       "  1.000697623489435\n",
       "  2.2687685441388092\n",
       "  2.8515936574793095\n",
       "  2.9914184584707026\n",
       "  3.973238787773431\n",
       "  4.617809011420281\n",
       "  5.649893223664945\n",
       "  5.875654663744747\n",
       "  7.83914952712463\n",
       "vectors:\n",
       "20×20 Array{Float64,2}:\n",
       " -0.315034   -0.132642    0.530256    …   0.0571949  -0.440782\n",
       " -0.125463    0.174036    0.00397885     -0.226221    0.0120995\n",
       " -0.105024    0.208902    0.317066       -0.261962    0.164335\n",
       " -0.354231    0.0748401  -0.106763       -0.168465   -0.195131\n",
       " -0.1627     -0.399857    0.208857       -0.0368588   0.263381\n",
       "  0.111046    0.333521    0.0800341   …   0.188498    0.290939\n",
       "  0.375472   -0.0422454   0.104522       -0.177245    0.000557692\n",
       " -0.378564   -0.0960039   0.0177156       0.137021    0.134771\n",
       " -0.0665681  -0.164012   -0.150313        0.206945   -0.290244\n",
       " -0.193925   -0.351855   -0.240383        0.085193    0.376022\n",
       " -0.0233776  -0.200937   -0.136206    …   0.432779   -0.150309\n",
       "  0.0812082  -0.164227    0.239627       -0.336714   -0.0142207\n",
       " -0.193903    0.455736    0.0821337       0.288209   -0.0687256\n",
       "  0.126152   -0.2251      0.131835       -0.107098   -0.204619\n",
       "  0.344795   -0.0781911   0.302009        0.512215    0.157012\n",
       "  0.0397954  -0.0772372   0.366362    …   0.106255    0.0197586\n",
       " -0.169377    0.259931   -0.100723        0.0044184   0.13773\n",
       "  0.38315     0.0141312  -0.256503       -0.107399   -0.331417\n",
       "  0.13812     0.225224    0.248893        0.050223    0.00710522\n",
       "  0.0876437  -0.117346    0.0427043      -0.168655    0.345518"
      ]
     },
     "execution_count": 41,
     "metadata": {},
     "output_type": "execute_result"
    }
   ],
   "source": [
    "eigen(B)"
   ]
  },
  {
   "cell_type": "code",
   "execution_count": null,
   "metadata": {},
   "outputs": [],
   "source": []
  },
  {
   "cell_type": "code",
   "execution_count": null,
   "metadata": {},
   "outputs": [],
   "source": []
  },
  {
   "cell_type": "code",
   "execution_count": 10,
   "metadata": {},
   "outputs": [
    {
     "output_type": "display_data",
     "data": {
      "text/plain": "-0.7071067811865475 - 0.7071067811865475im"
     },
     "metadata": {}
    },
    {
     "output_type": "execute_result",
     "data": {
      "text/plain": [
       "0.9999999999999999"
      ]
     },
     "metadata": {},
     "execution_count": 10
    }
   ],
   "source": [
    "# Nie wiem jak sprawić, żeby Jacobi poprawnie liczył zespolone wartości \n",
    "# Problemem moga być funkcje sign i abs\n",
    "# abs zwraca odległość, a sign taką wartość, że abs(sign(x)) == 1\n",
    "display(sign(-1-1im))\n",
    "abs(sign(-1-1im))"
   ]
  },
  {
   "cell_type": "code",
   "execution_count": 21,
   "metadata": {},
   "outputs": [
    {
     "data": {
      "text/plain": [
       "eye_complex (generic function with 1 method)"
      ]
     },
     "execution_count": 21,
     "metadata": {},
     "output_type": "execute_result"
    }
   ],
   "source": [
    "function eye_complex(n)\n",
    "    return Matrix{ComplexF64}(I,n,n)\n",
    "end"
   ]
  },
  {
   "cell_type": "code",
   "execution_count": 51,
   "metadata": {},
   "outputs": [
    {
     "data": {
      "text/plain": [
       "jacobi (generic function with 1 method)"
      ]
     },
     "execution_count": 51,
     "metadata": {},
     "output_type": "execute_result"
    }
   ],
   "source": [
    "function jacobi(A, l::Integer)\n",
    "    n = size(A,1);\n",
    "    for i = 1:l\n",
    "        s,t = maxst(A);\n",
    "        d = sqrt((A[s,s] - A[t,t])^2 + 4*A[s,t]^2);\n",
    "        sin2t = 2*A[s,t]/d;\n",
    "        cos2t = (A[s,s] - A[t,t]) / d;\n",
    "        dt = sqrt(2*(1+cos2t));\n",
    "        sint = abs(sin2t) / dt;\n",
    "        cost = abs((1+ cos2t) / dt);\n",
    "        cost = sign(A[s,t]) * cost;\n",
    "\n",
    "        R = eye_complex(n);  # normale eye wyrzucało błąd, bo macierz była Float64\n",
    "        R[s,s] = cost;\n",
    "        R[t,t] = cost;\n",
    "        R[s,t] = -sint;\n",
    "        R[t,s] = sint;\n",
    "        A = R'*A*R;\n",
    "    end\n",
    "    return A\n",
    "end"
   ]
  },
  {
   "cell_type": "code",
   "execution_count": 52,
   "metadata": {},
   "outputs": [
    {
     "data": {
      "text/plain": [
       "Eigen{Complex{Float64},Complex{Float64},Array{Complex{Float64},2},Array{Complex{Float64},1}}\n",
       "values:\n",
       "5-element Array{Complex{Float64},1}:\n",
       "  -3.0728261600789883 - 4.343423148654246im\n",
       "  -1.5807444839941889 + 0.6265104406562688im\n",
       " -0.03496384287088344 + 0.2233104118733166im\n",
       "   2.5500626666657067 + 0.14802652783510567im\n",
       "    2.568017020278361 + 3.345575768289563im\n",
       "vectors:\n",
       "5×5 Array{Complex{Float64},2}:\n",
       "  -0.150365-0.155104im    0.723047+0.0im        …   0.111561+0.214583im\n",
       "   0.835492+0.0im          0.39402+0.293342im       0.843244+0.0im\n",
       "  -0.325707+0.338137im  0.00205348+0.170083im       0.245722-0.272711im\n",
       " -0.0335178+0.101409im    0.293064+0.205304im      -0.110834+0.00171954im\n",
       " -0.0591951-0.141254im    0.268465-0.0828247im      -0.18808-0.219173im"
      ]
     },
     "metadata": {},
     "output_type": "display_data"
    },
    {
     "data": {
      "text/plain": [
       "5-element Array{Complex{Float64},1}:\n",
       "              1.58457 + 0.0im\n",
       "           -0.0847137 + 0.0im\n",
       " 4.656447900319948e28 + 1.9938966858134464e28im\n",
       " 4.656447900319948e28 + 1.9938966858134464e28im\n",
       "            -0.818231 + 0.0im"
      ]
     },
     "execution_count": 52,
     "metadata": {},
     "output_type": "execute_result"
    }
   ],
   "source": [
    "A = [-0.818231  -0.495184+1im   -0.133293   0.70199    -0.999506\n",
    "  0.843086   0.0847109  -1.67399+9im    0.171253    0.128142\n",
    " -1.96322    2.07188    -0.336791   0.0795664-3im  -0.540878\n",
    " -1.33479    0.24888    -0.60913   -0.0847137   1.1221\n",
    " -1.23948    0.202065    2.12274    0.0489309   1.58457]\n",
    "display(eigen(A))\n",
    "diag(jacobi(A, 100))[end:-1:1]"
   ]
  },
  {
   "cell_type": "code",
   "execution_count": 42,
   "metadata": {},
   "outputs": [
    {
     "data": {
      "text/plain": [
       "5×5 Symmetric{Float64,Array{Float64,2}}:\n",
       "  1.15735   0.30399      -1.36958   -1.13302       0.223713\n",
       "  0.30399   0.250663      1.19506    0.000491689   1.80991\n",
       " -1.36958   1.19506      -2.04266    0.535929     -0.194846\n",
       " -1.13302   0.000491689   0.535929  -1.1917       -0.602091\n",
       "  0.223713  1.80991      -0.194846  -0.602091      0.490179"
      ]
     },
     "execution_count": 42,
     "metadata": {},
     "output_type": "execute_result"
    }
   ],
   "source": [
    "n = 5\n",
    "A = randn(n,n)\n",
    "# A[1,1] = A[1,1] + 1im\n",
    "B = Symmetric(A)\n",
    "B"
   ]
  },
  {
   "cell_type": "code",
   "execution_count": 28,
   "metadata": {},
   "outputs": [
    {
     "output_type": "execute_result",
     "data": {
      "text/plain": [
       "5×5 Symmetric{Complex{Float64},Array{Complex{Float64},2}}:\n",
       "   1.19712+2.0im   0.429355+0.0im  …    0.65987+0.0im  -0.496139+0.0im\n",
       "  0.429355+0.0im  0.0229771+0.0im     -0.598849+0.0im   0.420017+0.0im\n",
       " -0.628454+0.0im   0.832969+0.0im     -0.606223+0.0im  0.0329519+0.0im\n",
       "   0.65987+0.0im  -0.598849+0.0im       1.04196+0.0im   0.461577+0.0im\n",
       " -0.496139+0.0im   0.420017+0.0im      0.461577+0.0im   -1.47906+0.0im"
      ]
     },
     "metadata": {},
     "execution_count": 28
    }
   ],
   "source": [
    "n = 5\n",
    "A = [1.19712+1im    0.429355   -0.628454   0.65987   -0.496139\n",
    " -0.402522   0.0229771   0.832969  -0.598849   0.420017\n",
    " -2.39558   -1.00399     0.277438  -0.606223   0.0329519\n",
    "  1.40605    0.578298    0.73771    1.04196    0.461577\n",
    " -1.26858    0.936624    0.689062   0.86382   -1.47906]\n",
    "A[1,1] = A[1,1] + 1im\n",
    "B = Symmetric(A)\n",
    "B"
   ]
  },
  {
   "cell_type": "code",
   "execution_count": 29,
   "metadata": {},
   "outputs": [
    {
     "output_type": "error",
     "ename": "LoadError",
     "evalue": "\u001b[91mMethodError: no method matching eigen!(::Symmetric{Complex{Float64},Array{Complex{Float64},2}}; permute=true, scale=true, sortby=LinearAlgebra.eigsortby)\u001b[39m\n\u001b[91m\u001b[0mClosest candidates are:\u001b[39m\n\u001b[91m\u001b[0m  eigen!(\u001b[91m::SymTridiagonal{var\"#s828\",V} where V<:AbstractArray{var\"#s828\",1} where var\"#s828\"<:Union{Float32, Float64}\u001b[39m) at C:\\buildbot\\worker\\package_win64\\build\\usr\\share\\julia\\stdlib\\v1.5\\LinearAlgebra\\src\\tridiag.jl:279\u001b[91m got unsupported keyword arguments \"permute\", \"scale\", \"sortby\"\u001b[39m\u001b[39m\n\u001b[91m\u001b[0m  eigen!(\u001b[91m::SymTridiagonal{var\"#s828\",V} where V<:AbstractArray{var\"#s828\",1} where var\"#s828\"<:Union{Float32, Float64}\u001b[39m, \u001b[91m::UnitRange\u001b[39m) at C:\\buildbot\\worker\\package_win64\\build\\usr\\share\\julia\\stdlib\\v1.5\\LinearAlgebra\\src\\tridiag.jl:282\u001b[91m got unsupported keyword arguments \"permute\", \"scale\", \"sortby\"\u001b[39m\u001b[39m\n\u001b[91m\u001b[0m  eigen!(\u001b[91m::SymTridiagonal{var\"#s828\",V} where V<:AbstractArray{var\"#s828\",1} where var\"#s828\"<:Union{Float32, Float64}\u001b[39m, \u001b[91m::Real\u001b[39m, \u001b[91m::Real\u001b[39m) at C:\\buildbot\\worker\\package_win64\\build\\usr\\share\\julia\\stdlib\\v1.5\\LinearAlgebra\\src\\tridiag.jl:287\u001b[91m got unsupported keyword arguments \"permute\", \"scale\", \"sortby\"\u001b[39m\u001b[39m\n\u001b[91m\u001b[0m  ...\u001b[39m",
     "traceback": [
      "\u001b[91mMethodError: no method matching eigen!(::Symmetric{Complex{Float64},Array{Complex{Float64},2}}; permute=true, scale=true, sortby=LinearAlgebra.eigsortby)\u001b[39m\n\u001b[91m\u001b[0mClosest candidates are:\u001b[39m\n\u001b[91m\u001b[0m  eigen!(\u001b[91m::SymTridiagonal{var\"#s828\",V} where V<:AbstractArray{var\"#s828\",1} where var\"#s828\"<:Union{Float32, Float64}\u001b[39m) at C:\\buildbot\\worker\\package_win64\\build\\usr\\share\\julia\\stdlib\\v1.5\\LinearAlgebra\\src\\tridiag.jl:279\u001b[91m got unsupported keyword arguments \"permute\", \"scale\", \"sortby\"\u001b[39m\u001b[39m\n\u001b[91m\u001b[0m  eigen!(\u001b[91m::SymTridiagonal{var\"#s828\",V} where V<:AbstractArray{var\"#s828\",1} where var\"#s828\"<:Union{Float32, Float64}\u001b[39m, \u001b[91m::UnitRange\u001b[39m) at C:\\buildbot\\worker\\package_win64\\build\\usr\\share\\julia\\stdlib\\v1.5\\LinearAlgebra\\src\\tridiag.jl:282\u001b[91m got unsupported keyword arguments \"permute\", \"scale\", \"sortby\"\u001b[39m\u001b[39m\n\u001b[91m\u001b[0m  eigen!(\u001b[91m::SymTridiagonal{var\"#s828\",V} where V<:AbstractArray{var\"#s828\",1} where var\"#s828\"<:Union{Float32, Float64}\u001b[39m, \u001b[91m::Real\u001b[39m, \u001b[91m::Real\u001b[39m) at C:\\buildbot\\worker\\package_win64\\build\\usr\\share\\julia\\stdlib\\v1.5\\LinearAlgebra\\src\\tridiag.jl:287\u001b[91m got unsupported keyword arguments \"permute\", \"scale\", \"sortby\"\u001b[39m\u001b[39m\n\u001b[91m\u001b[0m  ...\u001b[39m",
      "",
      "Stacktrace:",
      " [1] eigen(::Symmetric{Complex{Float64},Array{Complex{Float64},2}}; permute::Bool, scale::Bool, sortby::typeof(LinearAlgebra.eigsortby)) at C:\\buildbot\\worker\\package_win64\\build\\usr\\share\\julia\\stdlib\\v1.5\\LinearAlgebra\\src\\eigen.jl:237",
      " [2] eigen(::Symmetric{Complex{Float64},Array{Complex{Float64},2}}) at C:\\buildbot\\worker\\package_win64\\build\\usr\\share\\julia\\stdlib\\v1.5\\LinearAlgebra\\src\\eigen.jl:235",
      " [3] top-level scope at In[29]:2",
      " [4] include_string(::Function, ::Module, ::String, ::String) at .\\loading.jl:1091"
     ]
    }
   ],
   "source": [
    "# eigen(B) nie działa dla B (Symmetric{Complex{Float64},Array{Complex{Float64},2}})\n",
    "display(eigen(B))\n",
    "jacobi(B, 10000)"
   ]
  },
  {
   "cell_type": "code",
   "execution_count": 34,
   "metadata": {},
   "outputs": [
    {
     "data": {
      "text/plain": [
       "5×5 Array{Float64,2}:\n",
       "  1.19712    0.429355   -0.628454   0.65987   -0.496139\n",
       " -0.402522   0.0229771   0.832969  -0.598849   0.420017\n",
       " -2.39558   -1.00399     0.277438  -0.606223   0.0329519\n",
       "  1.40605    0.578298    0.73771    1.04196    0.461577\n",
       " -1.26858    0.936624    0.689062   0.86382   -1.47906"
      ]
     },
     "execution_count": 34,
     "metadata": {},
     "output_type": "execute_result"
    }
   ],
   "source": [
    "A"
   ]
  },
  {
   "cell_type": "code",
   "execution_count": 32,
   "metadata": {},
   "outputs": [
    {
     "ename": "LoadError",
     "evalue": "\u001b[91mInexactError: Float64(0.9642101738140003 - 1.0im)\u001b[39m",
     "output_type": "error",
     "traceback": [
      "\u001b[91mInexactError: Float64(0.9642101738140003 - 1.0im)\u001b[39m",
      "",
      "Stacktrace:",
      " [1] Real at .\\complex.jl:37 [inlined]",
      " [2] convert at .\\number.jl:7 [inlined]",
      " [3] setindex! at .\\array.jl:849 [inlined]",
      " [4] setindex!(::Symmetric{Float64,Array{Float64,2}}, ::Complex{Float64}, ::Int64, ::Int64) at C:\\buildbot\\worker\\package_win64\\build\\usr\\share\\julia\\stdlib\\v1.5\\LinearAlgebra\\src\\symmetric.jl:226",
      " [5] top-level scope at In[32]:1",
      " [6] include_string(::Function, ::Module, ::String, ::String) at .\\loading.jl:1091"
     ]
    }
   ],
   "source": [
    "B[1,1] = B[1,1] - 1im"
   ]
  },
  {
   "cell_type": "code",
   "execution_count": 25,
   "metadata": {},
   "outputs": [
    {
     "ename": "LoadError",
     "evalue": "\u001b[91mMethodError: no method matching Symmetric(::Type{Complex{Float64}}, ::Array{Float64,2})\u001b[39m",
     "output_type": "error",
     "traceback": [
      "\u001b[91mMethodError: no method matching Symmetric(::Type{Complex{Float64}}, ::Array{Float64,2})\u001b[39m",
      "",
      "Stacktrace:",
      " [1] top-level scope at In[25]:3",
      " [2] include_string(::Function, ::Module, ::String, ::String) at .\\loading.jl:1091"
     ]
    }
   ],
   "source": [
    "n = 5\n",
    "A = randn(n,n)\n",
    "B = Symmetric(A)\n",
    "B[1,1] = B[1,1] + 1im\n",
    "# A = [45 1 4;\n",
    "#     1 56 1;\n",
    "#     4 1 50]\n",
    "display(eigen(B))\n",
    "jacobi(B, 10000)"
   ]
  },
  {
   "cell_type": "markdown",
   "metadata": {},
   "source": [
    "## Metoda QR\n",
    "https://www.programmersought.com/article/78156250334/"
   ]
  },
  {
   "cell_type": "code",
   "execution_count": 62,
   "metadata": {},
   "outputs": [
    {
     "data": {
      "text/plain": [
       "mgs (generic function with 1 method)"
      ]
     },
     "execution_count": 62,
     "metadata": {},
     "output_type": "execute_result"
    }
   ],
   "source": [
    "# TODO zobaczyć czy for po kolumnach\n",
    "function mgs(A)\n",
    "    n = size(A,1);\n",
    "    R = zeros(n, n);\n",
    "    Q = zeros(n, n);\n",
    "    for j = 1:n\n",
    "        v = A[:,j];\n",
    "        for i = 1:j-1\n",
    "            R[i,j] = Q[:,i]'*v;\n",
    "            v = v - R[i,j]*Q[:,i];\n",
    "        end\n",
    "        R[j,j] = norm(v)\n",
    "        Q[:,j] = v / R[j,j]\n",
    "    end\n",
    "    return Q,R\n",
    "end\n",
    "\n"
   ]
  },
  {
   "cell_type": "code",
   "execution_count": 43,
   "metadata": {},
   "outputs": [],
   "source": [
    "# AS = [1 5 6;\n",
    "#     5 23 9;\n",
    "#     6 9 18]"
   ]
  },
  {
   "cell_type": "code",
   "execution_count": 44,
   "metadata": {},
   "outputs": [],
   "source": [
    "test, test2 = mgs(A);"
   ]
  },
  {
   "cell_type": "code",
   "execution_count": 45,
   "metadata": {},
   "outputs": [
    {
     "data": {
      "text/plain": [
       "20×20 Array{Float64,2}:\n",
       " -0.213599    -0.0820045  -0.511881    …   0.265647     0.121409   -0.0199483\n",
       "  0.300034    -0.12093     0.231437       -0.237649    -0.0217774  -0.150589\n",
       " -0.0408529   -0.305919    0.122558       -0.0325277   -0.0600703   0.362881\n",
       "  0.211824     0.340492   -0.122278        0.131316     0.237774   -0.235137\n",
       " -0.12024     -0.131938    0.104184       -0.141607     0.0374341   0.274401\n",
       " -0.0079206   -0.247476    0.139513    …   0.00209956  -0.263349   -0.0163762\n",
       " -0.110417     0.11878     0.450021        0.417484    -0.0534202  -0.35269\n",
       "  0.323727    -0.37563    -0.112659        0.506333    -0.329708   -0.155122\n",
       " -0.457038    -0.1173     -0.315749       -0.135852    -0.28301    -0.384918\n",
       "  0.14921     -0.378381   -0.10806         0.101894     0.362728    0.0694336\n",
       " -0.177846    -0.226845    0.140372    …  -0.261762    -0.261241   -0.0607644\n",
       "  0.427025     0.0242859  -0.0961858       0.0106022   -0.277706    0.0217755\n",
       " -0.205107    -0.149274   -0.0754195       0.13592      0.0079764   0.27833\n",
       " -0.11576     -0.15708     0.25115        -0.133269    -0.0477121  -0.345141\n",
       "  0.105277    -0.110123    0.176422        0.203205    -0.021807    0.0189497\n",
       " -0.00589726   0.103668    0.251201    …  -0.108043     0.0875024   0.0931033\n",
       " -0.202525    -0.0217199   0.00786569      0.0265197    0.0685569  -0.245733\n",
       "  0.0693634   -0.492145   -0.0067856      -0.0920802    0.366802   -0.199339\n",
       "  0.344545    -0.0425403  -0.272715       -0.45138      0.0218695  -0.272642\n",
       "  0.100259     0.109417   -0.176378       -0.0658295   -0.484869    0.169452"
      ]
     },
     "metadata": {},
     "output_type": "display_data"
    },
    {
     "data": {
      "text/plain": [
       "20×20 Array{Float64,2}:\n",
       " 4.22659  0.896443   0.195036  …  -1.15236    -0.520107    0.391409\n",
       " 0.0      4.86284   -1.43837      -0.384077    0.224741    1.08711\n",
       " 0.0      0.0        3.1888       -2.59521    -0.306073   -0.626721\n",
       " 0.0      0.0        0.0           0.839743    0.586607   -2.27618\n",
       " 0.0      0.0        0.0          -0.635074    1.3993     -0.354654\n",
       " 0.0      0.0        0.0       …  -0.571668    0.789506    1.25371\n",
       " 0.0      0.0        0.0          -0.0154209  -0.0363676   0.0657521\n",
       " 0.0      0.0        0.0          -1.96515    -0.351756    0.493018\n",
       " 0.0      0.0        0.0          -1.04454    -0.0551928  -1.05088\n",
       " 0.0      0.0        0.0          -0.269499    1.38436    -0.713698\n",
       " 0.0      0.0        0.0       …  -0.78209    -0.535409    0.833188\n",
       " 0.0      0.0        0.0          -0.40065    -0.48169     1.85814\n",
       " 0.0      0.0        0.0          -1.16829     0.312716   -0.137238\n",
       " 0.0      0.0        0.0          -0.978322    0.71987     0.619829\n",
       " 0.0      0.0        0.0          -0.146717    1.37517     0.300486\n",
       " 0.0      0.0        0.0       …  -1.79944    -0.910561    0.353734\n",
       " 0.0      0.0        0.0           0.537031    0.472959    1.19366\n",
       " 0.0      0.0        0.0           1.65553    -0.881453   -1.22272\n",
       " 0.0      0.0        0.0           0.0         1.259       0.235414\n",
       " 0.0      0.0        0.0           0.0         0.0         1.15159"
      ]
     },
     "metadata": {},
     "output_type": "display_data"
    }
   ],
   "source": [
    "display(test)\n",
    "display(test2)"
   ]
  },
  {
   "cell_type": "code",
   "execution_count": 76,
   "metadata": {},
   "outputs": [
    {
     "data": {
      "text/plain": [
       "QR_eigen (generic function with 1 method)"
      ]
     },
     "execution_count": 76,
     "metadata": {},
     "output_type": "execute_result"
    }
   ],
   "source": [
    "function QR_eigen(A, l::Integer)\n",
    "    Q,R = mgs(A)  # Jeśli chcemy mieć później dostęp do tych macierzy, to muszą być zadeklarowane poza pętlą for\n",
    "    for k = 1:l\n",
    "        Q,R = mgs(A);\n",
    "        A = R*Q;\n",
    "    end\n",
    "    A\n",
    "end"
   ]
  },
  {
   "cell_type": "code",
   "execution_count": 20,
   "metadata": {},
   "outputs": [],
   "source": [
    "# function QR_eigen_rand(l::Integer)\n",
    "#     A = rand(5, 5);\n",
    "#     A = A - tril(A,-1)\n",
    "#     display(eigen(A))\n",
    "#     Q,R = mgs(A)\n",
    "#     for k = 1:l\n",
    "#         Q,R = mgs(A);\n",
    "#         A = R*Q;\n",
    "#     end\n",
    "#     diag(A)[end:-1:1]\n",
    "#     A\n",
    "# end"
   ]
  },
  {
   "cell_type": "code",
   "execution_count": 21,
   "metadata": {},
   "outputs": [],
   "source": [
    "# QR_eigen_rand(100)"
   ]
  },
  {
   "cell_type": "code",
   "execution_count": 51,
   "metadata": {},
   "outputs": [
    {
     "data": {
      "text/plain": [
       "20-element Array{Float64,1}:\n",
       " -0.4143133667971839\n",
       " -0.5711506620351857\n",
       "  0.6386565397039676\n",
       "  1.0006976234894307\n",
       " -1.1608122961991727\n",
       " -1.8948344119305385\n",
       "  2.2687685441387977\n",
       " -2.4125982300564206\n",
       "  2.851593657479312\n",
       "  2.9914184584707026\n",
       " -3.6689343009688873\n",
       " -3.949568836670567\n",
       "  3.9700892918207593\n",
       "  4.617809011420274\n",
       "  5.649893223663137\n",
       " -5.729589522246941\n",
       "  5.875654663744749\n",
       " -7.194225306933488\n",
       "  7.839149527124623\n",
       " -8.20750327027972"
      ]
     },
     "execution_count": 51,
     "metadata": {},
     "output_type": "execute_result"
    }
   ],
   "source": [
    "diag(QR_eigen(B, 1000))[end:-1:1]"
   ]
  },
  {
   "cell_type": "code",
   "execution_count": 55,
   "metadata": {},
   "outputs": [
    {
     "data": {
      "text/plain": [
       "20-element Array{Float64,1}:\n",
       " -8.20747057511617\n",
       "  7.8391168318177185\n",
       " -7.194225306790129\n",
       " -1.229365836176177\n",
       "  1.4144498695891856\n",
       "  5.610874331747934\n",
       "  4.617809011420274\n",
       " -1.7778584940462914\n",
       "  1.7983789461959656\n",
       " -3.6689342979683732\n",
       "  2.9914184444935175\n",
       "  2.8515936714564973\n",
       " -2.4125981665853065\n",
       "  2.2687684806676836\n",
       " -1.8948344119305385\n",
       " -1.1608122961991727\n",
       "  1.0006976234894307\n",
       "  0.6386565397039622\n",
       " -0.5711506620351803\n",
       " -0.4143133667971839"
      ]
     },
     "execution_count": 55,
     "metadata": {},
     "output_type": "execute_result"
    }
   ],
   "source": [
    "diag(QR_eigen(B, 150))"
   ]
  },
  {
   "cell_type": "code",
   "execution_count": 54,
   "metadata": {},
   "outputs": [
    {
     "data": {
      "text/plain": [
       "Eigen{Float64,Float64,Array{Float64,2},Array{Float64,1}}\n",
       "values:\n",
       "20-element Array{Float64,1}:\n",
       " -8.207503270279707\n",
       " -7.194225306933484\n",
       " -5.729589522248755\n",
       " -3.952718332623233\n",
       " -3.668934300968891\n",
       " -2.412598230056414\n",
       " -1.8948344119305371\n",
       " -1.1608122961991683\n",
       " -0.5711506620351834\n",
       " -0.41431336679717923\n",
       "  0.6386565397039741\n",
       "  1.000697623489435\n",
       "  2.2687685441388092\n",
       "  2.8515936574793095\n",
       "  2.9914184584707026\n",
       "  3.973238787773431\n",
       "  4.617809011420281\n",
       "  5.649893223664945\n",
       "  5.875654663744747\n",
       "  7.83914952712463\n",
       "vectors:\n",
       "20×20 Array{Float64,2}:\n",
       " -0.315034   -0.132642    0.530256    …   0.0571949  -0.440782\n",
       " -0.125463    0.174036    0.00397885     -0.226221    0.0120995\n",
       " -0.105024    0.208902    0.317066       -0.261962    0.164335\n",
       " -0.354231    0.0748401  -0.106763       -0.168465   -0.195131\n",
       " -0.1627     -0.399857    0.208857       -0.0368588   0.263381\n",
       "  0.111046    0.333521    0.0800341   …   0.188498    0.290939\n",
       "  0.375472   -0.0422454   0.104522       -0.177245    0.000557692\n",
       " -0.378564   -0.0960039   0.0177156       0.137021    0.134771\n",
       " -0.0665681  -0.164012   -0.150313        0.206945   -0.290244\n",
       " -0.193925   -0.351855   -0.240383        0.085193    0.376022\n",
       " -0.0233776  -0.200937   -0.136206    …   0.432779   -0.150309\n",
       "  0.0812082  -0.164227    0.239627       -0.336714   -0.0142207\n",
       " -0.193903    0.455736    0.0821337       0.288209   -0.0687256\n",
       "  0.126152   -0.2251      0.131835       -0.107098   -0.204619\n",
       "  0.344795   -0.0781911   0.302009        0.512215    0.157012\n",
       "  0.0397954  -0.0772372   0.366362    …   0.106255    0.0197586\n",
       " -0.169377    0.259931   -0.100723        0.0044184   0.13773\n",
       "  0.38315     0.0141312  -0.256503       -0.107399   -0.331417\n",
       "  0.13812     0.225224    0.248893        0.050223    0.00710522\n",
       "  0.0876437  -0.117346    0.0427043      -0.168655    0.345518"
      ]
     },
     "execution_count": 54,
     "metadata": {},
     "output_type": "execute_result"
    }
   ],
   "source": [
    "eigen(B)"
   ]
  },
  {
   "cell_type": "code",
   "execution_count": null,
   "metadata": {},
   "outputs": [],
   "source": []
  },
  {
   "cell_type": "code",
   "execution_count": null,
   "metadata": {},
   "outputs": [],
   "source": []
  },
  {
   "cell_type": "code",
   "execution_count": null,
   "metadata": {},
   "outputs": [],
   "source": []
  },
  {
   "cell_type": "code",
   "execution_count": null,
   "metadata": {},
   "outputs": [],
   "source": []
  },
  {
   "cell_type": "code",
   "execution_count": 26,
   "metadata": {},
   "outputs": [
    {
     "output_type": "execute_result",
     "data": {
      "text/plain": [
       "QR_eigen (generic function with 1 method)"
      ]
     },
     "metadata": {},
     "execution_count": 26
    }
   ],
   "source": [
    "# TODO zobaczyć czy for po kolumnach\n",
    "function mgs(A)\n",
    "    n = size(A,1);\n",
    "    R = zeros(n, n);\n",
    "    Q = zeros(n, n);\n",
    "    for j = 1:n\n",
    "        v = A[:,j];\n",
    "        for i = 1:j-1\n",
    "            R[i,j] = Q[:,i]'*v;\n",
    "            v = v - R[i,j]*Q[:,i];\n",
    "        end\n",
    "        R[j,j] = norm(v)\n",
    "        Q[:,j] = v / R[j,j]\n",
    "    end\n",
    "    return Q,R\n",
    "end\n",
    "\n",
    "function QR_eigen(A, l::Integer)\n",
    "    Q,R = mgs(A)  # Jeśli chcemy mieć później dostęp do tych macierzy, to muszą być zadeklarowane poza pętlą for\n",
    "    for k = 1:l\n",
    "        Q,R = mgs(A);\n",
    "        A = R*Q;\n",
    "    end\n",
    "    A\n",
    "end"
   ]
  },
  {
   "cell_type": "code",
   "execution_count": 136,
   "metadata": {},
   "outputs": [
    {
     "data": {
      "text/plain": [
       "5×5 Array{Float64,2}:\n",
       " -1.42474      -1.71118      -0.492967  -2.31442    -0.200575\n",
       "  0.269415     -0.270879      1.14357    0.0245453  -1.1508\n",
       "  1.06221e-39  -3.52311e-39   0.839722   0.4682     -0.923512\n",
       "  0.0           0.0           0.0        0.384201   -1.15134\n",
       "  0.0           0.0           0.0        0.0         0.0399073"
      ]
     },
     "execution_count": 136,
     "metadata": {},
     "output_type": "execute_result"
    }
   ],
   "source": [
    "QR_eigen(A, 1000)"
   ]
  },
  {
   "cell_type": "code",
   "execution_count": 121,
   "metadata": {},
   "outputs": [
    {
     "data": {
      "text/plain": [
       "5×5 Array{Float64,2}:\n",
       " -0.449068  -1.38815   -0.480425   1.76343   -1.75403\n",
       " -0.662838  -0.152295  -0.325421  -1.027      0.00878161\n",
       "  0.430706   0.194898   0.453019  -0.883366   0.884526\n",
       "  0.521313   0.764715   0.17505    0.197992   0.487\n",
       " -0.882232  -0.216417  -1.24147   -0.840407  -0.481432"
      ]
     },
     "execution_count": 121,
     "metadata": {},
     "output_type": "execute_result"
    }
   ],
   "source": [
    "A"
   ]
  },
  {
   "cell_type": "code",
   "execution_count": 123,
   "metadata": {},
   "outputs": [
    {
     "data": {
      "text/plain": [
       "Eigen{Complex{Float64},Complex{Float64},Array{Complex{Float64},2},Array{Complex{Float64},1}}\n",
       "values:\n",
       "5-element Array{Complex{Float64},1}:\n",
       " -0.8478073996944057 - 0.3580106740384312im\n",
       " -0.8478073996944057 + 0.3580106740384312im\n",
       " 0.03990734863183874 + 0.0im\n",
       "  0.3842007903147903 + 0.0im\n",
       "  0.8397222972684841 + 0.0im\n",
       "vectors:\n",
       "5×5 Array{Complex{Float64},2}:\n",
       "   0.805298-0.0im         …   0.518851+0.0im   0.797972+0.0im\n",
       "  0.0735172+0.00167874im     -0.121706+0.0im  -0.405747+0.0im\n",
       "  -0.439638+0.0120077im       0.372416+0.0im  0.0464177+0.0im\n",
       "  -0.331997+0.024537im       -0.394851+0.0im  -0.141395+0.0im\n",
       " -0.0884749+0.184419im       -0.649138+0.0im  -0.420074+0.0im"
      ]
     },
     "metadata": {},
     "output_type": "display_data"
    },
    {
     "data": {
      "text/plain": [
       "Eigen{Complex{Float64},Complex{Float64},Array{Complex{Float64},2},Array{Complex{Float64},1}}\n",
       "values:\n",
       "5-element Array{Complex{Float64},1}:\n",
       " -0.8478073996944064 - 0.3580106740384303im\n",
       " -0.8478073996944064 + 0.3580106740384303im\n",
       " 0.03990734863183762 + 0.0im\n",
       "  0.3842007903147926 + 0.0im\n",
       "  0.8397222972684832 + 0.0im\n",
       "vectors:\n",
       "5×5 Array{Complex{Float64},2}:\n",
       "     0.929501-0.0im         …   0.219555+0.0im  -0.544377+0.0im\n",
       "    -0.313384+0.194469im       -0.718379+0.0im   0.534032+0.0im\n",
       " -1.23556e-39+7.6672e-40im     -0.473121+0.0im   0.646888+0.0im\n",
       "          0.0-0.0im             0.460309+0.0im        0.0+0.0im\n",
       "          0.0-0.0im                  0.0+0.0im        0.0+0.0im"
      ]
     },
     "execution_count": 123,
     "metadata": {},
     "output_type": "execute_result"
    }
   ],
   "source": [
    "# QR decomposition a zespolone wartości własne\n",
    "# https://math.stackexchange.com/questions/3072758/is-it-possible-to-find-complex-eigenvalues-with-qr-decomposition/3072781\n",
    "# https://scicomp.stackexchange.com/questions/30407/how-does-the-qr-algorithm-applied-to-a-real-matrix-returns-complex-eigenvalues\n",
    "# Użycie eigen(x) na wyniku QR_eigen liczy wszystkie wartości własne?\n",
    "display(eigen(A))\n",
    "eigen(QR_eigen(A, 1000))"
   ]
  },
  {
   "cell_type": "code",
   "execution_count": 127,
   "metadata": {},
   "outputs": [
    {
     "data": {
      "text/plain": [
       "Eigen{Complex{Float64},Complex{Float64},Array{Complex{Float64},2},Array{Complex{Float64},1}}\n",
       "values:\n",
       "2-element Array{Complex{Float64},1}:\n",
       " -0.8478073996944063 - 0.35801067403843034im\n",
       " -0.8478073996944063 + 0.35801067403843034im\n",
       "vectors:\n",
       "2×2 Array{Complex{Float64},2}:\n",
       "  0.929501-0.0im        0.929501+0.0im\n",
       " -0.313384+0.194469im  -0.313384-0.194469im"
      ]
     },
     "execution_count": 127,
     "metadata": {},
     "output_type": "execute_result"
    }
   ],
   "source": [
    "eigen(QR_eigen(A, 1000)[1:2, 1:2])"
   ]
  },
  {
   "cell_type": "code",
   "execution_count": 94,
   "metadata": {},
   "outputs": [
    {
     "data": {
      "text/plain": [
       "Eigen{Complex{Float64},Complex{Float64},Array{Complex{Float64},2},Array{Complex{Float64},1}}\n",
       "values:\n",
       "5-element Array{Complex{Float64},1}:\n",
       " -0.8478073996944057 - 0.3580106740384312im\n",
       " -0.8478073996944057 + 0.3580106740384312im\n",
       " 0.03990734863183874 + 0.0im\n",
       "  0.3842007903147903 + 0.0im\n",
       "  0.8397222972684841 + 0.0im\n",
       "vectors:\n",
       "5×5 Array{Complex{Float64},2}:\n",
       "   0.805298-0.0im         …   0.518851+0.0im   0.797972+0.0im\n",
       "  0.0735172+0.00167874im     -0.121706+0.0im  -0.405747+0.0im\n",
       "  -0.439638+0.0120077im       0.372416+0.0im  0.0464177+0.0im\n",
       "  -0.331997+0.024537im       -0.394851+0.0im  -0.141395+0.0im\n",
       " -0.0884749+0.184419im       -0.649138+0.0im  -0.420074+0.0im"
      ]
     },
     "metadata": {},
     "output_type": "display_data"
    },
    {
     "data": {
      "text/plain": [
       "5-element Array{Float64,1}:\n",
       " -0.5172016003854394\n",
       " -1.1784131990033588\n",
       "  0.839722297268485\n",
       "  0.38420079031479143\n",
       "  0.03990734863183806"
      ]
     },
     "execution_count": 94,
     "metadata": {},
     "output_type": "execute_result"
    }
   ],
   "source": [
    "display(eigen(A))\n",
    "diag(QR_eigen(A, 1500))"
   ]
  },
  {
   "cell_type": "code",
   "execution_count": 89,
   "metadata": {},
   "outputs": [
    {
     "data": {
      "text/plain": [
       "Eigen{Complex{Float64},Complex{Float64},Array{Complex{Float64},2},Array{Complex{Float64},1}}\n",
       "values:\n",
       "5-element Array{Complex{Float64},1}:\n",
       " -0.8478073996944057 - 0.3580106740384312im\n",
       " -0.8478073996944057 + 0.3580106740384312im\n",
       " 0.03990734863183874 + 0.0im\n",
       "  0.3842007903147903 + 0.0im\n",
       "  0.8397222972684841 + 0.0im\n",
       "vectors:\n",
       "5×5 Array{Complex{Float64},2}:\n",
       "   0.805298-0.0im         …   0.518851+0.0im   0.797972+0.0im\n",
       "  0.0735172+0.00167874im     -0.121706+0.0im  -0.405747+0.0im\n",
       "  -0.439638+0.0120077im       0.372416+0.0im  0.0464177+0.0im\n",
       "  -0.331997+0.024537im       -0.394851+0.0im  -0.141395+0.0im\n",
       " -0.0884749+0.184419im       -0.649138+0.0im  -0.420074+0.0im"
      ]
     },
     "metadata": {},
     "output_type": "display_data"
    },
    {
     "data": {
      "text/plain": [
       "5-element Array{Float64,1}:\n",
       " -0.5172016003745795\n",
       " -1.1784131990142304\n",
       "  0.8397222972684832\n",
       "  0.3842007903147926\n",
       "  0.03990734863183762"
      ]
     },
     "execution_count": 89,
     "metadata": {},
     "output_type": "execute_result"
    }
   ],
   "source": [
    "n = 5\n",
    "A = randn(n,n)\n",
    "# B = Symmetric(A)\n",
    "display(eigen(A))\n",
    "diag(QR_eigen(A, 1500))"
   ]
  },
  {
   "cell_type": "code",
   "execution_count": 11,
   "metadata": {},
   "outputs": [
    {
     "output_type": "execute_result",
     "data": {
      "text/plain": [
       "QR_eigen (generic function with 1 method)"
      ]
     },
     "metadata": {},
     "execution_count": 11
    }
   ],
   "source": [
    "#Improved reduction of QR decomposition\n",
    "function schmidit_QRc(A::Array)\n",
    "    m,n=size(A)\n",
    "    Q=zeros(m,n)\n",
    "    R=zeros(n,n)\n",
    "    for j in 1:n\n",
    "        y=A[:,j]\n",
    "        if j!=1\n",
    "            for i in 1:j-1\n",
    "                R[i,j]=Q[:,i]'*y #Note that this has changed\n",
    "                y=y-R[i,j].*Q[:,i]\n",
    "            end\n",
    "        end\n",
    "        R[j,j]=sqrt(sum(y.^2))\n",
    "        Q[:,j]=y./R[j,j]\n",
    "    end\n",
    "    return Q,R\n",
    "end\n",
    "\n",
    "function QR_eigen(A, l::Integer)\n",
    "    Q,R = schmidit_QRc(A)  # Jeśli chcemy mieć później dostęp do tych macierzy, to muszą być zadeklarowane poza pętlą for\n",
    "    for k = 1:l\n",
    "        Q,R = schmidit_QRc(A);\n",
    "        A = R*Q;\n",
    "    end\n",
    "    A\n",
    "end"
   ]
  },
  {
   "cell_type": "code",
   "execution_count": 143,
   "metadata": {},
   "outputs": [
    {
     "data": {
      "text/plain": [
       "5×5 Array{Float64,2}:\n",
       " -1.42474      -1.71118      -0.492967  -2.31442    -0.200575\n",
       "  0.269415     -0.270879      1.14357    0.0245453  -1.1508\n",
       "  1.06221e-39  -3.52311e-39   0.839722   0.4682     -0.923512\n",
       "  0.0           0.0           0.0        0.384201   -1.15134\n",
       "  0.0           0.0           0.0        0.0         0.0399073"
      ]
     },
     "metadata": {},
     "output_type": "display_data"
    }
   ],
   "source": [
    "display(QR_eigen(A, 1000))"
   ]
  },
  {
   "cell_type": "code",
   "execution_count": 9,
   "metadata": {},
   "outputs": [
    {
     "output_type": "execute_result",
     "data": {
      "text/plain": [
       "shiftQRc (generic function with 1 method)"
      ]
     },
     "metadata": {},
     "execution_count": 9
    }
   ],
   "source": [
    "#eyes(n) produces a unit matrix of order n, eyes(n,m) produces a matrix with a diagonal of 1\n",
    "function eyes(m::Int,index::Int=0)\n",
    "    n=0\n",
    "    if index==0\n",
    "        n=m\n",
    "    else\n",
    "        n=index\n",
    "    end\n",
    "    I=zeros(m,n)\n",
    "    [I[i,i]=1 for i in 1:min(m,n)]\n",
    "    return I\n",
    "end\n",
    "\n",
    " #Translation QR algorithm, able to calculate the real and complex eigenvalues ​​of the square matrix\n",
    " function shiftQRc(A::Array) #A is a square matrix\n",
    "    tol=1e-14\n",
    "    maxiter=500\n",
    "    m=size(A,1)\n",
    "    lam=zeros(m,1)\n",
    "    n=m\n",
    "    while n>1\n",
    "        iter=0\n",
    "        while sort(abs.(A[n,1:n-1]))[end]>tol && iter<maxiter\n",
    "                         iter=iter+1 #Record the number of qr\n",
    "                         mu=A[n,n] #Translation amount\n",
    "            q,r=schmidit_QRc(A-mu*eyes(n))\n",
    "            A=r*q+mu*eyes(n)\n",
    "        end\n",
    "                 if iter<maxiter #block with 1x1\n",
    "            lam[n]=A[n,n]\n",
    "            n=n-1\n",
    "            A=A[1:n,1:n]\n",
    "                 else#Iteration exceeds the maximum number of iterations, which is considered a 2x2 block\n",
    "                         #lam is a real number vector and needs to be converted to a complex number vector, otherwise an error will be reported later, and the complex number cannot be directly copied to the real number variable\n",
    "            lam=complex(lam)\n",
    "                         disc=(A[n-1,n-1]-A[n,n])^2+4*A[n,n-1]*A[n-1,n] #One element quadratic root formula a^2-4ac\n",
    "                         temp=sqrt.(disc+0*im)#You need to add 0*im to become a plural in order to make a square\n",
    "            lam[n]=(A[n-1,n-1]+A[n,n] +temp)/2\n",
    "            lam[n-1]=(A[n-1,n-1]+A[n,n]-temp)/2\n",
    "                         n=n-2 #Shrink by 2\n",
    "            A=A[1:n,1:n]\n",
    "        end\n",
    "    end\n",
    "    if n>0\n",
    "        lam[1]=A[1,1]\n",
    "    end\n",
    "    return lam\n",
    "end        "
   ]
  },
  {
   "cell_type": "code",
   "execution_count": null,
   "metadata": {},
   "outputs": [],
   "source": []
  },
  {
   "cell_type": "code",
   "execution_count": 24,
   "metadata": {},
   "outputs": [
    {
     "output_type": "display_data",
     "data": {
      "text/plain": "5-element Array{Complex{Float64},1}:\n -1.0704607735690614 + 0.0im\n -0.6452218789701214 - 1.7656026228870947im\n -0.6452218789701214 + 1.7656026228870947im\n  0.9406139155303814 - 0.13793567939493243im\n  0.9406139155303814 + 0.13793567939493243im"
     },
     "metadata": {}
    },
    {
     "output_type": "execute_result",
     "data": {
      "text/plain": [
       "5×1 Array{Complex{Float64},2}:\n",
       " -0.6452218789701191 - 1.765602622887089im\n",
       " -0.6452218789701191 + 1.765602622887089im\n",
       "  -1.070460773569063 + 0.0im\n",
       "  0.9406139155303795 - 0.13793567939492887im\n",
       "  0.9406139155303795 + 0.13793567939492887im"
      ]
     },
     "metadata": {},
     "execution_count": 24
    }
   ],
   "source": [
    "n = 5\n",
    "A = randn(n,n)\n",
    "display(eigen(A).values)\n",
    "shiftQRc(A)"
   ]
  },
  {
   "cell_type": "code",
   "execution_count": 25,
   "metadata": {},
   "outputs": [
    {
     "output_type": "stream",
     "name": "stdout",
     "text": [
      "  3.262 ms (55580 allocations: 6.26 MiB)\n"
     ]
    },
    {
     "output_type": "execute_result",
     "data": {
      "text/plain": [
       "5×1 Array{Complex{Float64},2}:\n",
       " -0.6452218789701191 - 1.765602622887089im\n",
       " -0.6452218789701191 + 1.765602622887089im\n",
       "  -1.070460773569063 + 0.0im\n",
       "  0.9406139155303795 - 0.13793567939492887im\n",
       "  0.9406139155303795 + 0.13793567939492887im"
      ]
     },
     "metadata": {},
     "execution_count": 25
    }
   ],
   "source": [
    "@btime shiftQRc(A)"
   ]
  },
  {
   "cell_type": "code",
   "execution_count": 29,
   "metadata": {},
   "outputs": [
    {
     "output_type": "execute_result",
     "data": {
      "text/plain": [
       "-1.0704607735690617"
      ]
     },
     "metadata": {},
     "execution_count": 29
    }
   ],
   "source": [
    "QR_eigen(A, 1000)[3,3]"
   ]
  },
  {
   "cell_type": "code",
   "execution_count": 30,
   "metadata": {},
   "outputs": [
    {
     "output_type": "execute_result",
     "data": {
      "text/plain": [
       "Eigen{Complex{Float64},Complex{Float64},Array{Complex{Float64},2},Array{Complex{Float64},1}}\n",
       "values:\n",
       "5-element Array{Complex{Float64},1}:\n",
       " -1.0704607735690614 + 0.0im\n",
       " -0.6452218789701214 - 1.7656026228870947im\n",
       " -0.6452218789701214 + 1.7656026228870947im\n",
       "  0.9406139155303814 - 0.13793567939493243im\n",
       "  0.9406139155303814 + 0.13793567939493243im\n",
       "vectors:\n",
       "5×5 Array{Complex{Float64},2}:\n",
       "   0.634744+0.0im   0.0494783+0.257352im  …  -0.254914+0.0261851im\n",
       "  -0.721161+0.0im    0.773986-0.0im           0.138443-0.0165782im\n",
       "  -0.165872+0.0im  0.00980843+0.541631im      0.256866-0.0102621im\n",
       " -0.0274093+0.0im   0.0150445-0.108966im      0.726475+0.0im\n",
       "  -0.220822+0.0im   0.0092101-0.163164im      0.561574+0.0753397im"
      ]
     },
     "metadata": {},
     "execution_count": 30
    }
   ],
   "source": [
    "eigen(A)"
   ]
  },
  {
   "cell_type": "code",
   "execution_count": 27,
   "metadata": {},
   "outputs": [
    {
     "output_type": "stream",
     "name": "stdout",
     "text": [
      "  2.919 ms (53052 allocations: 6.93 MiB)\n"
     ]
    },
    {
     "output_type": "execute_result",
     "data": {
      "text/plain": [
       "5×5 Array{Float64,2}:\n",
       " -0.389829       1.53429        0.714084     -0.0692419  -0.228741\n",
       " -2.07431       -0.900615       1.52085       0.378825   -1.24173\n",
       "  1.75478e-244   3.36441e-245  -1.07046      -1.05246     0.0793202\n",
       " -4.10657e-296   1.55126e-295   1.78518e-51   1.02709     1.77102\n",
       "  7.91185e-298  -3.44214e-297  -3.73733e-53  -0.014966    0.854134"
      ]
     },
     "metadata": {},
     "execution_count": 27
    }
   ],
   "source": [
    "@btime QR_eigen(A, 1000)"
   ]
  },
  {
   "cell_type": "markdown",
   "metadata": {},
   "source": [
    "## Testowanie"
   ]
  },
  {
   "cell_type": "markdown",
   "metadata": {},
   "source": [
    "### Metoda potęgowa "
   ]
  },
  {
   "cell_type": "markdown",
   "metadata": {},
   "source": [
    "1. Macierz z elementami i wektorami własnymi rzeczywistymi"
   ]
  },
  {
   "cell_type": "code",
   "execution_count": 56,
   "metadata": {},
   "outputs": [
    {
     "data": {
      "text/plain": [
       "5×5 Array{Float64,2}:\n",
       "  4.65149    -0.265141   -0.382523   -0.332124   1.32617\n",
       " -0.164906    2.00655    -0.2765     -2.17233   -0.466494\n",
       " -0.637335    0.0205827   1.52138    -0.852991  -1.04256\n",
       "  0.0631756  -0.0978668  -0.0428932   3.89281    0.189759\n",
       "  0.21066    -0.695087   -0.687774   -0.960114   2.92777"
      ]
     },
     "execution_count": 56,
     "metadata": {},
     "output_type": "execute_result"
    }
   ],
   "source": [
    "A = randn(5,5)\n",
    "A = A * diagm(1:5) / A"
   ]
  },
  {
   "cell_type": "code",
   "execution_count": 57,
   "metadata": {},
   "outputs": [
    {
     "data": {
      "text/plain": [
       "5-element Array{Float64,1}:\n",
       " 1.0\n",
       " 1.9999999999999993\n",
       " 2.999999999999999\n",
       " 4.000000000000003\n",
       " 5.0000000000000036"
      ]
     },
     "execution_count": 57,
     "metadata": {},
     "output_type": "execute_result"
    }
   ],
   "source": [
    "eigvals(A)"
   ]
  },
  {
   "cell_type": "code",
   "execution_count": 58,
   "metadata": {},
   "outputs": [
    {
     "data": {
      "text/plain": [
       "5-element Array{Float64,1}:\n",
       " 5.0000000000000036\n",
       " 4.000000000000003\n",
       " 2.999999999999999\n",
       " 1.9999999999999993\n",
       " 1.0"
      ]
     },
     "execution_count": 58,
     "metadata": {},
     "output_type": "execute_result"
    }
   ],
   "source": [
    "λ, X = eigen(A)\n",
    "i = sortperm(λ, by=abs, rev=true) # sort the eigenvalues in descending order by magnitude\n",
    "λ = λ[i]; X = X[:,i]              # and re-order λ and X\n",
    "λ"
   ]
  },
  {
   "cell_type": "code",
   "execution_count": 59,
   "metadata": {},
   "outputs": [
    {
     "data": {
      "text/plain": [
       "5-element Array{Float64,1}:\n",
       " 0.6595983712991615\n",
       " 0.31683209024388814\n",
       " 0.35827567016950956\n",
       " 0.9715454981056775\n",
       " 0.9966639972500986"
      ]
     },
     "execution_count": 59,
     "metadata": {},
     "output_type": "execute_result"
    }
   ],
   "source": [
    "x = (rand(5) .+ 0.01) .% 1# arbitrary initial vector\n",
    "# for n = 1:100\n",
    "#     y = x\n",
    "#     for i = 1:n\n",
    "#         y = A*y\n",
    "#         y = y / norm(y)\n",
    "#     end\n",
    "# end\n",
    "x"
   ]
  },
  {
   "cell_type": "code",
   "execution_count": 60,
   "metadata": {},
   "outputs": [
    {
     "data": {
      "image/png": "[encoded data removed]",
      "text/plain": [
       "Figure(PyObject <Figure size 640x480 with 1 Axes>)"
      ]
     },
     "metadata": {},
     "output_type": "display_data"
    },
    {
     "data": {
      "text/plain": [
       "PyObject Text(0.5, 1.0, 'convergence of power method for $\\\\lambda=1,2,3,4,5$')"
      ]
     },
     "execution_count": 60,
     "metadata": {},
     "output_type": "execute_result"
    }
   ],
   "source": [
    "d = Float64[]\n",
    "y = x\n",
    "for i = 1:100\n",
    "    y = A*y\n",
    "    y = y / norm(y)\n",
    "    push!(d, min(norm(y - X[:,1]), norm(-y - X[:,1]))) # pick the better of the two signs\n",
    "end\n",
    "semilogy(1:length(d), d, \"b.-\")\n",
    "xlabel(\"number of power steps\")\n",
    "ylabel(\"error in eigenvector\")\n",
    "title(L\"convergence of power method for $\\lambda=1,2,3,4,5$\")"
   ]
  },
  {
   "cell_type": "code",
   "execution_count": 61,
   "metadata": {},
   "outputs": [
    {
     "data": {
      "image/png": "[encoded data removed]",
      "text/plain": [
       "Figure(PyObject <Figure size 640x480 with 1 Axes>)"
      ]
     },
     "metadata": {},
     "output_type": "display_data"
    },
    {
     "data": {
      "text/plain": [
       "PyObject <matplotlib.legend.Legend object at 0x000000004911DCA0>"
      ]
     },
     "execution_count": 61,
     "metadata": {},
     "output_type": "execute_result"
    }
   ],
   "source": [
    "semilogy(1:length(d), d, \"b.-\")\n",
    "semilogy(1:length(d), (4/5).^(1:length(d)), \"k--\")\n",
    "xlabel(\"number of power steps\")\n",
    "ylabel(\"error in eigenvector\")\n",
    "title(L\"convergence of power method for $\\lambda=1,2,3,4,5$\")\n",
    "legend([\"error\", L\"(4/5)^n\"])"
   ]
  },
  {
   "cell_type": "code",
   "execution_count": 62,
   "metadata": {},
   "outputs": [
    {
     "data": {
      "image/png": "[encoded data removed]",
      "text/plain": [
       "Figure(PyObject <Figure size 640x480 with 1 Axes>)"
      ]
     },
     "metadata": {},
     "output_type": "display_data"
    },
    {
     "data": {
      "text/plain": [
       "PyObject <matplotlib.legend.Legend object at 0x00000000493AA850>"
      ]
     },
     "execution_count": 62,
     "metadata": {},
     "output_type": "execute_result"
    }
   ],
   "source": [
    "Δλ = Float64[]\n",
    "y = x\n",
    "for i = 1:100\n",
    "    y = A*y\n",
    "    y = y / norm(y)\n",
    "    λ̃ = (y'A*y) / (y'y)\n",
    "    push!(Δλ, abs(λ̃ - 5))\n",
    "end\n",
    "semilogy(1:length(Δλ), Δλ, \"b.-\")\n",
    "semilogy(1:length(Δλ), (4/5).^(1:length(Δλ)), \"k--\")\n",
    "xlabel(\"number of power steps\")\n",
    "ylabel(\"error in eigenvalue\")\n",
    "title(L\"convergence of power method $\\lambda$ for $\\lambda=1,2,3,4,5$\")\n",
    "legend([\"error\", L\"(4/5)^n\"])"
   ]
  },
  {
   "cell_type": "code",
   "execution_count": 63,
   "metadata": {},
   "outputs": [
    {
     "data": {
      "image/png": "[encoded data removed]",
      "text/plain": [
       "Figure(PyObject <Figure size 640x480 with 1 Axes>)"
      ]
     },
     "metadata": {},
     "output_type": "display_data"
    },
    {
     "data": {
      "text/plain": [
       "PyObject <matplotlib.legend.Legend object at 0x000000004935AD00>"
      ]
     },
     "execution_count": 63,
     "metadata": {},
     "output_type": "execute_result"
    }
   ],
   "source": [
    "Δλ = Float64[]\n",
    "y = x\n",
    "for i = 1:15\n",
    "    y = (A - 2.1I) \\ y\n",
    "    y = y / norm(y)\n",
    "    λ̃ = (y'A*y) / (y'y)\n",
    "    push!(Δλ, abs(λ̃ - 2))\n",
    "end\n",
    "semilogy(1:length(Δλ), Δλ, \"b.-\")\n",
    "semilogy(1:length(Δλ), (1/9).^(1:length(Δλ)), \"k--\")\n",
    "xlabel(\"number of power steps\")\n",
    "ylabel(\"error in eigenvalue\")\n",
    "title(L\"convergence of shift-and-invert method $\\lambda$ for $\\lambda=1,2,3,4,5$, $\\mu = 2.1$\")\n",
    "legend([\"error\", L\"1/9^n\"])"
   ]
  },
  {
   "cell_type": "code",
   "execution_count": 64,
   "metadata": {
    "scrolled": true
   },
   "outputs": [
    {
     "data": {
      "text/plain": [
       "20×20 Array{Float64,2}:\n",
       "   32.6164    -0.714505   -6.66997   …   -3.13021    -4.33414    -19.2843\n",
       "   66.7876     1.14405   -15.908         -5.04507   -15.7864     -68.3098\n",
       "  -23.696      3.20868     4.15994       -8.15241     1.15989     24.2989\n",
       "  123.343    -18.198     -26.6017        -7.58444   -21.4698    -110.916\n",
       "   12.5484    -3.77724    -5.19089        2.26477    -2.37231     -8.34886\n",
       "  159.231    -19.5268    -30.5622    …   -3.79465   -29.8309    -150.282\n",
       "   60.4009    -8.21115   -16.6256        -4.3848    -13.4689     -55.861\n",
       "  104.83     -14.5493    -24.3378        -5.4973    -16.1873     -88.2445\n",
       "   -2.72466    8.42869     4.672          7.64663    -2.64102     -3.91024\n",
       "   44.5993    -5.68145   -12.7838        -6.5243     -7.78702    -36.7829\n",
       "  -32.5517     4.03599     4.64166   …    2.00599    13.7751      53.3523\n",
       "    7.65445   -3.84577     0.402393      -0.951955   -0.274949    -2.7301\n",
       " -167.382     17.3724     38.038          8.34419    28.0267     147.391\n",
       "  135.583    -20.5513    -31.101        -10.4264    -18.0418    -124.736\n",
       "  -21.6926     5.92427    12.5564         9.82665     2.174        3.24123\n",
       "  -20.972      2.00562     3.03878   …    1.03069     9.55647     30.9205\n",
       "   53.9665    -9.53534   -11.4868        -2.09074    -3.13867    -43.0269\n",
       "  -60.4383     5.24679    10.7633        12.4229     12.8217      62.0233\n",
       "   83.5926   -14.865     -15.7695        -6.65496    -4.80692    -72.0635\n",
       "  -30.4559     9.52417    12.5058        11.2186      1.41716     25.3571"
      ]
     },
     "execution_count": 64,
     "metadata": {},
     "output_type": "execute_result"
    }
   ],
   "source": [
    "n = 20\n",
    "A = randn(n,n)\n",
    "A = A * diagm(1:n) / A"
   ]
  },
  {
   "cell_type": "code",
   "execution_count": 65,
   "metadata": {},
   "outputs": [
    {
     "data": {
      "text/plain": [
       "BenchmarkTools.Trial: \n",
       "  memory estimate:  469.48 KiB\n",
       "  allocs estimate:  2004\n",
       "  --------------\n",
       "  minimum time:     260.100 μs (0.00% GC)\n",
       "  median time:      268.600 μs (0.00% GC)\n",
       "  mean time:        304.482 μs (2.67% GC)\n",
       "  maximum time:     3.693 ms (0.00% GC)\n",
       "  --------------\n",
       "  samples:          10000\n",
       "  evals/sample:     1"
      ]
     },
     "execution_count": 65,
     "metadata": {},
     "output_type": "execute_result"
    }
   ],
   "source": [
    "@benchmark potegowav2(A, 1000)"
   ]
  },
  {
   "cell_type": "code",
   "execution_count": 66,
   "metadata": {},
   "outputs": [
    {
     "data": {
      "text/plain": [
       "(20.00000000000004, [0.16021475595707294, -0.04763610416824726, 0.14627654897896797, -0.1924709333720057, -0.08777984295930909, -0.27115955909882705, -0.29365137795279384, -0.266492099623942, 0.31420888977627187, -0.1337171859582426, -0.06569958308989418, -0.04246959868468574, 0.34098101131383507, -0.2780656403535612, 0.14963261390308988, -0.19941195873923998, -0.4966678382207558, -0.08822290194923449, -0.041704897724108334, 0.20116021663895053])"
      ]
     },
     "execution_count": 66,
     "metadata": {},
     "output_type": "execute_result"
    }
   ],
   "source": [
    "potegowav2(A, 1000)"
   ]
  },
  {
   "cell_type": "code",
   "execution_count": 67,
   "metadata": {},
   "outputs": [
    {
     "data": {
      "text/plain": [
       "BenchmarkTools.Trial: \n",
       "  memory estimate:  469.34 KiB\n",
       "  allocs estimate:  2004\n",
       "  --------------\n",
       "  minimum time:     500.700 μs (0.00% GC)\n",
       "  median time:      510.150 μs (0.00% GC)\n",
       "  mean time:        568.675 μs (1.73% GC)\n",
       "  maximum time:     28.940 ms (0.00% GC)\n",
       "  --------------\n",
       "  samples:          8682\n",
       "  evals/sample:     1"
      ]
     },
     "execution_count": 67,
     "metadata": {},
     "output_type": "execute_result"
    }
   ],
   "source": [
    "t = @benchmark potegowa(A, 1000)"
   ]
  },
  {
   "cell_type": "code",
   "execution_count": 68,
   "metadata": {},
   "outputs": [
    {
     "data": {
      "text/plain": [
       "BenchmarkTools.TrialEstimate: \n",
       "  time:             500.700 μs\n",
       "  gctime:           0.000 ns (0.00%)\n",
       "  memory:           469.34 KiB\n",
       "  allocs:           2004"
      ]
     },
     "execution_count": 68,
     "metadata": {},
     "output_type": "execute_result"
    }
   ],
   "source": [
    "minimum(t)"
   ]
  },
  {
   "cell_type": "code",
   "execution_count": 69,
   "metadata": {},
   "outputs": [
    {
     "data": {
      "text/plain": [
       "BenchmarkTools.Trial: \n",
       "  memory estimate:  9.52 MiB\n",
       "  allocs estimate:  3000\n",
       "  --------------\n",
       "  minimum time:     3.494 ms (0.00% GC)\n",
       "  median time:      4.272 ms (0.00% GC)\n",
       "  mean time:        5.726 ms (13.06% GC)\n",
       "  maximum time:     18.570 ms (39.50% GC)\n",
       "  --------------\n",
       "  samples:          870\n",
       "  evals/sample:     1"
      ]
     },
     "execution_count": 69,
     "metadata": {},
     "output_type": "execute_result"
    }
   ],
   "source": [
    "@benchmark jacobi(A, 1000)"
   ]
  },
  {
   "cell_type": "code",
   "execution_count": 70,
   "metadata": {},
   "outputs": [
    {
     "data": {
      "text/plain": [
       "20-element Array{Float64,1}:\n",
       " -39.85263785787216\n",
       "  -8.210266953277834\n",
       "   1.3119044369651345\n",
       "   9.290841640455184\n",
       "  -0.03988157882679716\n",
       "  11.174913006080128\n",
       "   5.515667628207155\n",
       "   9.361392827706716\n",
       "   9.057862734005793\n",
       "  13.898093363838386\n",
       "  16.836373280806395\n",
       "  15.600867048868611\n",
       "  12.431945421521412\n",
       "  14.668210565839289\n",
       "   9.764700300770315\n",
       "   3.2085227767853306\n",
       "  14.333439402290727\n",
       "  22.10724564500848\n",
       "  31.964048703676788\n",
       "  57.576757607151485"
      ]
     },
     "execution_count": 70,
     "metadata": {},
     "output_type": "execute_result"
    }
   ],
   "source": [
    "AJ = jacobi(A, 1000)\n",
    "diag(AJ)[end:-1:1]"
   ]
  },
  {
   "cell_type": "code",
   "execution_count": 71,
   "metadata": {},
   "outputs": [
    {
     "data": {
      "text/plain": [
       "Eigen{Float64,Float64,Array{Float64,2},Array{Float64,1}}\n",
       "values:\n",
       "20-element Array{Float64,1}:\n",
       "  0.9999999999989253\n",
       "  1.999999999999998\n",
       "  3.0000000000001292\n",
       "  3.9999999999999885\n",
       "  5.000000000000179\n",
       "  5.999999999999784\n",
       "  6.99999999999902\n",
       "  7.999999999999939\n",
       "  9.000000000000085\n",
       "  9.999999999999622\n",
       " 11.000000000000005\n",
       " 12.000000000000297\n",
       " 13.000000000001224\n",
       " 14.000000000000036\n",
       " 15.00000000000008\n",
       " 15.999999999999963\n",
       " 17.000000000000025\n",
       " 18.000000000000355\n",
       " 19.000000000000114\n",
       " 20.000000000000554\n",
       "vectors:\n",
       "20×20 Array{Float64,2}:\n",
       "  0.193341     -0.165299     0.107222   …   0.0216536    0.160215\n",
       " -0.119931      0.07307      0.155961       0.166312    -0.0476361\n",
       "  0.165777      0.0503669   -0.312588       0.331558     0.146277\n",
       " -0.316226     -0.106981     0.0851131      0.0888248   -0.192471\n",
       " -0.182583     -0.0210987   -0.588357      -0.261206    -0.0877798\n",
       " -0.377244     -0.263695    -0.163311   …  -0.0361182   -0.27116\n",
       " -0.152014     -0.0725996   -0.152707       0.00257176  -0.293651\n",
       " -0.0641545    -0.228219    -0.0413596      0.0163478   -0.266492\n",
       "  0.0383188    -0.205474    -0.278485      -0.0198952    0.314209\n",
       "  0.0109625     0.0835841   -0.0611129      0.471638    -0.133717\n",
       "  0.568649     -0.543253     0.33827    …  -0.117574    -0.0656996\n",
       " -0.114347      0.0593884    0.172902      -0.0667697   -0.0424696\n",
       " -0.019271      0.349001     0.0828357     -0.244088     0.340981\n",
       " -0.192824      0.220146    -0.25242       -0.0839388   -0.278066\n",
       " -0.0775055     0.0890253   -0.0685094     -0.463432     0.149633\n",
       "  0.331183      0.035695     0.195519   …   0.0493763   -0.199412\n",
       "  0.129519      0.132065     0.214613      -0.0642999   -0.496668\n",
       "  0.123338     -0.0420981    0.110806      -0.367332    -0.0882229\n",
       " -0.307613     -0.528661     0.249171      -0.0767726   -0.0417049\n",
       "  0.000795672  -0.00161544  -0.0427496     -0.338129     0.20116"
      ]
     },
     "execution_count": 71,
     "metadata": {},
     "output_type": "execute_result"
    }
   ],
   "source": [
    "eigen(A)"
   ]
  },
  {
   "cell_type": "code",
   "execution_count": 72,
   "metadata": {},
   "outputs": [
    {
     "data": {
      "text/plain": [
       "BenchmarkTools.Trial: \n",
       "  memory estimate:  192.82 MiB\n",
       "  allocs estimate:  803802\n",
       "  --------------\n",
       "  minimum time:     61.261 ms (5.18% GC)\n",
       "  median time:      68.773 ms (5.18% GC)\n",
       "  mean time:        73.730 ms (5.18% GC)\n",
       "  maximum time:     127.251 ms (3.15% GC)\n",
       "  --------------\n",
       "  samples:          69\n",
       "  evals/sample:     1"
      ]
     },
     "execution_count": 72,
     "metadata": {},
     "output_type": "execute_result"
    }
   ],
   "source": [
    "@benchmark QR_eigen(A, 1000)"
   ]
  },
  {
   "cell_type": "code",
   "execution_count": 73,
   "metadata": {},
   "outputs": [
    {
     "data": {
      "text/plain": [
       "20×20 Array{Float64,2}:\n",
       " 20.0           -0.145259       0.14987       …  -53.3219        715.911\n",
       " -2.88652e-23   19.0           -0.0804363        -14.6038        176.56\n",
       " -9.18876e-47   -4.20769e-24   18.0              -23.4171        171.763\n",
       "  2.54113e-71   -8.47538e-49   -4.52529e-26        6.23484      -274.604\n",
       "  1.38787e-97    1.33621e-75    7.58618e-52       -5.67341        74.0721\n",
       "  4.96047e-126  -1.87222e-102  -2.7715e-79    …    5.35602       210.731\n",
       "  9.13933e-156  -2.57521e-133  -6.16638e-110      25.043         112.273\n",
       " -4.39676e-187  -1.71556e-164  -1.80319e-141     -14.3717        195.167\n",
       " -8.62142e-222  -2.45531e-199  -5.80552e-176       4.86856       394.181\n",
       " -1.10415e-259  -4.49493e-237   2.042e-214         0.166581      -39.1327\n",
       " -1.46053e-300  -2.77559e-278  -6.49462e-255  …  -15.599         208.005\n",
       "  0.0            0.0           -4.49067e-301       1.57916      -110.997\n",
       "  0.0            0.0            0.0               -3.13671      -143.845\n",
       "  0.0            0.0            0.0               -6.83745       175.458\n",
       "  0.0            0.0            0.0               -7.00725       199.065\n",
       "  0.0            0.0            0.0           …   -1.2203         63.9837\n",
       "  0.0            0.0            0.0               -0.139397       -3.55261\n",
       "  0.0            0.0            0.0               -0.476929       13.4577\n",
       "  0.0            0.0            0.0                2.0            -9.59005\n",
       "  0.0            0.0            0.0                9.3087e-303     1.0"
      ]
     },
     "execution_count": 73,
     "metadata": {},
     "output_type": "execute_result"
    }
   ],
   "source": [
    "QR_eigen(A, 1000)"
   ]
  },
  {
   "cell_type": "code",
   "execution_count": 74,
   "metadata": {},
   "outputs": [
    {
     "data": {
      "text/plain": [
       "20-element Array{Float64,1}:\n",
       "  0.9999999999990087\n",
       "  2.000000000000011\n",
       "  3.0000000000000036\n",
       "  4.000000000000168\n",
       "  5.000000000000352\n",
       "  6.000000000000018\n",
       "  6.999999999999885\n",
       "  7.999999999999812\n",
       "  9.000000000000115\n",
       "  9.999999999999899\n",
       " 11.000000000000018\n",
       " 12.000000000000222\n",
       " 13.000000000000732\n",
       " 13.999999999999945\n",
       " 14.999999999999991\n",
       " 16.000000000000057\n",
       " 16.99999999999989\n",
       " 18.000000000000277\n",
       " 19.000000000000014\n",
       " 19.999999999999858"
      ]
     },
     "execution_count": 74,
     "metadata": {},
     "output_type": "execute_result"
    }
   ],
   "source": [
    "diag(QR_eigen(A, 1000))[end:-1:1]"
   ]
  },
  {
   "cell_type": "code",
   "execution_count": null,
   "metadata": {},
   "outputs": [],
   "source": []
  },
  {
   "cell_type": "code",
   "execution_count": null,
   "metadata": {},
   "outputs": [],
   "source": []
  },
  {
   "cell_type": "code",
   "execution_count": 75,
   "metadata": {},
   "outputs": [
    {
     "data": {
      "text/plain": [
       "20×20 Array{Float64,2}:\n",
       "  0.00431725   -0.790083   -0.783474   …   1.07692    1.01189    -0.886618\n",
       "  0.406052     -0.238252   -3.0779        -1.04335    1.41274     1.17852\n",
       "  0.219748     -1.71239    -0.272159       1.42289    1.71268     0.904407\n",
       " -1.20855      -1.98568     0.798896       0.435568   0.686854    0.940155\n",
       "  0.34594       1.30106    -0.810755       0.697431  -0.506344   -1.81042\n",
       "  0.573856     -1.06733     0.182262   …   1.01562    1.14159     2.57452\n",
       " -0.585852      1.18337    -0.0168785     -0.543102   0.499956   -0.0149975\n",
       "  0.461013     -0.1953      0.750758      -0.827768   0.524267    0.251245\n",
       "  0.227044      0.296467    0.348444       0.895774   1.39957     0.362679\n",
       "  0.377738      0.0949848  -0.931154      -0.644012  -0.936482    1.2144\n",
       " -0.0224113     0.661372   -1.84169    …   0.262334  -1.06109    -0.938116\n",
       "  0.193052      0.737916   -1.01413       -0.140875  -0.388546    0.0155676\n",
       "  1.27322       0.387171    0.342163      -1.23861    1.39654    -1.77023\n",
       " -0.740832     -0.201685   -1.35421        0.39839   -1.26687    -1.22766\n",
       "  1.14145       1.89939     0.270531      -1.75823   -1.48121    -0.969092\n",
       " -0.0486894     0.348935   -0.597076   …   0.570005   0.482595   -2.45389\n",
       "  0.633243     -0.8538     -0.521616      -1.82035   -0.0168172  -0.0521666\n",
       "  0.41948       1.28032     2.32311        1.69315   -0.458901    1.1001\n",
       " -0.000540877  -2.10793    -0.349918       1.20843   -0.043383    0.0710033\n",
       " -0.188371      1.6312      0.454465      -0.700193   1.30056     0.133419"
      ]
     },
     "execution_count": 75,
     "metadata": {},
     "output_type": "execute_result"
    }
   ],
   "source": [
    "n = 20\n",
    "A = randn(n,n)\n",
    "# A = A * diagm(1:n) / A"
   ]
  },
  {
   "cell_type": "code",
   "execution_count": 76,
   "metadata": {},
   "outputs": [],
   "source": [
    "A = [1 0 2+2im 0 3-3im; 0 4 0 5 0; 6-6im 0 7 0 8+8im; 0 9 0 1 0; 2+2im 0 3-3im 0 4];"
   ]
  },
  {
   "cell_type": "code",
   "execution_count": 77,
   "metadata": {},
   "outputs": [
    {
     "data": {
      "text/plain": [
       "5×5 Hermitian{Complex{Int64},Array{Complex{Int64},2}}:\n",
       " 1+0im  0+0im  2+2im  0+0im  3-3im\n",
       " 0+0im  4+0im  0+0im  5+0im  0+0im\n",
       " 2-2im  0+0im  7+0im  0+0im  8+8im\n",
       " 0+0im  5+0im  0+0im  1+0im  0+0im\n",
       " 3+3im  0+0im  8-8im  0+0im  4+0im"
      ]
     },
     "execution_count": 77,
     "metadata": {},
     "output_type": "execute_result"
    }
   ],
   "source": [
    "B = Hermitian(A)\n"
   ]
  },
  {
   "cell_type": "code",
   "execution_count": 83,
   "metadata": {},
   "outputs": [
    {
     "data": {
      "text/plain": [
       "5×5 Array{Complex{Float64},2}:\n",
       "  3.54222+0.426667im      0.0+0.0im  …       0.0+0.0im    -0.08+0.222222im\n",
       "      0.0-0.0im       4.38095+0.0im     -1.90476-0.0im      0.0-0.0im\n",
       " -2.02667+3.52im          0.0+0.0im          0.0+0.0im     0.32+0.693333im\n",
       "      0.0-0.0im       0.47619+0.0im      1.61905+0.0im      0.0-0.0im\n",
       "    -0.96-0.391111im      0.0+0.0im          0.0+0.0im  2.03111+0.426667im"
      ]
     },
     "execution_count": 83,
     "metadata": {},
     "output_type": "execute_result"
    }
   ],
   "source": [
    "B = B * diagm(1:5) / B"
   ]
  },
  {
   "cell_type": "code",
   "execution_count": 84,
   "metadata": {},
   "outputs": [
    {
     "ename": "LoadError",
     "evalue": "\u001b[91mInexactError: Float64(0.44499843938555034 + 0.9641632853353604im)\u001b[39m",
     "output_type": "error",
     "traceback": [
      "\u001b[91mInexactError: Float64(0.44499843938555034 + 0.9641632853353604im)\u001b[39m",
      "",
      "Stacktrace:",
      " [1] Real at .\\complex.jl:37 [inlined]",
      " [2] convert at .\\number.jl:7 [inlined]",
      " [3] setindex! at .\\array.jl:849 [inlined]",
      " [4] jacobi(::Array{Complex{Float64},2}, ::Int64) at .\\In[30]:14",
      " [5] ##core#283() at C:\\Users\\Piotr\\.julia\\packages\\BenchmarkTools\\ms0Xc\\src\\execution.jl:479",
      " [6] ##sample#284(::BenchmarkTools.Parameters) at C:\\Users\\Piotr\\.julia\\packages\\BenchmarkTools\\ms0Xc\\src\\execution.jl:485",
      " [7] _run(::BenchmarkTools.Benchmark, ::BenchmarkTools.Parameters; verbose::Bool, pad::String, kwargs::Base.Iterators.Pairs{Symbol,Integer,NTuple{4,Symbol},NamedTuple{(:samples, :evals, :gctrial, :gcsample),Tuple{Int64,Int64,Bool,Bool}}}) at C:\\Users\\Piotr\\.julia\\packages\\BenchmarkTools\\ms0Xc\\src\\execution.jl:98",
      " [8] (::Base.var\"#inner#2\"{Base.Iterators.Pairs{Symbol,Integer,NTuple{5,Symbol},NamedTuple{(:verbose, :samples, :evals, :gctrial, :gcsample),Tuple{Bool,Int64,Int64,Bool,Bool}}},typeof(BenchmarkTools._run),Tuple{BenchmarkTools.Benchmark,BenchmarkTools.Parameters}})() at .\\essentials.jl:713",
      " [9] #invokelatest#1 at .\\essentials.jl:714 [inlined]",
      " [10] #run_result#38 at C:\\Users\\Piotr\\.julia\\packages\\BenchmarkTools\\ms0Xc\\src\\execution.jl:33 [inlined]",
      " [11] run(::BenchmarkTools.Benchmark, ::BenchmarkTools.Parameters; progressid::Nothing, nleaves::Float64, ndone::Float64, kwargs::Base.Iterators.Pairs{Symbol,Integer,NTuple{5,Symbol},NamedTuple{(:verbose, :samples, :evals, :gctrial, :gcsample),Tuple{Bool,Int64,Int64,Bool,Bool}}}) at C:\\Users\\Piotr\\.julia\\packages\\BenchmarkTools\\ms0Xc\\src\\execution.jl:116",
      " [12] #warmup#47 at C:\\Users\\Piotr\\.julia\\packages\\BenchmarkTools\\ms0Xc\\src\\execution.jl:168 [inlined]",
      " [13] warmup(::BenchmarkTools.Benchmark) at C:\\Users\\Piotr\\.julia\\packages\\BenchmarkTools\\ms0Xc\\src\\execution.jl:168",
      " [14] top-level scope at C:\\Users\\Piotr\\.julia\\packages\\BenchmarkTools\\ms0Xc\\src\\execution.jl:387",
      " [15] include_string(::Function, ::Module, ::String, ::String) at .\\loading.jl:1091"
     ]
    }
   ],
   "source": [
    "@benchmark jacobi(B, 1000)"
   ]
  },
  {
   "cell_type": "code",
   "execution_count": 85,
   "metadata": {},
   "outputs": [
    {
     "ename": "LoadError",
     "evalue": "\u001b[91mInexactError: Float64(0.44499843938555034 + 0.9641632853353604im)\u001b[39m",
     "output_type": "error",
     "traceback": [
      "\u001b[91mInexactError: Float64(0.44499843938555034 + 0.9641632853353604im)\u001b[39m",
      "",
      "Stacktrace:",
      " [1] Real at .\\complex.jl:37 [inlined]",
      " [2] convert at .\\number.jl:7 [inlined]",
      " [3] setindex! at .\\array.jl:849 [inlined]",
      " [4] jacobi(::Array{Complex{Float64},2}, ::Int64) at .\\In[30]:14",
      " [5] top-level scope at In[85]:1",
      " [6] include_string(::Function, ::Module, ::String, ::String) at .\\loading.jl:1091"
     ]
    }
   ],
   "source": [
    "AJ = jacobi(B, 1000)\n",
    "diag(AJ)[end:-1:1]"
   ]
  },
  {
   "cell_type": "code",
   "execution_count": 86,
   "metadata": {},
   "outputs": [
    {
     "data": {
      "text/plain": [
       "Eigen{Complex{Float64},Complex{Float64},Array{Complex{Float64},2},Array{Complex{Float64},1}}\n",
       "values:\n",
       "5-element Array{Complex{Float64},1}:\n",
       " 0.9999999999999999 + 3.1053625508990707e-16im\n",
       "  2.000000000000001 - 3.1647861414851874e-16im\n",
       "  3.000000000000003 - 3.7430767103993796e-16im\n",
       " 3.9999999999999973 + 7.771561172376096e-16im\n",
       "  5.000000000000002 + 6.418476861114186e-17im\n",
       "vectors:\n",
       "5×5 Array{Complex{Float64},2}:\n",
       "     0.136083-0.136083im     …   6.93889e-17-0.333333im\n",
       "  4.19716e-17-1.19458e-16im     -6.84583e-17-5.94549e-17im\n",
       " -2.77556e-16-0.544331im            0.888889+0.0im\n",
       "          0.0+0.0im                      0.0-0.0im\n",
       "     0.816497+0.0im                 0.222222-0.222222im"
      ]
     },
     "execution_count": 86,
     "metadata": {},
     "output_type": "execute_result"
    }
   ],
   "source": [
    "eigen(B)"
   ]
  },
  {
   "cell_type": "markdown",
   "metadata": {},
   "source": [
    "## Złożoność obliczeniowa i pamięciowa"
   ]
  },
  {
   "cell_type": "code",
   "execution_count": 116,
   "metadata": {},
   "outputs": [
    {
     "name": "stdout",
     "output_type": "stream",
     "text": [
      "2\n",
      "4\n",
      "6\n",
      "8\n",
      "10\n",
      "12\n",
      "14\n",
      "16\n",
      "18\n",
      "20\n",
      "22\n"
     ]
    }
   ],
   "source": [
    "mean_time_potegowa = Float64[]\n",
    "mean_memory_potegowa = Int64[]\n",
    "mean_time_jacobi = Float64[]\n",
    "mean_memory_jacobi = Int64[]\n",
    "mean_time_qr = Float64[]\n",
    "mean_memory_qr = Int64[]\n",
    "\n",
    "i_values = 2:2:22\n",
    "\n",
    "for i in i_values\n",
    "    A = randn(i,i)\n",
    "    A = A * diagm(1:i) / A\n",
    "#     A = rand(i,i)\n",
    "#     A = Symmetric(A)\n",
    "    xbench = @benchmark potegowav2(A, 100)\n",
    "    append!(mean_time_potegowa, mean(xbench).time)\n",
    "    append!(mean_memory_potegowa, mean(xbench).memory)\n",
    "    \n",
    "    xbench = @benchmark jacobi(A, 100)\n",
    "    append!(mean_time_jacobi, mean(xbench).time)\n",
    "    append!(mean_memory_jacobi, mean(xbench).memory)\n",
    "    \n",
    "    xbench = @benchmark QR_eigen(A, 100)\n",
    "    append!(mean_time_qr, mean(xbench).time)\n",
    "    append!(mean_memory_qr, mean(xbench).memory)\n",
    "    \n",
    "    println(i)\n",
    "end"
   ]
  },
  {
   "cell_type": "code",
   "execution_count": 117,
   "metadata": {},
   "outputs": [
    {
     "data": {
      "image/png": "[encoded data removed]",
      "text/plain": [
       "Figure(PyObject <Figure size 640x480 with 1 Axes>)"
      ]
     },
     "metadata": {},
     "output_type": "display_data"
    },
    {
     "data": {
      "text/plain": [
       "PyObject Text(24.000000000000014, 0.5, 'Czas liczony w mikrosekundach')"
      ]
     },
     "execution_count": 117,
     "metadata": {},
     "output_type": "execute_result"
    }
   ],
   "source": [
    "plot(i_values, mean_time_potegowa, \"b.-\")\n",
    "title(\"Złożoność czasowa metody potęgowej\")\n",
    "xlabel(\"Rozmiar macierzy\")\n",
    "ylabel(\"Czas liczony w mikrosekundach\")"
   ]
  },
  {
   "cell_type": "code",
   "execution_count": 118,
   "metadata": {},
   "outputs": [
    {
     "data": {
      "image/png": "[encoded data removed]",
      "text/plain": [
       "Figure(PyObject <Figure size 640x480 with 1 Axes>)"
      ]
     },
     "metadata": {},
     "output_type": "display_data"
    },
    {
     "data": {
      "text/plain": [
       "PyObject Text(24.0, 0.5, 'Czas liczony w mikrosekundach')"
      ]
     },
     "execution_count": 118,
     "metadata": {},
     "output_type": "execute_result"
    }
   ],
   "source": [
    "plot(i_values, mean_time_jacobi, \"b.-\")\n",
    "title(\"Złożoność czasowa metody Jacobiego\")\n",
    "xlabel(\"Rozmiar macierzy\")\n",
    "ylabel(\"Czas liczony w mikrosekundach\")"
   ]
  },
  {
   "cell_type": "code",
   "execution_count": 119,
   "metadata": {},
   "outputs": [
    {
     "data": {
      "image/png": "[encoded data removed]",
      "text/plain": [
       "Figure(PyObject <Figure size 640x480 with 1 Axes>)"
      ]
     },
     "metadata": {},
     "output_type": "display_data"
    },
    {
     "data": {
      "text/plain": [
       "PyObject Text(24.000000000000014, 0.5, 'Czas liczony w mikrosekundach')"
      ]
     },
     "execution_count": 119,
     "metadata": {},
     "output_type": "execute_result"
    }
   ],
   "source": [
    "plot(i_values, mean_time_qr, \"b.-\")\n",
    "title(\"Złożoność czasowa metody QR\")\n",
    "xlabel(\"Rozmiar macierzy\")\n",
    "ylabel(\"Czas liczony w mikrosekundach\")"
   ]
  },
  {
   "cell_type": "code",
   "execution_count": 120,
   "metadata": {},
   "outputs": [
    {
     "data": {
      "image/png": "[encoded data removed]",
      "text/plain": [
       "Figure(PyObject <Figure size 640x480 with 1 Axes>)"
      ]
     },
     "metadata": {},
     "output_type": "display_data"
    },
    {
     "data": {
      "text/plain": [
       "PyObject Text(24.500000000000014, 0.5, 'Wykorzystana pamięć liczona w bajtach')"
      ]
     },
     "execution_count": 120,
     "metadata": {},
     "output_type": "execute_result"
    }
   ],
   "source": [
    "plot(i_values, mean_memory_potegowa, \"b.-\")\n",
    "title(\"Złożoność pamięciowa metody potęgowej\")\n",
    "xlabel(\"Rozmiar macierzy\")\n",
    "ylabel(\"Wykorzystana pamięć liczona w bajtach\")"
   ]
  },
  {
   "cell_type": "code",
   "execution_count": 121,
   "metadata": {},
   "outputs": [
    {
     "data": {
      "image/png": "[encoded data removed]",
      "text/plain": [
       "Figure(PyObject <Figure size 640x480 with 1 Axes>)"
      ]
     },
     "metadata": {},
     "output_type": "display_data"
    },
    {
     "data": {
      "text/plain": [
       "PyObject Text(24.500000000000014, 0.5, 'Wykorzystana pamięć liczona w bajtach')"
      ]
     },
     "execution_count": 121,
     "metadata": {},
     "output_type": "execute_result"
    }
   ],
   "source": [
    "plot(i_values, mean_time_jacobi, \"b.-\")\n",
    "title(\"Złożoność pamięciowa metody Jacobiego\")\n",
    "xlabel(\"Rozmiar macierzy\")\n",
    "ylabel(\"Wykorzystana pamięć liczona w bajtach\")"
   ]
  },
  {
   "cell_type": "code",
   "execution_count": 122,
   "metadata": {},
   "outputs": [
    {
     "data": {
      "image/png": "[encoded data removed]",
      "text/plain": [
       "Figure(PyObject <Figure size 640x480 with 1 Axes>)"
      ]
     },
     "metadata": {},
     "output_type": "display_data"
    },
    {
     "data": {
      "text/plain": [
       "PyObject Text(24.500000000000014, 0.5, 'Wykorzystana pamięć liczona w bajtach')"
      ]
     },
     "execution_count": 122,
     "metadata": {},
     "output_type": "execute_result"
    }
   ],
   "source": [
    "plot(i_values, mean_memory_qr, \"b.-\")\n",
    "title(\"Złożoność pamięciowa metody QR\")\n",
    "xlabel(\"Rozmiar macierzy\")\n",
    "ylabel(\"Wykorzystana pamięć liczona w bajtach\")"
   ]
  },
  {
   "cell_type": "code",
   "execution_count": null,
   "metadata": {},
   "outputs": [],
   "source": []
  },
  {
   "cell_type": "code",
   "execution_count": null,
   "metadata": {},
   "outputs": [],
   "source": []
  },
  {
   "cell_type": "code",
   "execution_count": null,
   "metadata": {},
   "outputs": [],
   "source": []
  }
 ],
 "metadata": {
  "kernelspec": {
   "display_name": "Julia 1.5.4",
   "language": "julia",
   "name": "julia-1.5"
  },
  "language_info": {
   "file_extension": ".jl",
   "mimetype": "application/julia",
   "name": "julia",
   "version": "1.5.4"
  }
 },
 "nbformat": 4,
 "nbformat_minor": 2
}