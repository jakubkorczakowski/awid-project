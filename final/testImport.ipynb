{
 "cells": [
  {
   "cell_type": "code",
   "execution_count": 22,
   "metadata": {},
   "outputs": [
    {
     "data": {
      "text/plain": [
       "QRwithoutShifts (generic function with 1 method)"
      ]
     },
     "execution_count": 22,
     "metadata": {},
     "output_type": "execute_result"
    }
   ],
   "source": [
    "include(\"power_functions.jl\")\n",
    "include(\"jacobi_functions.jl\")\n",
    "include(\"qr_functions.jl\")"
   ]
  },
  {
   "cell_type": "code",
   "execution_count": 23,
   "metadata": {},
   "outputs": [
    {
     "data": {
      "text/plain": [
       "5×5 Array{Float64,2}:\n",
       " 2.47711  1.83873   1.00547   1.07201   1.92377\n",
       " 1.83873  1.74347   0.731713  0.835147  1.62154\n",
       " 1.00547  0.731713  1.52901   0.944067  1.07709\n",
       " 1.07201  0.835147  0.944067  0.86965   1.04542\n",
       " 1.92377  1.62154   1.07709   1.04542   1.8276"
      ]
     },
     "execution_count": 23,
     "metadata": {},
     "output_type": "execute_result"
    }
   ],
   "source": [
    "A = rand(5,5)\n",
    "A = A*A'\n",
    "A"
   ]
  },
  {
   "cell_type": "code",
   "execution_count": 24,
   "metadata": {},
   "outputs": [
    {
     "data": {
      "text/plain": [
       "5×5 Array{Float64,2}:\n",
       "  6.83581       -8.6058e-16     6.11773e-15   6.79372e-15  -3.13734e-15\n",
       " -3.65079e-78    1.1362        -6.93231e-17   5.10466e-17   1.33049e-16\n",
       "  1.69426e-143  -3.34169e-66    0.245779     -7.37278e-17   6.22678e-17\n",
       "  1.88217e-169  -2.01611e-93    2.75487e-27   0.138453     -7.17961e-17\n",
       "  7.45923e-188   1.00355e-110   2.41711e-45   6.27066e-21   0.0905951"
      ]
     },
     "execution_count": 24,
     "metadata": {},
     "output_type": "execute_result"
    }
   ],
   "source": [
    "QR_eigen(A, 100)"
   ]
  },
  {
   "cell_type": "code",
   "execution_count": 25,
   "metadata": {},
   "outputs": [
    {
     "data": {
      "text/plain": [
       "5×5 Array{Float64,2}:\n",
       " 0.0905951  0.0       0.0       0.0     0.0\n",
       " 0.0        0.138453  0.0       0.0     0.0\n",
       " 0.0        0.0       0.245779  0.0     0.0\n",
       " 0.0        0.0       0.0       1.1362  0.0\n",
       " 0.0        0.0       0.0       0.0     6.83581"
      ]
     },
     "execution_count": 25,
     "metadata": {},
     "output_type": "execute_result"
    }
   ],
   "source": [
    "jacobi_B(A, 100)"
   ]
  },
  {
   "cell_type": "code",
   "execution_count": 26,
   "metadata": {},
   "outputs": [
    {
     "data": {
      "text/plain": [
       "(6.835814542484269, [0.5706564805632743; 0.46469348897299884; … ; 0.3081838497637338; 0.50484955440592])"
      ]
     },
     "execution_count": 26,
     "metadata": {},
     "output_type": "execute_result"
    }
   ],
   "source": [
    "B = Symmetric(A)\n",
    "typed_power_method(B, 100)"
   ]
  },
  {
   "cell_type": "code",
   "execution_count": 27,
   "metadata": {},
   "outputs": [
    {
     "data": {
      "text/plain": [
       "5×5 Array{Float64,2}:\n",
       " 2.47711  1.83873   1.00547   1.07201   1.92377\n",
       " 1.83873  1.74347   0.731713  0.835147  1.62154\n",
       " 1.00547  0.731713  1.52901   0.944067  1.07709\n",
       " 1.07201  0.835147  0.944067  0.86965   1.04542\n",
       " 1.92377  1.62154   1.07709   1.04542   1.8276"
      ]
     },
     "metadata": {},
     "output_type": "display_data"
    },
    {
     "data": {
      "text/plain": [
       "5×5 Array{Float64,2}:\n",
       " 2.47711  1.83873   1.00547   1.07201   1.92377\n",
       " 1.83873  1.74347   0.731713  0.835147  1.62154\n",
       " 1.00547  0.731713  1.52901   0.944067  1.07709\n",
       " 1.07201  0.835147  0.944067  0.86965   1.04542\n",
       " 1.92377  1.62154   1.07709   1.04542   1.8276"
      ]
     },
     "metadata": {},
     "output_type": "display_data"
    }
   ],
   "source": [
    "# TODO using A = HessenbergReduction(A) changes input matrix A thus further function calls\n",
    "display(A)\n",
    "QR_eigen_hessen(A, 100)\n",
    "display(A)\n"
   ]
  },
  {
   "cell_type": "code",
   "execution_count": null,
   "metadata": {},
   "outputs": [],
   "source": []
  }
 ],
 "metadata": {
  "kernelspec": {
   "display_name": "Julia 1.5.4",
   "language": "julia",
   "name": "julia-1.5"
  },
  "language_info": {
   "file_extension": ".jl",
   "mimetype": "application/julia",
   "name": "julia",
   "version": "1.5.4"
  }
 },
 "nbformat": 4,
 "nbformat_minor": 2
}
