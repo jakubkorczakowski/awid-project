{
 "cells": [
  {
   "cell_type": "code",
   "execution_count": 1,
   "metadata": {},
   "outputs": [
    {
     "data": {
      "text/plain": [
       "QRwithoutShifts (generic function with 1 method)"
      ]
     },
     "execution_count": 1,
     "metadata": {},
     "output_type": "execute_result"
    }
   ],
   "source": [
    "include(\"power_functions.jl\")\n",
    "include(\"jacobi_functions.jl\")\n",
    "include(\"qr_functions.jl\")"
   ]
  },
  {
   "cell_type": "code",
   "execution_count": 2,
   "metadata": {},
   "outputs": [
    {
     "data": {
      "text/plain": [
       "5×5 Array{Float64,2}:\n",
       " 1.71634   0.986899  1.69914   1.06751   0.775157\n",
       " 0.986899  0.706961  1.06793   0.910652  0.61407\n",
       " 1.69914   1.06793   1.80456   1.28342   0.972608\n",
       " 1.06751   0.910652  1.28342   1.44691   0.926525\n",
       " 0.775157  0.61407   0.972608  0.926525  0.822234"
      ]
     },
     "execution_count": 2,
     "metadata": {},
     "output_type": "execute_result"
    }
   ],
   "source": [
    "A = rand(5,5)\n",
    "A = A*A'\n",
    "A"
   ]
  },
  {
   "cell_type": "code",
   "execution_count": 3,
   "metadata": {},
   "outputs": [
    {
     "data": {
      "text/plain": [
       "5×5 Array{Float64,2}:\n",
       " 5.64151       1.85434e-15    4.30493e-15    6.15578e-14  -7.69478e-14\n",
       " 2.96706e-94   0.643563      -8.11257e-17    7.17123e-16   9.33716e-16\n",
       " 1.85364e-151  2.14535e-58    0.173235      -6.26402e-17  -4.50273e-17\n",
       " 4.06997e-242  1.72247e-148  -4.37354e-92    0.0214113    -6.48721e-13\n",
       " 2.43724e-251  6.44146e-158   3.76594e-101  -6.48599e-13   0.0172944"
      ]
     },
     "execution_count": 3,
     "metadata": {},
     "output_type": "execute_result"
    }
   ],
   "source": [
    "QR_eigen(A, 100)"
   ]
  },
  {
   "cell_type": "code",
   "execution_count": 4,
   "metadata": {},
   "outputs": [
    {
     "data": {
      "text/plain": [
       "5×5 Array{Float64,2}:\n",
       " 0.0172944  0.0        0.0       0.0       0.0\n",
       " 0.0        0.0214113  0.0       0.0       0.0\n",
       " 0.0        0.0        0.173235  0.0       0.0\n",
       " 0.0        0.0        0.0       0.643563  0.0\n",
       " 0.0        0.0        0.0       0.0       5.64151"
      ]
     },
     "execution_count": 4,
     "metadata": {},
     "output_type": "execute_result"
    }
   ],
   "source": [
    "jacobi_B(A, 100)"
   ]
  },
  {
   "cell_type": "code",
   "execution_count": 6,
   "metadata": {},
   "outputs": [
    {
     "data": {
      "text/plain": [
       "(5.641505756753946, [0.5139468469087638; 0.34632620746111076; … ; 0.4480193301876844; 0.3251941225780002])"
      ]
     },
     "execution_count": 6,
     "metadata": {},
     "output_type": "execute_result"
    }
   ],
   "source": [
    "B = Symmetric(A)\n",
    "typed_power_method(B, 100)"
   ]
  },
  {
   "cell_type": "code",
   "execution_count": 9,
   "metadata": {},
   "outputs": [
    {
     "data": {
      "text/plain": [
       "5×5 Array{Float64,2}:\n",
       " 1.71634   0.986899  1.69914   1.06751   0.775157\n",
       " 0.986899  0.706961  1.06793   0.910652  0.61407\n",
       " 1.69914   1.06793   1.80456   1.28342   0.972608\n",
       " 1.06751   0.910652  1.28342   1.44691   0.926525\n",
       " 0.775157  0.61407   0.972608  0.926525  0.822234"
      ]
     },
     "metadata": {},
     "output_type": "display_data"
    },
    {
     "data": {
      "text/plain": [
       "5×5 Array{Float64,2}:\n",
       "  1.71634      -2.36675    2.22045e-16   2.22045e-16   1.11022e-16\n",
       " -2.36675       4.14757    0.310919     -0.404321     -0.296079\n",
       "  2.22045e-16   0.310919   0.154274     -0.178673     -0.0664189\n",
       "  2.22045e-16  -0.404321  -0.178673      0.261146      0.0797302\n",
       "  1.11022e-16  -0.296079  -0.0664189     0.0797302     0.217678"
      ]
     },
     "metadata": {},
     "output_type": "display_data"
    }
   ],
   "source": [
    "# TODO using A = HessenbergReduction(A) changes input matrix A thus further function calls\n",
    "display(A)\n",
    "QR_eigen_hessen(A, 100)\n",
    "display(A)\n"
   ]
  },
  {
   "cell_type": "code",
   "execution_count": null,
   "metadata": {},
   "outputs": [],
   "source": []
  }
 ],
 "metadata": {
  "kernelspec": {
   "display_name": "Julia 1.5.4",
   "language": "julia",
   "name": "julia-1.5"
  },
  "language_info": {
   "file_extension": ".jl",
   "mimetype": "application/julia",
   "name": "julia",
   "version": "1.5.4"
  }
 },
 "nbformat": 4,
 "nbformat_minor": 2
}
