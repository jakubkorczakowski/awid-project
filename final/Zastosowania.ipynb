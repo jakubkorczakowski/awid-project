{
 "cells": [
  {
   "cell_type": "code",
   "execution_count": 1,
   "metadata": {},
   "outputs": [],
   "source": [
    "using PyPlot\n",
    "using Random\n",
    "using LinearAlgebra\n",
    "using Statistics\n",
    "using Test"
   ]
  },
  {
   "cell_type": "code",
   "execution_count": 2,
   "metadata": {},
   "outputs": [
    {
     "data": {
      "text/plain": [
       "eye (generic function with 1 method)"
      ]
     },
     "execution_count": 2,
     "metadata": {},
     "output_type": "execute_result"
    }
   ],
   "source": [
    "function eye(n)\n",
    "    return Matrix(I,n,n)\n",
    "end"
   ]
  },
  {
   "cell_type": "code",
   "execution_count": 994,
   "metadata": {},
   "outputs": [
    {
     "data": {
      "text/plain": [
       "sorteigen (generic function with 2 methods)"
      ]
     },
     "execution_count": 994,
     "metadata": {},
     "output_type": "execute_result"
    }
   ],
   "source": [
    "function sorteigen(evals::Vector{T}, evecs::Matrix{T}) where {T}\n",
    "    p = sortperm(evals)\n",
    "    evals[p], evecs[p, :]\n",
    "end"
   ]
  },
  {
   "cell_type": "markdown",
   "metadata": {},
   "source": [
    "### Własna metoda QR do wyznaczania wartości i wektorów własnych TODO zmienić na pliki"
   ]
  },
  {
   "cell_type": "code",
   "execution_count": 7,
   "metadata": {},
   "outputs": [
    {
     "data": {
      "text/plain": [
       "mgs (generic function with 1 method)"
      ]
     },
     "execution_count": 7,
     "metadata": {},
     "output_type": "execute_result"
    }
   ],
   "source": [
    "function mgs(A::Matrix)\n",
    "    n = size(A,1);\n",
    "    R = zeros(n, n);\n",
    "    Q = zeros(n, n);\n",
    "    for j = 1:n\n",
    "        v = A[:,j];\n",
    "        for i = 1:j-1\n",
    "            R[i,j] = Q[:,i]'*v;\n",
    "            v = v - R[i,j]*Q[:,i];\n",
    "        end\n",
    "        R[j,j] = norm(v)\n",
    "        Q[:,j] = v / R[j,j]\n",
    "    end\n",
    "    return Q,R\n",
    "end"
   ]
  },
  {
   "cell_type": "code",
   "execution_count": 734,
   "metadata": {},
   "outputs": [
    {
     "data": {
      "text/plain": [
       "mgramschmidt (generic function with 1 method)"
      ]
     },
     "execution_count": 734,
     "metadata": {},
     "output_type": "execute_result"
    }
   ],
   "source": [
    "function mgramschmidt(A)\n",
    "    n, m = size(A)\n",
    "    Q = zeros(n, m)\n",
    "    R = zeros(m, m)\n",
    "    for j = 1:m\n",
    "        v = A[:,j]\n",
    "        for k = 1:j-1\n",
    "            R[k,j] = dot(Q[:,k]',v)\n",
    "            v -= R[k,j]*Q[:,k]\n",
    "        end\n",
    "        R[j,j] = norm(v)\n",
    "        Q[:,j] = v/R[j,j]\n",
    "    end\n",
    "    return Q, R\n",
    "end"
   ]
  },
  {
   "cell_type": "code",
   "execution_count": 1088,
   "metadata": {},
   "outputs": [
    {
     "data": {
      "text/plain": [
       "QR_eigen (generic function with 2 methods)"
      ]
     },
     "execution_count": 1088,
     "metadata": {},
     "output_type": "execute_result"
    }
   ],
   "source": [
    "function QR_eigen(A::Union{Matrix, Symmetric}, l::Integer)\n",
    "    E = eye(size(A,1));\n",
    "    Q,R = mgramschmidt(A);  # Jeśli chcemy mieć później dostęp do tych macierzy, to muszą być zadeklarowane poza pętlą for\n",
    "    for k = 1:l\n",
    "        Q,R = mgramschmidt(A);\n",
    "        A = R*Q;\n",
    "        E = E*Q;\n",
    "    end\n",
    "    sorteigen(diag(A), E)\n",
    "end"
   ]
  },
  {
   "cell_type": "code",
   "execution_count": 1073,
   "metadata": {},
   "outputs": [
    {
     "data": {
      "text/plain": [
       "3×3 Matrix{Int64}:\n",
       " 1   5   6\n",
       " 5  23   9\n",
       " 6   9  18"
      ]
     },
     "execution_count": 1073,
     "metadata": {},
     "output_type": "execute_result"
    }
   ],
   "source": [
    "AS = [1 5 6;\n",
    "    5 23 9;\n",
    "    6 9 18]"
   ]
  },
  {
   "cell_type": "code",
   "execution_count": 1074,
   "metadata": {},
   "outputs": [],
   "source": [
    "n = 20;\n",
    "A = randn(n,n); A = A'*A;"
   ]
  },
  {
   "cell_type": "code",
   "execution_count": 1082,
   "metadata": {},
   "outputs": [
    {
     "data": {
      "text/plain": [
       "\u001b[32m\u001b[1mTest Passed\u001b[22m\u001b[39m"
      ]
     },
     "execution_count": 1082,
     "metadata": {},
     "output_type": "execute_result"
    }
   ],
   "source": [
    "Λ, V = QR_eigen(AS, 1000);\n",
    "Λ_in, V_in = eigen(AS)\n",
    "@test Λ ≈ Λ_in"
   ]
  },
  {
   "cell_type": "code",
   "execution_count": 1079,
   "metadata": {},
   "outputs": [
    {
     "data": {
      "text/plain": [
       "3-element Vector{Float64}:\n",
       " -1.120852488332822\n",
       " 11.385955003872924\n",
       " 31.734897484459903"
      ]
     },
     "execution_count": 1079,
     "metadata": {},
     "output_type": "execute_result"
    }
   ],
   "source": [
    "Λ"
   ]
  },
  {
   "cell_type": "code",
   "execution_count": 1080,
   "metadata": {
    "scrolled": true
   },
   "outputs": [
    {
     "data": {
      "text/plain": [
       "3×3 Matrix{Float64}:\n",
       " -0.961908  -0.128222  0.241438\n",
       "  0.105256   0.641379  0.759969\n",
       "  0.252298  -0.756434  0.603452"
      ]
     },
     "execution_count": 1080,
     "metadata": {},
     "output_type": "execute_result"
    }
   ],
   "source": [
    "V"
   ]
  },
  {
   "cell_type": "markdown",
   "metadata": {},
   "source": [
    "### Przygotowanie danych"
   ]
  },
  {
   "cell_type": "code",
   "execution_count": 231,
   "metadata": {},
   "outputs": [
    {
     "data": {
      "text/plain": [
       "([1.0960230259076817 -0.6234898018587335 … -0.900968867902419 -0.28452758663103234; -0.49537911294919823 0.7818314824680299 … 0.43388373911755823 0.9586678530366607], [1.0, 0.0, 0.0, 0.0, 1.0, 0.0, 1.0, 0.0, 1.0, 1.0  …  1.0, 1.0, 0.0, 0.0, 0.0, 0.0, 0.0, 1.0, 0.0, 0.0])"
      ]
     },
     "execution_count": 231,
     "metadata": {},
     "output_type": "execute_result"
    }
   ],
   "source": [
    "function make_moon(; n_samples = 100, shuffle = true)\n",
    "    n_samples_out = n_samples ÷ 2\n",
    "    n_samples_in = n_samples - n_samples_out\n",
    "\n",
    "    X = zeros(2,n_samples)\n",
    "    y = zeros(n_samples)\n",
    "\n",
    "    # outer circle\n",
    "    X[1,1:n_samples_out] = cos.(LinRange(0, π, n_samples_out))\n",
    "    X[2,1:n_samples_out] = sin.(LinRange(0, π, n_samples_out))\n",
    "    y[1:n_samples_out] .= 0\n",
    "\n",
    "    # inner circle\n",
    "    X[1,n_samples_out+1:end] = 1 .- cos.(LinRange(0, π, n_samples_in))\n",
    "    X[2,n_samples_out+1:end] = 1 .- sin.(LinRange(0, π, n_samples_in)) .- 0.5\n",
    "    y[n_samples_out+1:end] .= 1\n",
    "\n",
    "    if shuffle\n",
    "       ind = randperm(n_samples)\n",
    "       return X[:,ind],y[ind]\n",
    "    else\n",
    "       return X,y\n",
    "    end\n",
    "end\n",
    "\n",
    "N = 100\n",
    "X,y = make_moon(n_samples = N)"
   ]
  },
  {
   "cell_type": "code",
   "execution_count": 21,
   "metadata": {},
   "outputs": [],
   "source": [
    "PyPlot.plt.rc(\"image\", cmap = \"RdYlBu_r\")"
   ]
  },
  {
   "cell_type": "code",
   "execution_count": 951,
   "metadata": {},
   "outputs": [
    {
     "data": {
      "text/plain": [
       "50×50 Matrix{Float64}:\n",
       " -0.087689    -0.13131      0.123024    …   0.0607609    0.0189177\n",
       " -0.0450316    0.0756184   -0.0596119      -0.178174    -0.136793\n",
       "  0.0356539   -0.119256     0.278394       -0.0697855   -0.0696676\n",
       "  0.00881744  -0.116691    -0.058622        0.0269897    0.361392\n",
       "  0.00274265  -0.172652    -0.30944         0.120326     0.00400852\n",
       "  0.223002     0.034967    -0.0279179   …   0.174082    -0.0726234\n",
       "  0.209515     0.161201    -0.0166696      -0.0902532    0.0936733\n",
       "  0.0174298    0.00658951   0.260508       -0.0100169   -0.0198326\n",
       "  0.179883    -0.060088     0.107552        0.202892    -0.161891\n",
       " -0.103096     0.0309992   -0.0058894       0.13148     -0.101477\n",
       " -0.274087    -0.154615    -0.157226    …  -0.0371943    0.151781\n",
       " -0.0481905    0.21665     -0.400055       -0.168532    -0.206568\n",
       " -0.287437    -0.0310909    0.103955       -0.0677455    0.0126911\n",
       "  ⋮                                     ⋱               \n",
       "  0.267749    -0.123238    -0.0609239      -0.0680323    0.0806498\n",
       "  0.0523774   -0.0318083    0.00230897     -0.0404084   -0.0218823\n",
       "  0.119721    -0.113873     0.0035774   …  -0.140305    -0.0702467\n",
       "  0.111247     0.269551     0.0677844      -0.189172     0.0165182\n",
       "  0.0484363    0.135341    -0.219984        0.375794     0.0575789\n",
       "  0.0660434   -0.0978296   -0.16469        -0.00844008   0.113825\n",
       "  0.197936    -0.285307    -0.115731       -0.0276784   -0.194128\n",
       "  0.00486755   0.166906     0.161789    …  -0.116675    -0.0340125\n",
       "  0.00728301  -0.43459     -0.0530295      -0.119992     0.084588\n",
       "  0.145808     0.139086     0.156191       -0.0714702    0.179381\n",
       "  0.255351     0.135797    -0.0837634      -0.0901749   -0.0355365\n",
       "  0.0637515   -0.0729023   -0.0468173      -0.392032     0.152331"
      ]
     },
     "execution_count": 951,
     "metadata": {},
     "output_type": "execute_result"
    }
   ],
   "source": [
    "V"
   ]
  },
  {
   "cell_type": "code",
   "execution_count": 297,
   "metadata": {},
   "outputs": [
    {
     "data": {
      "image/png": "[encoded data removed]",
      "text/plain": [
       "Figure(PyObject <Figure size 640x480 with 2 Axes>)"
      ]
     },
     "metadata": {},
     "output_type": "display_data"
    }
   ],
   "source": [
    "title(\"sample data\")\n",
    "scatter(X[1,:],X[2,:],10,y); colorbar();\n",
    "xlabel(\"x₁\")\n",
    "ylabel(\"x₂\")\n",
    "axis(\"equal\");"
   ]
  },
  {
   "cell_type": "markdown",
   "metadata": {},
   "source": [
    "### Metoda SVD na podstawie algorytmu Grama-Schmidta"
   ]
  },
  {
   "cell_type": "code",
   "execution_count": 738,
   "metadata": {},
   "outputs": [
    {
     "data": {
      "text/plain": [
       "my_svd (generic function with 1 method)"
      ]
     },
     "execution_count": 738,
     "metadata": {},
     "output_type": "execute_result"
    }
   ],
   "source": [
    "function my_svd(A::Matrix; maxiter=1000)\n",
    "    V = randn(size(A,2), size(A,1)) # random initialization\n",
    "    for _ = 1:maxiter\n",
    "        W = A * V\n",
    "        Z = A' * W\n",
    "        V, R = mgramschmidt(Z)\n",
    "    end\n",
    "    W = A * V\n",
    "    S = [norm(W[:, i]) for i=1:size(W,2)] # singular values\n",
    "    U = reduce(hcat,[W[:,i]/S[i] for i=1:size(W,2)]) # left singular vectors\n",
    "    return U, S, V\n",
    "end"
   ]
  },
  {
   "cell_type": "code",
   "execution_count": 739,
   "metadata": {},
   "outputs": [
    {
     "data": {
      "text/plain": [
       "\u001b[32m\u001b[1mTest Passed\u001b[22m\u001b[39m"
      ]
     },
     "execution_count": 739,
     "metadata": {},
     "output_type": "execute_result"
    }
   ],
   "source": [
    "Xa = X .- mean(X,dims=2);\n",
    "U,Σ,V = my_svd(Xa);\n",
    "\n",
    "@test Xa ≈ U * Diagonal(Σ) * V'"
   ]
  },
  {
   "cell_type": "markdown",
   "metadata": {},
   "source": [
    "### Klasyczna metoda PCA na podstawie własnego algorytmu wyznaczania wartości własnych"
   ]
  },
  {
   "cell_type": "code",
   "execution_count": 779,
   "metadata": {},
   "outputs": [
    {
     "data": {
      "text/plain": [
       "my_pca (generic function with 1 method)"
      ]
     },
     "execution_count": 779,
     "metadata": {},
     "output_type": "execute_result"
    }
   ],
   "source": [
    "function my_pca(A::Matrix, dims::Integer; maxiter=1000)\n",
    "    C = A .- mean(A);\n",
    "#     C = A;\n",
    "    Λ, V = QR_eigen(cov(C'), maxiter);\n",
    "#     Λ, V = eigen(cov(C'));\n",
    "    W = V;\n",
    "#     print(W)\n",
    "    W = V[end-dims+1:end, :];\n",
    "#     print(Λ[end-dims+1:end, :])\n",
    "#     print(W)\n",
    "    P = W * A;\n",
    "    reverse(P, dims=1)\n",
    "#     P[1:dims, :]\n",
    "end"
   ]
  },
  {
   "cell_type": "code",
   "execution_count": 629,
   "metadata": {},
   "outputs": [
    {
     "data": {
      "text/plain": [
       "2×100 Matrix{Float64}:\n",
       "  1.09602   -0.62349   -0.518393  …   1.46254   -0.900969  -0.284528\n",
       " -0.495379   0.781831   0.855143     -0.386599   0.433884   0.958668"
      ]
     },
     "execution_count": 629,
     "metadata": {},
     "output_type": "execute_result"
    }
   ],
   "source": []
  },
  {
   "cell_type": "code",
   "execution_count": 780,
   "metadata": {
    "scrolled": false
   },
   "outputs": [
    {
     "data": {
      "text/plain": [
       "2×100 Matrix{Float64}:\n",
       "  1.19515  -0.833301  -0.755767  0.678728  …  1.51061    -0.990638  -0.564946\n",
       " -0.1352    0.55282    0.654841  0.73439      0.0807888   0.136518   0.825128"
      ]
     },
     "execution_count": 780,
     "metadata": {},
     "output_type": "execute_result"
    }
   ],
   "source": [
    "X_pca = my_pca(X, 2, maxiter=1000)"
   ]
  },
  {
   "cell_type": "code",
   "execution_count": 781,
   "metadata": {
    "scrolled": false
   },
   "outputs": [
    {
     "data": {
      "image/png": "[encoded data removed]",
      "text/plain": [
       "Figure(PyObject <Figure size 640x480 with 2 Axes>)"
      ]
     },
     "metadata": {},
     "output_type": "display_data"
    }
   ],
   "source": [
    "title(\"sample data after PCA\")\n",
    "# scatter(X_pca[1,:],X_pca[2,:],10,y); colorbar();\n",
    "scatter(X_pca[1,:],zeros(size(X_pca[1,:])),10,y); colorbar();\n",
    "xlabel(\"x₁\")\n",
    "ylabel(\"x₂\")\n",
    "axis(\"equal\");"
   ]
  },
  {
   "cell_type": "markdown",
   "metadata": {},
   "source": [
    "PCA - Dane Iris"
   ]
  },
  {
   "cell_type": "code",
   "execution_count": 637,
   "metadata": {},
   "outputs": [
    {
     "data": {
      "text/plain": [
       "1×100 Matrix{Float64}:\n",
       " -0.795975  1.23248  1.15494  -0.279551  …  -1.11144  1.38982  0.964123"
      ]
     },
     "execution_count": 637,
     "metadata": {},
     "output_type": "execute_result"
    }
   ],
   "source": []
  },
  {
   "cell_type": "code",
   "execution_count": 880,
   "metadata": {},
   "outputs": [],
   "source": [
    "Xtr = convert(Array,(iris[1:2:end,1:4]));\n",
    "Xtr_labels = convert(Array,(iris[1:2:end,5]));\n",
    "Xtr = hcat(Xtr');"
   ]
  },
  {
   "cell_type": "code",
   "execution_count": 881,
   "metadata": {},
   "outputs": [],
   "source": [
    "X_pca = my_pca(Xtr, 2, maxiter=1000);\n",
    "# M = fit(PCA, Xtr; maxoutdim=2)\n",
    "# X_pca = MultivariateStats.transform(M, Xtr);\n",
    "# Xr = reconstruct(M, X_pca)\n",
    "setosa = X_pca[:,Xtr_labels.==\"setosa\"];\n",
    "versicolor = X_pca[:,Xtr_labels.==\"versicolor\"];\n",
    "virginica = X_pca[:,Xtr_labels.==\"virginica\"];"
   ]
  },
  {
   "cell_type": "code",
   "execution_count": 882,
   "metadata": {},
   "outputs": [
    {
     "data": {
      "image/png": "[encoded data removed]",
      "text/plain": [
       "Figure(PyObject <Figure size 640x480 with 1 Axes>)"
      ]
     },
     "metadata": {},
     "output_type": "display_data"
    },
    {
     "data": {
      "text/plain": [
       "PyObject Text(24.000000000000007, 0.5, 'PC2')"
      ]
     },
     "execution_count": 882,
     "metadata": {},
     "output_type": "execute_result"
    }
   ],
   "source": [
    "title(\"iris data after PCA\")\n",
    "scatter(setosa[1,:],setosa[2,:])\n",
    "scatter(versicolor[1,:],versicolor[2,:])\n",
    "scatter(virginica[1,:],virginica[2,:])\n",
    "xlabel(\"PC1\")\n",
    "ylabel(\"PC2\")"
   ]
  },
  {
   "cell_type": "code",
   "execution_count": 783,
   "metadata": {},
   "outputs": [],
   "source": [
    "C = Xtr .- mean(Xtr);\n",
    "Λ, V = QR_eigen(cov(C'), 1000);\n",
    "Λ_in, V_in = eigen(cov(C'));"
   ]
  },
  {
   "cell_type": "code",
   "execution_count": 784,
   "metadata": {
    "scrolled": true
   },
   "outputs": [
    {
     "data": {
      "text/plain": [
       "4-element Vector{Float64}:\n",
       " 0.019814847391297977\n",
       " 0.10023939904836698\n",
       " 0.2164366321076191\n",
       " 4.306799211542802"
      ]
     },
     "execution_count": 784,
     "metadata": {},
     "output_type": "execute_result"
    }
   ],
   "source": [
    "Λ_in"
   ]
  },
  {
   "cell_type": "code",
   "execution_count": 785,
   "metadata": {
    "scrolled": true
   },
   "outputs": [
    {
     "data": {
      "text/plain": [
       "4×4 Matrix{Float64}:\n",
       "  0.279945   0.505693    0.740952   -0.3419\n",
       " -0.336072  -0.680395    0.641943    0.109668\n",
       " -0.480874  -0.0624452  -0.171424   -0.857598\n",
       "  0.759899  -0.526723   -0.0975392  -0.368242"
      ]
     },
     "execution_count": 785,
     "metadata": {},
     "output_type": "execute_result"
    }
   ],
   "source": [
    "V_in"
   ]
  },
  {
   "cell_type": "code",
   "execution_count": 786,
   "metadata": {
    "scrolled": true
   },
   "outputs": [
    {
     "data": {
      "text/plain": [
       "4-element Vector{Float64}:\n",
       " 0.01981484739129846\n",
       " 0.10023939904836728\n",
       " 0.216436632107619\n",
       " 4.306799211542807"
      ]
     },
     "execution_count": 786,
     "metadata": {},
     "output_type": "execute_result"
    }
   ],
   "source": [
    "Λ"
   ]
  },
  {
   "cell_type": "code",
   "execution_count": 787,
   "metadata": {},
   "outputs": [
    {
     "data": {
      "text/plain": [
       "4×4 Matrix{Float64}:\n",
       "  0.279945  -0.505693    0.740952    0.3419\n",
       " -0.336072   0.680395    0.641943   -0.109668\n",
       " -0.480874   0.0624452  -0.171424    0.857598\n",
       "  0.759899   0.526723   -0.0975392   0.368242"
      ]
     },
     "execution_count": 787,
     "metadata": {},
     "output_type": "execute_result"
    }
   ],
   "source": [
    "V"
   ]
  },
  {
   "cell_type": "markdown",
   "metadata": {},
   "source": [
    "### Metoda PCA wykorzystująca jądro RBF na podstawie własnego algorytmu wyznaczania wartości własnych"
   ]
  },
  {
   "cell_type": "code",
   "execution_count": 962,
   "metadata": {},
   "outputs": [
    {
     "name": "stderr",
     "output_type": "stream",
     "text": [
      "WARNING: redefinition of constant γ. This may fail, cause incorrect answers, or produce other errors.\n"
     ]
    },
    {
     "data": {
      "text/plain": [
       "kernel (generic function with 1 method)"
      ]
     },
     "execution_count": 962,
     "metadata": {},
     "output_type": "execute_result"
    }
   ],
   "source": [
    "γ = 15\n",
    "kernel(x,y) = exp( - γ * sum( (x - y).^2) )"
   ]
  },
  {
   "cell_type": "code",
   "execution_count": 986,
   "metadata": {},
   "outputs": [
    {
     "data": {
      "text/plain": [
       "kernel_PCA (generic function with 1 method)"
      ]
     },
     "execution_count": 986,
     "metadata": {},
     "output_type": "execute_result"
    }
   ],
   "source": [
    "function kernel_PCA(X,kernel,ncomp)\n",
    "    N = size(X,2)\n",
    "    K = zeros(N,N)\n",
    "\n",
    "   for j = 1:N\n",
    "      for i = 1:N\n",
    "        K[i,j] = kernel(X[:,i],X[:,j])\n",
    "      end\n",
    "    end\n",
    "    one_n = ones(N,N)/N\n",
    "    # recenter K\n",
    "    Kp = Symmetric(K - one_n * K - K * one_n + one_n * K * one_n)\n",
    "    \n",
    "    # eigendecomposition with the ncomp lagest eigenvalues\n",
    "#     Λ,V = eigen(Kp,N-ncomp+1:N);\n",
    "#     println(Λ)\n",
    "#     println(V)\n",
    "    \n",
    "    Λ, V = QR_eigen(Kp, 1000);\n",
    "\n",
    "    V = V[:, end-ncomp+1:end];\n",
    "    V = reverse(V, dims=2)\n",
    "    Λ = Λ[end-ncomp+1:end]\n",
    "    Λ = reverse(Λ)\n",
    "\n",
    "    Λ[Λ .< 0] .= 0\n",
    "    λ = Λ/N\n",
    "#     print(size(Diagonal(sqrt.(Λ))))\n",
    "#     print(size(V))\n",
    "    amplitudes = Diagonal(sqrt.(Λ)) * V';\n",
    "\n",
    "    return amplitudes, Λ, V, K\n",
    "end"
   ]
  },
  {
   "cell_type": "code",
   "execution_count": 1083,
   "metadata": {},
   "outputs": [],
   "source": [
    "N = size(X,2)\n",
    "K = zeros(N,N)\n",
    "\n",
    "for j = 1:N\n",
    "  for i = 1:N\n",
    "    K[i,j] = kernel(X[:,i],X[:,j])\n",
    "  end\n",
    "end\n",
    "one_n = ones(N,N)/N\n",
    "# recenter K\n",
    "Kp = Symmetric(K - one_n * K - K * one_n + one_n * K * one_n);"
   ]
  },
  {
   "cell_type": "code",
   "execution_count": 1101,
   "metadata": {},
   "outputs": [
    {
     "data": {
      "text/plain": [
       "Eigen{Float64, Float64, Matrix{Float64}, Vector{Float64}}\n",
       "values:\n",
       "100-element Vector{Float64}:\n",
       " -1.6282067250145834e-15\n",
       "  4.323012038903223e-14\n",
       "  4.3919568348402564e-14\n",
       "  2.5115200529668327e-13\n",
       "  2.5173120648664516e-13\n",
       "  1.1541702951727303e-12\n",
       "  1.1548477527664244e-12\n",
       "  4.61882329053541e-12\n",
       "  4.6234581544587195e-12\n",
       "  1.6813040209075333e-11\n",
       "  1.6821007900505495e-11\n",
       "  5.695903482328884e-11\n",
       "  5.7029184080886505e-11\n",
       "  ⋮\n",
       "  3.612970492247765\n",
       "  4.299999903459879\n",
       "  4.300427437954953\n",
       "  5.01463921430499\n",
       "  5.088965787768314\n",
       "  5.707884281366162\n",
       "  5.708438490897318\n",
       "  6.3162159608595\n",
       "  6.366919414949411\n",
       "  6.770676207059137\n",
       "  6.7711095439535995\n",
       "  7.062724756679956\n",
       "vectors:\n",
       "100×100 Matrix{Float64}:\n",
       " 0.0992558   0.171253      0.184192     …  -0.0219364    0.136994\n",
       " 0.0999988  -0.0890257     0.0835708       -0.129279    -0.113221\n",
       " 0.100023   -0.117454      0.110045        -0.114683    -0.121652\n",
       " 0.0999656   0.0193503    -0.0174152        0.12641     -0.0745529\n",
       " 0.0999999   0.000215852   0.000134016      0.0511815    0.0212841\n",
       " 0.100211   -0.173598      0.161532     …   0.0564746   -0.133874\n",
       " 0.100001    4.00729e-5   -5.60314e-5      -0.0662822    0.0344159\n",
       " 0.0999989   0.000527524  -4.43903e-5       0.0645547   -0.0294851\n",
       " 0.0998819   0.0255052     0.0273465       -0.133511     0.0853533\n",
       " 0.0999429   0.00714648    0.00757303       0.111322     0.0602675\n",
       " 0.0994011   0.144801      0.155716     …  -0.0811906    0.131007\n",
       " 0.0998811   0.173433     -0.161065        -0.0529853   -0.134942\n",
       " 0.100769   -0.172717     -0.185961        -0.00589857   0.137312\n",
       " ⋮                                      ⋱               \n",
       " 0.10046    -0.109501     -0.117914        -0.114683     0.121652\n",
       " 0.0999936  -0.006989      0.00698609      -0.113701    -0.0647807\n",
       " 0.0997438   0.0351459     0.0376524    …   0.134611     0.0877633\n",
       " 0.0995893   0.0969187     0.104177        -0.122838     0.117647\n",
       " 0.0999879  -0.0184256     0.0176779       -0.128679    -0.0787728\n",
       " 0.0999224   0.155395     -0.144393        -0.0811906   -0.131007\n",
       " 0.0999994   0.000277588   0.000185835      0.0384018   -0.0121587\n",
       " 0.10019    -0.132076      0.122749     …   0.106276    -0.123004\n",
       " 0.099984   -0.0368152     0.0348581       -0.136478    -0.0916269\n",
       " 0.0994908   0.122595      0.131812        -0.104927     0.125221\n",
       " 0.100008    0.0123894    -0.0111451       -0.122047    -0.071908\n",
       " 0.100097   -0.164718      0.153907        -0.0675501   -0.133209"
      ]
     },
     "execution_count": 1101,
     "metadata": {},
     "output_type": "execute_result"
    }
   ],
   "source": [
    "Λ,V = eigen(Kp)"
   ]
  },
  {
   "cell_type": "code",
   "execution_count": 1097,
   "metadata": {},
   "outputs": [],
   "source": [
    "Λ, V = QR_eigen(Kp, 3000);"
   ]
  },
  {
   "cell_type": "code",
   "execution_count": 1098,
   "metadata": {
    "scrolled": true
   },
   "outputs": [
    {
     "data": {
      "text/plain": [
       "100-element Vector{Float64}:\n",
       " -1.8251906083042495e-15\n",
       "  4.352182578173281e-14\n",
       "  4.3595664173170004e-14\n",
       "  2.5134487746872574e-13\n",
       "  2.5141745946580695e-13\n",
       "  1.1544598234224909e-12\n",
       "  1.1547183685538405e-12\n",
       "  4.619140903031651e-12\n",
       "  4.6234520735846e-12\n",
       "  1.6813474989499395e-11\n",
       "  1.6820569278786303e-11\n",
       "  5.695893727599697e-11\n",
       "  5.702903754177162e-11\n",
       "  ⋮\n",
       "  3.612970492247751\n",
       "  4.300042494796961\n",
       "  4.30038484661786\n",
       "  5.014639214304987\n",
       "  5.088965787768298\n",
       "  5.708080236886937\n",
       "  5.708242535376539\n",
       "  6.316215960859509\n",
       "  6.366919414949385\n",
       "  6.770792059042054\n",
       "  6.770993691970675\n",
       "  7.062724756679945"
      ]
     },
     "execution_count": 1098,
     "metadata": {},
     "output_type": "execute_result"
    }
   ],
   "source": [
    "Λ"
   ]
  },
  {
   "cell_type": "code",
   "execution_count": 1100,
   "metadata": {
    "scrolled": true
   },
   "outputs": [
    {
     "data": {
      "text/plain": [
       "100×100 Matrix{Float64}:\n",
       "  4.1662e-5    0.0163755     0.253108     …   0.00688682   0.136994\n",
       " -6.06737e-6  -0.122376      0.0105604        0.176271    -0.113221\n",
       " -6.56605e-6  -0.157214      0.0130597        0.156615    -0.121652\n",
       "  9.28837e-7   0.0272501    -0.00370531      -0.175265    -0.0745529\n",
       "  2.7678e-6    0.000698959  -0.000273937     -0.016586     0.0212841\n",
       " -6.242e-6    -0.239487      0.0151949    …  -0.0772772   -0.133874\n",
       "  4.70417e-6  -0.000393755  -0.000403802      0.0235042    0.0344159\n",
       "  4.96992e-6   0.00264069    0.00156742      -0.0895883   -0.0294851\n",
       "  5.73094e-6   0.00260762    0.0369408        0.0469595    0.0853533\n",
       "  4.61899e-6   0.00140991    0.0107738       -0.0361482    0.0602675\n",
       "  3.12518e-5   0.0136811     0.204605     …   0.027677     0.131007\n",
       "  4.15161e-6   0.229661     -0.0177492        0.0730106   -0.134942\n",
       " -4.05251e-5  -0.0215815    -0.250535         0.00138886   0.137312\n",
       "  ⋮                                       ⋱               \n",
       " -3.03501e-5  -0.0135367    -0.165683         0.0397098    0.121652\n",
       "  4.23531e-6  -0.00641397    0.00722388       0.1545      -0.0647807\n",
       "  7.78964e-6   0.0066481     0.052315     …  -0.0439309    0.0877633\n",
       "  2.02052e-5   0.00971481    0.139143         0.0426777    0.117647\n",
       "  1.54537e-6  -0.0232427     0.00795158       0.174964    -0.0787728\n",
       "  3.11578e-6   0.210424     -0.0152516        0.111313    -0.131007\n",
       "  4.63935e-6   0.00123658    0.00128819      -0.0532815   -0.0121587\n",
       " -8.49086e-6  -0.181852      0.0135673    …  -0.146553    -0.123004\n",
       " -1.89322e-6  -0.0506207     0.00843453       0.185705    -0.0916269\n",
       "  2.53927e-5   0.0119108     0.172156         0.0361832    0.125221\n",
       "  3.88845e-6   0.0195323     0.00506609       0.165892    -0.071908\n",
       " -7.55858e-6  -0.22928       0.0178416        0.0928072   -0.133209"
      ]
     },
     "execution_count": 1100,
     "metadata": {},
     "output_type": "execute_result"
    }
   ],
   "source": [
    "V"
   ]
  },
  {
   "cell_type": "code",
   "execution_count": 1066,
   "metadata": {},
   "outputs": [
    {
     "data": {
      "image/png": "[encoded data removed]",
      "text/plain": [
       "Figure(PyObject <Figure size 640x480 with 2 Axes>)"
      ]
     },
     "metadata": {},
     "output_type": "display_data"
    }
   ],
   "source": [
    "ncomp = 2\n",
    "amplitudes, Λ, V, K = kernel_PCA(X,kernel,ncomp)\n",
    "\n",
    "scatter(X[1,:],X[2,:],10,amplitudes[1,:])\n",
    "axis(\"equal\")\n",
    "colorbar();"
   ]
  },
  {
   "cell_type": "code",
   "execution_count": 1070,
   "metadata": {
    "scrolled": true
   },
   "outputs": [
    {
     "data": {
      "text/plain": [
       "2-element Vector{Float64}:\n",
       " 7.062724756679945\n",
       " 6.77097072006987"
      ]
     },
     "execution_count": 1070,
     "metadata": {},
     "output_type": "execute_result"
    }
   ],
   "source": [
    "Λ"
   ]
  },
  {
   "cell_type": "code",
   "execution_count": 1071,
   "metadata": {},
   "outputs": [
    {
     "data": {
      "text/plain": [
       "100×2 Matrix{Float64}:\n",
       "  0.136994    0.00506927\n",
       " -0.113221    0.178403\n",
       " -0.121652    0.158531\n",
       " -0.0745529  -0.177625\n",
       "  0.0212841  -0.0123943\n",
       " -0.133874   -0.0782349\n",
       "  0.0344159   0.0182674\n",
       " -0.0294851  -0.0908018\n",
       "  0.0853533   0.0363749\n",
       "  0.0602675  -0.027038\n",
       "  0.131007    0.021157\n",
       " -0.134942    0.0739572\n",
       "  0.137312    0.000856306\n",
       "  ⋮          \n",
       "  0.121652    0.0305585\n",
       " -0.0647807   0.156326\n",
       "  0.0877633  -0.0329358\n",
       "  0.117647    0.0328892\n",
       " -0.0787728   0.17704\n",
       " -0.131007    0.11271\n",
       " -0.0121587  -0.0540023\n",
       " -0.123004   -0.148462\n",
       " -0.0916269   0.18792\n",
       "  0.125221    0.0277963\n",
       " -0.071908    0.167857\n",
       " -0.133209    0.0939882"
      ]
     },
     "execution_count": 1071,
     "metadata": {},
     "output_type": "execute_result"
    }
   ],
   "source": [
    "V"
   ]
  },
  {
   "cell_type": "code",
   "execution_count": 1067,
   "metadata": {},
   "outputs": [
    {
     "data": {
      "image/png": "[encoded data removed]",
      "text/plain": [
       "Figure(PyObject <Figure size 640x480 with 2 Axes>)"
      ]
     },
     "metadata": {},
     "output_type": "display_data"
    }
   ],
   "source": [
    "scatter(amplitudes[1,:],amplitudes[2,:],10,y)\n",
    "axis(\"equal\")\n",
    "colorbar();"
   ]
  },
  {
   "cell_type": "code",
   "execution_count": 1068,
   "metadata": {},
   "outputs": [
    {
     "data": {
      "image/png": "[encoded data removed]",
      "text/plain": [
       "Figure(PyObject <Figure size 640x480 with 2 Axes>)"
      ]
     },
     "metadata": {},
     "output_type": "display_data"
    }
   ],
   "source": [
    "scatter(amplitudes[1,:],zeros(N),1,y); colorbar();"
   ]
  }
 ],
 "metadata": {
  "kernelspec": {
   "display_name": "Julia 1.6.1",
   "language": "julia",
   "name": "julia-1.6"
  },
  "language_info": {
   "file_extension": ".jl",
   "mimetype": "application/julia",
   "name": "julia",
   "version": "1.6.1"
  }
 },
 "nbformat": 4,
 "nbformat_minor": 4
}
