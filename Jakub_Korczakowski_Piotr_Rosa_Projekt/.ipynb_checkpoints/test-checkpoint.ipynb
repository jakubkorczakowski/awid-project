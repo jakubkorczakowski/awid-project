{
 "cells": [
  {
   "cell_type": "code",
   "execution_count": 1,
   "metadata": {},
   "outputs": [],
   "source": [
    "import Pkg; Pkg.add(\"Polynomials\") "
   ]
  },
  {
   "cell_type": "code",
   "execution_count": 1,
   "metadata": {},
   "outputs": [],
   "source": [
    "using LinearAlgebra"
   ]
  },
  {
   "cell_type": "code",
   "execution_count": 2,
   "metadata": {},
   "outputs": [
    {
     "data": {
      "text/plain": [
       "eye (generic function with 1 method)"
      ]
     },
     "execution_count": 2,
     "metadata": {},
     "output_type": "execute_result"
    }
   ],
   "source": [
    "function eye(n)\n",
    "    return Matrix(I,n,n)\n",
    "end"
   ]
  },
  {
   "cell_type": "code",
   "execution_count": 11,
   "metadata": {},
   "outputs": [],
   "source": [
    "# Find eigenvalues of $A$ via roots of the characteristic polynomial:\n",
    "# using Polynomials \n",
    "# n = 10\n",
    "# A = randn(n,n) \n",
    "# p(x) = det(A-x*eye(n))\n",
    "# x = collect(range(-1,stop=1,length=n+1))\n",
    "# cfs = polyfit(x, map(p,x))\n",
    "# norm( sort(real(roots(cfs))) - sort(real(eigvals(A))), Inf)"
   ]
  },
  {
   "cell_type": "code",
   "execution_count": 10,
   "metadata": {},
   "outputs": [
    {
     "data": {
      "image/png": "[encoded data removed]",
      "text/plain": [
       "Figure(PyObject <Figure size 640x480 with 1 Axes>)"
      ]
     },
     "metadata": {},
     "output_type": "display_data"
    },
    {
     "data": {
      "text/plain": [
       "PyObject <matplotlib.image.AxesImage object at 0x7f5be3c8a2b0>"
      ]
     },
     "execution_count": 10,
     "metadata": {},
     "output_type": "execute_result"
    }
   ],
   "source": [
    "# unshift QR algorithm:\n",
    "using PyPlot\n",
    "A = rand(100,100); \n",
    "\n",
    "for k = 1:1000\n",
    "    (Q,R) = qr(A)\n",
    "    A = R*Q\n",
    "end\n",
    "spy(abs.(A).>1e-4)"
   ]
  },
  {
   "cell_type": "code",
   "execution_count": 12,
   "metadata": {},
   "outputs": [
    {
     "data": {
      "text/plain": [
       "(4.053311977086115e-15, 1.2637195608270738e-15)"
      ]
     },
     "execution_count": 12,
     "metadata": {},
     "output_type": "execute_result"
    }
   ],
   "source": [
    "A = rand(10,10)\n",
    "A0 = A\n",
    "e0 = eigvals(A0)   # Eigenvalues of original matrix\n",
    "(Q,R) = qr(A0)\n",
    "e1 = eigvals(R*Q)  # Eigenvalues of A_1\n",
    "# Same real and imag part:\n",
    "norm( sort(real(e0)) - sort(real(e1)) ), norm( sort(imag(e0)) - sort(imag(e1)) )"
   ]
  },
  {
   "cell_type": "code",
   "execution_count": 3,
   "metadata": {},
   "outputs": [
    {
     "data": {
      "text/plain": [
       "GramSchmidtBasedQRAlgorithm (generic function with 1 method)"
      ]
     },
     "execution_count": 3,
     "metadata": {},
     "output_type": "execute_result"
    }
   ],
   "source": [
    "function OrthogonalProjection( v::Vector, Q::Matrix )\n",
    "   # Orthogonal projection \n",
    "    m = size(Q,2)\n",
    "    for k = 1:m\n",
    "        c = dot(Q[:,k], v)\n",
    "        for j = 1:size(v,1)\n",
    "            v[j] -= c*Q[j,k]\n",
    "        end\n",
    "    end\n",
    "    return v\n",
    "end\n",
    "\n",
    "function OrthogonalPowerIteration( v::Vector, Q::Matrix )\n",
    "   # Do Power iteration, while projecting:\n",
    "    m = size(Q,2)\n",
    "    for k = 1:1000\n",
    "        v = OrthogonalProjection( A*v, Q )\n",
    "        v = v/norm(v)\n",
    "    end\n",
    "    return v\n",
    "end\n",
    "\n",
    "function OrthogonalPowerIteration( v::Vector )\n",
    "   # Do power iteration while projecting:\n",
    "    for k = 1:1000\n",
    "        v = A*v\n",
    "        v = v/norm(v)\n",
    "    end\n",
    "    return v\n",
    "end\n",
    "\n",
    "function GramSchmidtBasedQRAlgorithm( A::Matrix )\n",
    "    # Use Gram-Schmidt and power iteration to compute the eigenvalues of A:\n",
    "    n = size(A,1)\n",
    "    v = rand(n)\n",
    "    Q = OrthogonalPowerIteration( v )\n",
    "    Q = hcat(Q)\n",
    "    for k = 2:n\n",
    "        v = rand( n )\n",
    "        v = OrthogonalPowerIteration( v, Q )\n",
    "        Q = hcat(Q, v)\n",
    "    end\n",
    "    return sort(mean((A*Q)./Q, dims=1)[:],rev=false)\n",
    "end"
   ]
  },
  {
   "cell_type": "code",
   "execution_count": 4,
   "metadata": {},
   "outputs": [],
   "source": [
    "using Random\n",
    "using Statistics"
   ]
  },
  {
   "cell_type": "code",
   "execution_count": 5,
   "metadata": {},
   "outputs": [
    {
     "data": {
      "text/plain": [
       "2.3312399486391964e-9"
      ]
     },
     "execution_count": 5,
     "metadata": {},
     "output_type": "execute_result"
    }
   ],
   "source": [
    "# Random matrix: \n",
    "Random.seed!(1234)\n",
    "A = rand(40,40)\n",
    "A = A'*A\n",
    "# True eigenvectors and eigenvalues.\n",
    "(Λ,S) = eigen( A )\n",
    "# Compute eigenvalues of A via power iteration and Gram-Schmidt: \n",
    "λ = GramSchmidtBasedQRAlgorithm( A::Matrix )\n",
    "norm( Λ - λ )"
   ]
  },
  {
   "cell_type": "code",
   "execution_count": 6,
   "metadata": {},
   "outputs": [
    {
     "data": {
      "text/plain": [
       "OrthogonalIteration (generic function with 1 method)"
      ]
     },
     "execution_count": 6,
     "metadata": {},
     "output_type": "execute_result"
    }
   ],
   "source": [
    "function OrthogonalIteration( A::Matrix )\n",
    "    # Orthogonal iteration on A:\n",
    "    n = size(A,1)\n",
    "    (Q,R) = qr(rand(n,n))\n",
    "    for k = 1:10000\n",
    "        (Q,R) = qr(A*Q)\n",
    "    end\n",
    "    return Q\n",
    "end"
   ]
  },
  {
   "cell_type": "code",
   "execution_count": 8,
   "metadata": {},
   "outputs": [
    {
     "data": {
      "text/plain": [
       "true"
      ]
     },
     "execution_count": 8,
     "metadata": {},
     "output_type": "execute_result"
    }
   ],
   "source": [
    "# For orthogonal iteration U^TAU ---> triangular:  (This may not \n",
    "# always work because we don't have shifts...)\n",
    "A = rand(3,3)\n",
    "U = OrthogonalIteration( A )\n",
    "triu(U'*A*U) ≈ U'*A*U"
   ]
  },
  {
   "cell_type": "code",
   "execution_count": 9,
   "metadata": {},
   "outputs": [
    {
     "data": {
      "text/plain": [
       "HessenbergReduction (generic function with 1 method)"
      ]
     },
     "execution_count": 9,
     "metadata": {},
     "output_type": "execute_result"
    }
   ],
   "source": [
    "function HessenbergReduction( A::Matrix )\n",
    "    # Reduce A to a Hessenberg matrix H so that A and H are similar:\n",
    "    \n",
    "    n = size(A, 1)\n",
    "    H = A\n",
    "    if ( n > 2 )\n",
    "        a1 = A[2:n, 1]\n",
    "        e1 = zeros(n-1); e1[1] = 1\n",
    "        sgn = sign(a1[1])\n",
    "        v = (a1 + sgn*norm(a1)*e1); v = v./norm(v)\n",
    "        Q1 = eye(n-1) - 2*(v*v')\n",
    "        A[2:n,1] = Q1*A[2:n,1]\n",
    "        A[1,2:n] = Q1*A[1,2:n]\n",
    "        A[2:n,2:n] = Q1*A[2:n,2:n]*Q1' \n",
    "        H = HessenbergReduction( A[2:n,2:n] )\n",
    "    else\n",
    "        H = copy(A)\n",
    "    end\n",
    "   return A\n",
    "end"
   ]
  },
  {
   "cell_type": "code",
   "execution_count": 10,
   "metadata": {},
   "outputs": [
    {
     "data": {
      "text/plain": [
       "true"
      ]
     },
     "execution_count": 10,
     "metadata": {},
     "output_type": "execute_result"
    }
   ],
   "source": [
    "A = rand(4,4)\n",
    "e = eigvals(A)\n",
    "H = HessenbergReduction( A )\n",
    "e ≈ eigvals(A)"
   ]
  },
  {
   "cell_type": "code",
   "execution_count": 11,
   "metadata": {},
   "outputs": [
    {
     "data": {
      "text/plain": [
       "mgs (generic function with 1 method)"
      ]
     },
     "execution_count": 11,
     "metadata": {},
     "output_type": "execute_result"
    }
   ],
   "source": [
    "function mgs(A::Matrix)\n",
    "    n = size(A,1);\n",
    "    R = zeros(n, n);\n",
    "    Q = zeros(n, n);\n",
    "    for j = 1:n\n",
    "        v = A[:,j];\n",
    "        for i = 1:j-1\n",
    "            R[i,j] = Q[:,i]'*v;\n",
    "            v = v - R[i,j]*Q[:,i];\n",
    "        end\n",
    "        R[j,j] = norm(v)\n",
    "        Q[:,j] = v / R[j,j]\n",
    "    end\n",
    "    return Q,R\n",
    "end"
   ]
  },
  {
   "cell_type": "code",
   "execution_count": 12,
   "metadata": {},
   "outputs": [
    {
     "data": {
      "text/plain": [
       "QRwithoutShifts (generic function with 1 method)"
      ]
     },
     "execution_count": 12,
     "metadata": {},
     "output_type": "execute_result"
    }
   ],
   "source": [
    "function WilkinsonShift( a::Number, b::Number, c::Number )\n",
    "    # Calculate Wilkinson's shift for symmetric matrices: \n",
    "    δ = (a-c)/2\n",
    "    return c - sign(δ)*b^2/(abs(δ) + sqrt(δ^2+b^2))\n",
    "end\n",
    "\n",
    "function QRwithShifts( A::Matrix, iter_number::Int )\n",
    "   # The QR algorithm for symmetric A with Rayleigh shifts and Hessenberg reduction. Please use eigvals() in \n",
    "   # Julia for serious applications.\n",
    "    n = size(A,1)\n",
    "    myeigs = zeros(n)\n",
    "    if ( n == 1 )\n",
    "        myeigs[1] = A[1,1]\n",
    "    else\n",
    "        I = eye( n )\n",
    "        # Reduction to Hessenberg form:\n",
    "        A = HessenbergReduction( A )\n",
    "        # Let's start the shifted QR algorithm with \n",
    "#         while( norm(A[n,n-1]) > 1e-10 )\n",
    "        for i = 1:iter_number\n",
    "            mu = WilkinsonShift( A[n-1,n-1], A[n,n], A[n-1,n] )\n",
    "            # This line should use faster Hessenberg reduction:\n",
    "            (Q,R) = mgs(A - mu*I)\n",
    "            # This line needs speeding up, currently O(n^3) operations!: \n",
    "            A = R*Q + mu*I\n",
    "        end\n",
    "        # Deflation and recurse:\n",
    "        myeigs = [A[n,n] ; QRwithShifts( A[1:n-1, 1:n-1], iter_number )]\n",
    "    end\n",
    "    return myeigs\n",
    "end\n",
    "\n",
    "function QRwithoutShifts( A::Matrix, iter_number::Int )\n",
    "   # The QR algorithm for symmetric A with Rayleigh shifts and Hessenberg reduction. Please use eigvals() in \n",
    "   # Julia for serious applications.\n",
    "    n = size(A,1)\n",
    "    myeigs = zeros(n)\n",
    "    if ( n == 1 )\n",
    "        myeigs[1] = A[1,1]\n",
    "    else\n",
    "        I = eye( n )\n",
    "        # Reduction to Hessenberg form:\n",
    "        A = HessenbergReduction( A )\n",
    "        # Let's start the shifted QR algorithm with \n",
    "#         while( norm(A[n,n-1]) > 1e-10 )\n",
    "        for i = 1:iter_number\n",
    "            (Q,R) = mgs(A)\n",
    "            # This line needs speeding up, currently O(n^3) operations!: \n",
    "            A = R*Q\n",
    "        end\n",
    "        # Deflation and recurse:\n",
    "        myeigs = [A[n,n] ; QRwithoutShifts( A[1:n-1, 1:n-1], iter_number)]\n",
    "    end\n",
    "    return myeigs\n",
    "end"
   ]
  },
  {
   "cell_type": "code",
   "execution_count": 25,
   "metadata": {
    "scrolled": true
   },
   "outputs": [
    {
     "data": {
      "text/plain": [
       "QR_eigen (generic function with 1 method)"
      ]
     },
     "execution_count": 25,
     "metadata": {},
     "output_type": "execute_result"
    }
   ],
   "source": [
    "function QR_eigen(A::Matrix, l::Integer)\n",
    "    Q,R = gram_schmidt(A);\n",
    "    E = eye(size(A,1))\n",
    "    for k = 1:l\n",
    "        Q,R = gram_schmidt(A);\n",
    "        A = R*Q;\n",
    "        E = E*Q\n",
    "    end\n",
    "    diag(A), E\n",
    "end"
   ]
  },
  {
   "cell_type": "code",
   "execution_count": 37,
   "metadata": {},
   "outputs": [
    {
     "data": {
      "text/plain": [
       "gram_schmidt (generic function with 1 method)"
      ]
     },
     "execution_count": 37,
     "metadata": {},
     "output_type": "execute_result"
    }
   ],
   "source": [
    "function gram_schmidt(X)\n",
    "#     U = similar(X, Float64) # for robustness\n",
    "    \n",
    "    U = zeros(size(X))\n",
    "    print(size(U))\n",
    "    \n",
    "    function normalized_orthogonal_projection(b, Z)\n",
    "        # project onto the orthogonal complement of the col span of Z\n",
    "        orthogonal = I - Z * inv(Z'Z) * Z'\n",
    "        projection = orthogonal * b\n",
    "        # normalize\n",
    "        return projection / norm(projection)\n",
    "    end\n",
    "    \n",
    "    for col in 1:size(U, 2)\n",
    "        # set up\n",
    "        b = X[:,col] # vector we're going to project\n",
    "        Z = X[:,1:col - 1] # first i-1 columns of X\n",
    "        U[:,col] = normalized_orthogonal_projection(b, Z)\n",
    "    end\n",
    "    return U\n",
    "end"
   ]
  },
  {
   "cell_type": "code",
   "execution_count": 38,
   "metadata": {
    "scrolled": false
   },
   "outputs": [
    {
     "name": "stdout",
     "output_type": "stream",
     "text": [
      "dupadupadupadupadupadupadupadupadupadupadupadupadupadupadupadupadupadupadupadupadupa"
     ]
    },
    {
     "ename": "LoadError",
     "evalue": "MethodError: no method matching getindex(::Float64, ::Colon, ::Int64)\n\u001b[0mClosest candidates are:\n\u001b[0m  getindex(::Number, \u001b[91m::Integer...\u001b[39m) at number.jl:99\n\u001b[0m  getindex(::Number) at number.jl:93\n\u001b[0m  getindex(::Number, \u001b[91m::Integer\u001b[39m) at number.jl:94\n\u001b[0m  ...",
     "output_type": "error",
     "traceback": [
      "MethodError: no method matching getindex(::Float64, ::Colon, ::Int64)\n\u001b[0mClosest candidates are:\n\u001b[0m  getindex(::Number, \u001b[91m::Integer...\u001b[39m) at number.jl:99\n\u001b[0m  getindex(::Number) at number.jl:93\n\u001b[0m  getindex(::Number, \u001b[91m::Integer\u001b[39m) at number.jl:94\n\u001b[0m  ...",
      "",
      "Stacktrace:",
      " [1] gram_schmidt(X::Float64)",
      "   @ Main ./In[37]:17",
      " [2] QR_eigen(A::Matrix{Float64}, l::Int64)",
      "   @ Main ./In[25]:5",
      " [3] top-level scope",
      "   @ In[38]:4",
      " [4] eval",
      "   @ ./boot.jl:360 [inlined]",
      " [5] include_string(mapexpr::typeof(REPL.softscope), mod::Module, code::String, filename::String)",
      "   @ Base ./loading.jl:1094"
     ]
    }
   ],
   "source": [
    "n = 10\n",
    "A = randn(n,n)\n",
    "A = A'*A\n",
    "er = QR_eigen(A, 1000)\n",
    "# er = QRwithShifts(A, 100)\n",
    "# er = QRwithoutShifts(A, 100)\n",
    "# er = myQR(A, 10000)\n",
    "sort(er) ≈ sort(eigvals(A))\n",
    "# print(sum(sort(er) - sort(eigvals(A))))\n",
    "# print(sort(er) - sort(eigvals(A)))\n",
    "# print(er)"
   ]
  },
  {
   "cell_type": "code",
   "execution_count": 19,
   "metadata": {},
   "outputs": [
    {
     "data": {
      "text/plain": [
       "10-element Vector{Float64}:\n",
       "  0.06675628072274137\n",
       "  0.16152541491018896\n",
       "  1.3638129163527442\n",
       "  2.423443001684813\n",
       "  6.494793419399498\n",
       "  8.588259109244433\n",
       "  8.920153567598604\n",
       " 17.099893485553224\n",
       " 26.420030424595858\n",
       " 28.333962414923334"
      ]
     },
     "execution_count": 19,
     "metadata": {},
     "output_type": "execute_result"
    }
   ],
   "source": [
    "sort(er)"
   ]
  },
  {
   "cell_type": "code",
   "execution_count": 20,
   "metadata": {},
   "outputs": [
    {
     "data": {
      "text/plain": [
       "10-element Vector{Float64}:\n",
       "  0.06675628072274152\n",
       "  0.16152541491018893\n",
       "  1.3638129163527442\n",
       "  2.423443001684811\n",
       "  6.494793419399497\n",
       "  8.588259109244426\n",
       "  8.920153567598625\n",
       " 17.099893485553242\n",
       " 26.420030424595843\n",
       " 28.333962414923292"
      ]
     },
     "execution_count": 20,
     "metadata": {},
     "output_type": "execute_result"
    }
   ],
   "source": [
    "eigvals(A)"
   ]
  },
  {
   "cell_type": "code",
   "execution_count": 188,
   "metadata": {},
   "outputs": [
    {
     "data": {
      "text/plain": [
       "2 - 9im"
      ]
     },
     "execution_count": 188,
     "metadata": {},
     "output_type": "execute_result"
    }
   ],
   "source": [
    "x = (2-9im)"
   ]
  },
  {
   "cell_type": "code",
   "execution_count": 189,
   "metadata": {},
   "outputs": [
    {
     "data": {
      "text/plain": [
       "0.21693045781865616 - 0.9761870601839528im"
      ]
     },
     "execution_count": 189,
     "metadata": {},
     "output_type": "execute_result"
    }
   ],
   "source": [
    "sign(x)"
   ]
  },
  {
   "cell_type": "code",
   "execution_count": 184,
   "metadata": {},
   "outputs": [
    {
     "data": {
      "text/plain": [
       "12"
      ]
     },
     "execution_count": 184,
     "metadata": {},
     "output_type": "execute_result"
    }
   ],
   "source": [
    "y = 12"
   ]
  },
  {
   "cell_type": "code",
   "execution_count": 185,
   "metadata": {},
   "outputs": [
    {
     "data": {
      "text/plain": [
       "1"
      ]
     },
     "execution_count": 185,
     "metadata": {},
     "output_type": "execute_result"
    }
   ],
   "source": [
    "sign(y)"
   ]
  }
 ],
 "metadata": {
  "kernelspec": {
   "display_name": "Julia 1.6.1",
   "language": "julia",
   "name": "julia-1.6"
  },
  "language_info": {
   "file_extension": ".jl",
   "mimetype": "application/julia",
   "name": "julia",
   "version": "1.6.1"
  }
 },
 "nbformat": 4,
 "nbformat_minor": 2
}
